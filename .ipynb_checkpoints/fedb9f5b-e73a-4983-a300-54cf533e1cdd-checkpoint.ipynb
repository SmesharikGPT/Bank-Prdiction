{
 "cells": [
  {
   "cell_type": "markdown",
   "metadata": {
    "id": "3xuHtzo8__hV",
    "toc": true
   },
   "source": [
    "<h1>Содержание<span class=\"tocSkip\"></span></h1>\n",
    "<div class=\"toc\"><ul class=\"toc-item\"><li><span><a href=\"#Подготовка-данных\" data-toc-modified-id=\"Подготовка-данных-1\"><span class=\"toc-item-num\">1&nbsp;&nbsp;</span>Подготовка данных</a></span><ul class=\"toc-item\"><li><span><a href=\"#Блок-импорта-библиотек\" data-toc-modified-id=\"Блок-импорта-библиотек-1.1\"><span class=\"toc-item-num\">1.1&nbsp;&nbsp;</span>Блок импорта библиотек</a></span></li><li><span><a href=\"#Ознакомление-с-данными\" data-toc-modified-id=\"Ознакомление-с-данными-1.2\"><span class=\"toc-item-num\">1.2&nbsp;&nbsp;</span>Ознакомление с данными</a></span></li><li><span><a href=\"#Вывод-по-ознакомлению-с-данными:\" data-toc-modified-id=\"Вывод-по-ознакомлению-с-данными:-1.3\"><span class=\"toc-item-num\">1.3&nbsp;&nbsp;</span>Вывод по ознакомлению с данными:</a></span></li><li><span><a href=\"#Удаление-пропусков-в-столбце-Tenure-(сколько-лет-человек-является-клиентом-банка):\" data-toc-modified-id=\"Удаление-пропусков-в-столбце-Tenure-(сколько-лет-человек-является-клиентом-банка):-1.4\"><span class=\"toc-item-num\">1.4&nbsp;&nbsp;</span>Удаление пропусков в столбце Tenure (сколько лет человек является клиентом банка):</a></span></li><li><span><a href=\"#Удаление-столбцов,-не-оказывающих-влияние-на-будущую-модель-по-предсказанию-принятия-решения-ухода-из-банка-(RowNumber,-CustomerId,-Surname):\" data-toc-modified-id=\"Удаление-столбцов,-не-оказывающих-влияние-на-будущую-модель-по-предсказанию-принятия-решения-ухода-из-банка-(RowNumber,-CustomerId,-Surname):-1.5\"><span class=\"toc-item-num\">1.5&nbsp;&nbsp;</span>Удаление столбцов, не оказывающих влияние на будущую модель по предсказанию принятия решения ухода из банка (RowNumber, CustomerId, Surname):</a></span></li><li><span><a href=\"#Замена-значений-столбца-Gender-на-1-и-0:\" data-toc-modified-id=\"Замена-значений-столбца-Gender-на-1-и-0:-1.6\"><span class=\"toc-item-num\">1.6&nbsp;&nbsp;</span>Замена значений столбца Gender на 1 и 0:</a></span></li><li><span><a href=\"#Прямое-кодирование-(One-Hot-Encoding)-для-столбца-Geography\" data-toc-modified-id=\"Прямое-кодирование-(One-Hot-Encoding)-для-столбца-Geography-1.7\"><span class=\"toc-item-num\">1.7&nbsp;&nbsp;</span>Прямое кодирование (One-Hot Encoding) для столбца Geography</a></span></li><li><span><a href=\"#Вопрос-с-прямым-кодированием-столбца-NumOfProducts-:\" data-toc-modified-id=\"Вопрос-с-прямым-кодированием-столбца-NumOfProducts-:-1.8\"><span class=\"toc-item-num\">1.8&nbsp;&nbsp;</span>Вопрос с прямым кодированием столбца NumOfProducts :</a></span></li><li><span><a href=\"#Приведение-категориальных-столбцов-к-типу-'сategory'\" data-toc-modified-id=\"Приведение-категориальных-столбцов-к-типу-'сategory'-1.9\"><span class=\"toc-item-num\">1.9&nbsp;&nbsp;</span>Приведение категориальных столбцов к типу 'сategory'</a></span></li><li><span><a href=\"#Проверка-мультиколлинеарности-фичей-методом-Phik(𝜙k):\" data-toc-modified-id=\"Проверка-мультиколлинеарности-фичей-методом-Phik(𝜙k):-1.10\"><span class=\"toc-item-num\">1.10&nbsp;&nbsp;</span>Проверка мультиколлинеарности фичей методом Phik(𝜙k):</a></span></li><li><span><a href=\"#Матрица-корреляции\" data-toc-modified-id=\"Матрица-корреляции-1.11\"><span class=\"toc-item-num\">1.11&nbsp;&nbsp;</span>Матрица корреляции</a></span></li><li><span><a href=\"#Общий-вывод-по-ознакомлению-с-данными-:\" data-toc-modified-id=\"Общий-вывод-по-ознакомлению-с-данными-:-1.12\"><span class=\"toc-item-num\">1.12&nbsp;&nbsp;</span>Общий вывод по ознакомлению с данными :</a></span></li></ul></li><li><span><a href=\"#Исследование-задачи\" data-toc-modified-id=\"Исследование-задачи-2\"><span class=\"toc-item-num\">2&nbsp;&nbsp;</span>Исследование задачи</a></span><ul class=\"toc-item\"><li><span><a href=\"#Создание-выборок\" data-toc-modified-id=\"Создание-выборок-2.1\"><span class=\"toc-item-num\">2.1&nbsp;&nbsp;</span>Создание выборок</a></span></li><li><span><a href=\"#Масштабирование-численных-признаков\" data-toc-modified-id=\"Масштабирование-численных-признаков-2.2\"><span class=\"toc-item-num\">2.2&nbsp;&nbsp;</span>Масштабирование численных признаков</a></span></li><li><span><a href=\"#Подбор-модели\" data-toc-modified-id=\"Подбор-модели-2.3\"><span class=\"toc-item-num\">2.3&nbsp;&nbsp;</span>Подбор модели</a></span></li><li><span><a href=\"#Модель-Решающего-Дерева\" data-toc-modified-id=\"Модель-Решающего-Дерева-2.4\"><span class=\"toc-item-num\">2.4&nbsp;&nbsp;</span>Модель Решающего Дерева</a></span></li><li><span><a href=\"#Модель-случайного-леса\" data-toc-modified-id=\"Модель-случайного-леса-2.5\"><span class=\"toc-item-num\">2.5&nbsp;&nbsp;</span>Модель случайного леса</a></span></li><li><span><a href=\"#Модель-логистической-регрессии\" data-toc-modified-id=\"Модель-логистической-регрессии-2.6\"><span class=\"toc-item-num\">2.6&nbsp;&nbsp;</span>Модель логистической регрессии</a></span></li><li><span><a href=\"#Вывод-по-исследованию-моделей:\" data-toc-modified-id=\"Вывод-по-исследованию-моделей:-2.7\"><span class=\"toc-item-num\">2.7&nbsp;&nbsp;</span>Вывод по исследованию моделей:</a></span></li></ul></li><li><span><a href=\"#Борьба-с-дисбалансом\" data-toc-modified-id=\"Борьба-с-дисбалансом-3\"><span class=\"toc-item-num\">3&nbsp;&nbsp;</span>Борьба с дисбалансом</a></span><ul class=\"toc-item\"><li><span><a href=\"#Доли-значений-целевого-столбца\" data-toc-modified-id=\"Доли-значений-целевого-столбца-3.1\"><span class=\"toc-item-num\">3.1&nbsp;&nbsp;</span>Доли значений целевого столбца</a></span></li><li><span><a href=\"#Матрица-ошибок-решающего-дерева\" data-toc-modified-id=\"Матрица-ошибок-решающего-дерева-3.2\"><span class=\"toc-item-num\">3.2&nbsp;&nbsp;</span>Матрица ошибок решающего дерева</a></span></li><li><span><a href=\"#Recall\" data-toc-modified-id=\"Recall-3.3\"><span class=\"toc-item-num\">3.3&nbsp;&nbsp;</span>Recall</a></span></li><li><span><a href=\"#Precision\" data-toc-modified-id=\"Precision-3.4\"><span class=\"toc-item-num\">3.4&nbsp;&nbsp;</span>Precision</a></span></li><li><span><a href=\"#F-1\" data-toc-modified-id=\"F-1-3.5\"><span class=\"toc-item-num\">3.5&nbsp;&nbsp;</span>F-1</a></span></li><li><span><a href=\"#Thresholds\" data-toc-modified-id=\"Thresholds-3.6\"><span class=\"toc-item-num\">3.6&nbsp;&nbsp;</span>Thresholds</a></span><ul class=\"toc-item\"><li><span><a href=\"#Вероятность-классов\" data-toc-modified-id=\"Вероятность-классов-3.6.1\"><span class=\"toc-item-num\">3.6.1&nbsp;&nbsp;</span>Вероятность классов</a></span></li><li><span><a href=\"#Перебор-порогов\" data-toc-modified-id=\"Перебор-порогов-3.6.2\"><span class=\"toc-item-num\">3.6.2&nbsp;&nbsp;</span>Перебор порогов</a></span></li><li><span><a href=\"#Разметка-классов-по-порогу\" data-toc-modified-id=\"Разметка-классов-по-порогу-3.6.3\"><span class=\"toc-item-num\">3.6.3&nbsp;&nbsp;</span>Разметка классов по порогу</a></span></li><li><span><a href=\"#Результат-изменения-порога\" data-toc-modified-id=\"Результат-изменения-порога-3.6.4\"><span class=\"toc-item-num\">3.6.4&nbsp;&nbsp;</span>Результат изменения порога</a></span></li></ul></li><li><span><a href=\"#Метод-взвешивания-классов\" data-toc-modified-id=\"Метод-взвешивания-классов-3.7\"><span class=\"toc-item-num\">3.7&nbsp;&nbsp;</span>Метод взвешивания классов</a></span><ul class=\"toc-item\"><li><span><a href=\"#Решающее-дерево:\" data-toc-modified-id=\"Решающее-дерево:-3.7.1\"><span class=\"toc-item-num\">3.7.1&nbsp;&nbsp;</span>Решающее дерево:</a></span></li><li><span><a href=\"#Случайный-лес:\" data-toc-modified-id=\"Случайный-лес:-3.7.2\"><span class=\"toc-item-num\">3.7.2&nbsp;&nbsp;</span>Случайный лес:</a></span></li><li><span><a href=\"#Логистическая-регрессия:\" data-toc-modified-id=\"Логистическая-регрессия:-3.7.3\"><span class=\"toc-item-num\">3.7.3&nbsp;&nbsp;</span>Логистическая регрессия:</a></span></li><li><span><a href=\"#Результаты-после-взвешивания-классов:\" data-toc-modified-id=\"Результаты-после-взвешивания-классов:-3.7.4\"><span class=\"toc-item-num\">3.7.4&nbsp;&nbsp;</span>Результаты после взвешивания классов:</a></span></li></ul></li><li><span><a href=\"#Downsampling-+-Cross-validation\" data-toc-modified-id=\"Downsampling-+-Cross-validation-3.8\"><span class=\"toc-item-num\">3.8&nbsp;&nbsp;</span>Downsampling + Cross-validation</a></span></li><li><span><a href=\"#Вывод-по-решающему-дереву:\" data-toc-modified-id=\"Вывод-по-решающему-дереву:-3.9\"><span class=\"toc-item-num\">3.9&nbsp;&nbsp;</span>Вывод по решающему дереву:</a></span></li><li><span><a href=\"#Даунсеплинг-с-кросс-валидацией-случайного-леса\" data-toc-modified-id=\"Даунсеплинг-с-кросс-валидацией-случайного-леса-3.10\"><span class=\"toc-item-num\">3.10&nbsp;&nbsp;</span>Даунсеплинг с кросс-валидацией случайного леса</a></span></li><li><span><a href=\"#Вывод-по-случайному-лесу:\" data-toc-modified-id=\"Вывод-по-случайному-лесу:-3.11\"><span class=\"toc-item-num\">3.11&nbsp;&nbsp;</span>Вывод по случайному лесу:</a></span></li></ul></li><li><span><a href=\"#Тестирование-модели\" data-toc-modified-id=\"Тестирование-модели-4\"><span class=\"toc-item-num\">4&nbsp;&nbsp;</span>Тестирование модели</a></span><ul class=\"toc-item\"><li><span><a href=\"#Предсказание-лучшей-модели-на-тестовых-данных:\" data-toc-modified-id=\"Предсказание-лучшей-модели-на-тестовых-данных:-4.1\"><span class=\"toc-item-num\">4.1&nbsp;&nbsp;</span>Предсказание лучшей модели на тестовых данных:</a></span></li><li><span><a href=\"#Модель-случайного-леса-с-взвешенными-классами\" data-toc-modified-id=\"Модель-случайного-леса-с-взвешенными-классами-4.2\"><span class=\"toc-item-num\">4.2&nbsp;&nbsp;</span>Модель случайного леса с взвешенными классами</a></span></li><li><span><a href=\"#Метрика-F-1:\" data-toc-modified-id=\"Метрика-F-1:-4.3\"><span class=\"toc-item-num\">4.3&nbsp;&nbsp;</span>Метрика F-1:</a></span></li><li><span><a href=\"#Матрица-ошибок-модели:\" data-toc-modified-id=\"Матрица-ошибок-модели:-4.4\"><span class=\"toc-item-num\">4.4&nbsp;&nbsp;</span>Матрица ошибок модели:</a></span></li><li><span><a href=\"#Точность-и-полнота:\" data-toc-modified-id=\"Точность-и-полнота:-4.5\"><span class=\"toc-item-num\">4.5&nbsp;&nbsp;</span>Точность и полнота:</a></span></li><li><span><a href=\"#ROC-кривая:\" data-toc-modified-id=\"ROC-кривая:-4.6\"><span class=\"toc-item-num\">4.6&nbsp;&nbsp;</span>ROC-кривая:</a></span></li></ul></li><li><span><a href=\"#Общий-вывод:\" data-toc-modified-id=\"Общий-вывод:-5\"><span class=\"toc-item-num\">5&nbsp;&nbsp;</span>Общий вывод:</a></span></li><li><span><a href=\"#Чек-лист-готовности-проекта\" data-toc-modified-id=\"Чек-лист-готовности-проекта-6\"><span class=\"toc-item-num\">6&nbsp;&nbsp;</span>Чек-лист готовности проекта</a></span></li></ul></div>"
   ]
  },
  {
   "cell_type": "markdown",
   "metadata": {
    "id": "3Xq3E9Eu__hW"
   },
   "source": [
    "# Отток клиентов"
   ]
  },
  {
   "cell_type": "markdown",
   "metadata": {
    "id": "zD14mqfq__hW"
   },
   "source": [
    "Из «Бета-Банка» стали уходить клиенты. Каждый месяц. Немного, но заметно. Банковские маркетологи посчитали: сохранять текущих клиентов дешевле, чем привлекать новых.\n",
    "\n",
    "Нужно спрогнозировать, уйдёт клиент из банка в ближайшее время или нет. Вам предоставлены исторические данные о поведении клиентов и расторжении договоров с банком. \n",
    "\n",
    "Постройте модель с предельно большим значением *F1*-меры. Чтобы сдать проект успешно, нужно довести метрику до 0.59. Проверьте *F1*-меру на тестовой выборке самостоятельно.\n",
    "\n",
    "Дополнительно измеряйте *AUC-ROC*, сравнивайте её значение с *F1*-мерой.\n",
    "\n",
    "Источник данных: [https://www.kaggle.com/barelydedicated/bank-customer-churn-modeling](https://www.kaggle.com/barelydedicated/bank-customer-churn-modeling)"
   ]
  },
  {
   "cell_type": "markdown",
   "metadata": {
    "id": "XUXoo8Nx__hW"
   },
   "source": [
    "## Подготовка данных"
   ]
  },
  {
   "cell_type": "markdown",
   "metadata": {
    "id": "C18TutnY__hW"
   },
   "source": [
    "### Блок импорта библиотек"
   ]
  },
  {
   "cell_type": "code",
   "execution_count": null,
   "metadata": {
    "id": "7nCfN9TC__hX",
    "outputId": "6029f242-aa92-4296-aebc-f93030255378"
   },
   "outputs": [
    {
     "name": "stdout",
     "output_type": "stream",
     "text": [
      "Requirement already satisfied: phik in /opt/conda/lib/python3.9/site-packages (0.12.3)\n",
      "Requirement already satisfied: numpy>=1.18.0 in /opt/conda/lib/python3.9/site-packages (from phik) (1.21.1)\n",
      "Requirement already satisfied: joblib>=0.14.1 in /opt/conda/lib/python3.9/site-packages (from phik) (1.1.0)\n",
      "Requirement already satisfied: matplotlib>=2.2.3 in /opt/conda/lib/python3.9/site-packages (from phik) (3.3.4)\n",
      "Requirement already satisfied: scipy>=1.5.2 in /opt/conda/lib/python3.9/site-packages (from phik) (1.9.1)\n",
      "Requirement already satisfied: pandas>=0.25.1 in /opt/conda/lib/python3.9/site-packages (from phik) (1.2.4)\n",
      "Requirement already satisfied: pillow>=6.2.0 in /opt/conda/lib/python3.9/site-packages (from matplotlib>=2.2.3->phik) (8.4.0)\n",
      "Requirement already satisfied: python-dateutil>=2.1 in /opt/conda/lib/python3.9/site-packages (from matplotlib>=2.2.3->phik) (2.8.1)\n",
      "Requirement already satisfied: pyparsing!=2.0.4,!=2.1.2,!=2.1.6,>=2.0.3 in /opt/conda/lib/python3.9/site-packages (from matplotlib>=2.2.3->phik) (2.4.7)\n",
      "Requirement already satisfied: cycler>=0.10 in /opt/conda/lib/python3.9/site-packages (from matplotlib>=2.2.3->phik) (0.11.0)\n",
      "Requirement already satisfied: kiwisolver>=1.0.1 in /opt/conda/lib/python3.9/site-packages (from matplotlib>=2.2.3->phik) (1.4.4)\n",
      "Requirement already satisfied: pytz>=2017.3 in /opt/conda/lib/python3.9/site-packages (from pandas>=0.25.1->phik) (2021.1)\n",
      "Requirement already satisfied: six>=1.5 in /opt/conda/lib/python3.9/site-packages (from python-dateutil>=2.1->matplotlib>=2.2.3->phik) (1.16.0)\n"
     ]
    }
   ],
   "source": [
    "!pip install phik "
   ]
  },
  {
   "cell_type": "code",
   "execution_count": null,
   "metadata": {
    "id": "fFSzuEhs__hX"
   },
   "outputs": [],
   "source": [
    "# импорт pandas для работы с таблицами\n",
    "import pandas as pd \n",
    "# установка seaborn и matplotlib для графиков\n",
    "import seaborn as sns\n",
    "import matplotlib.pyplot as plt\n",
    "# масштабирование признаков\n",
    "from sklearn.preprocessing import StandardScaler\n",
    "# Модель решающего дерева\n",
    "from sklearn.tree import DecisionTreeClassifier\n",
    "# Алгоритм случайного леса\n",
    "from sklearn.ensemble import RandomForestClassifier\n",
    "# Импорт модели логистической регрессии\n",
    "from sklearn.linear_model import LogisticRegression\n",
    "import numpy as np\n",
    "from sklearn.utils import shuffle\n",
    "from sklearn.model_selection import (\n",
    "    GridSearchCV,\n",
    "    RandomizedSearchCV,\n",
    "    train_test_split \n",
    ")  \n",
    "from sklearn.metrics import (\n",
    "    accuracy_score, \n",
    "    confusion_matrix, \n",
    "    f1_score, \n",
    "    mean_squared_error, \n",
    "    roc_auc_score,\n",
    "    roc_curve,\n",
    "    recall_score,\n",
    "    precision_score\n",
    ")\n",
    "import phik\n",
    "from phik.report import plot_correlation_matrix\n",
    "from phik import report"
   ]
  },
  {
   "cell_type": "markdown",
   "metadata": {
    "id": "XeT4ESkd__hY"
   },
   "source": [
    "<br/>    \n",
    "<div class=\"alert alert-info\">\n",
    "<h2> Комментарий студента: <a class=\"tocSkip\"> </h2>\n",
    "<b></b> Выполнил инсталяцию phik в отдельной ячейке + постарался привести оформления в импорте библиотек в соответствие с примером.\n",
    "</div> "
   ]
  },
  {
   "cell_type": "markdown",
   "metadata": {
    "id": "H6j8nJTK__hY"
   },
   "source": [
    "### Ознакомление с данными"
   ]
  },
  {
   "cell_type": "code",
   "execution_count": null,
   "metadata": {
    "id": "-nygML4B__hY"
   },
   "outputs": [],
   "source": [
    "df = pd.read_csv('/datasets/Churn.csv') # записываем в переменную"
   ]
  },
  {
   "cell_type": "code",
   "execution_count": null,
   "metadata": {
    "id": "nUcLGp-C__hY",
    "outputId": "71c2e2b6-4971-4328-fb76-161a4031a952"
   },
   "outputs": [
    {
     "data": {
      "text/html": [
       "<div>\n",
       "<style scoped>\n",
       "    .dataframe tbody tr th:only-of-type {\n",
       "        vertical-align: middle;\n",
       "    }\n",
       "\n",
       "    .dataframe tbody tr th {\n",
       "        vertical-align: top;\n",
       "    }\n",
       "\n",
       "    .dataframe thead th {\n",
       "        text-align: right;\n",
       "    }\n",
       "</style>\n",
       "<table border=\"1\" class=\"dataframe\">\n",
       "  <thead>\n",
       "    <tr style=\"text-align: right;\">\n",
       "      <th></th>\n",
       "      <th>RowNumber</th>\n",
       "      <th>CustomerId</th>\n",
       "      <th>Surname</th>\n",
       "      <th>CreditScore</th>\n",
       "      <th>Geography</th>\n",
       "      <th>Gender</th>\n",
       "      <th>Age</th>\n",
       "      <th>Tenure</th>\n",
       "      <th>Balance</th>\n",
       "      <th>NumOfProducts</th>\n",
       "      <th>HasCrCard</th>\n",
       "      <th>IsActiveMember</th>\n",
       "      <th>EstimatedSalary</th>\n",
       "      <th>Exited</th>\n",
       "    </tr>\n",
       "  </thead>\n",
       "  <tbody>\n",
       "    <tr>\n",
       "      <th>0</th>\n",
       "      <td>1</td>\n",
       "      <td>15634602</td>\n",
       "      <td>Hargrave</td>\n",
       "      <td>619</td>\n",
       "      <td>France</td>\n",
       "      <td>Female</td>\n",
       "      <td>42</td>\n",
       "      <td>2.0</td>\n",
       "      <td>0.00</td>\n",
       "      <td>1</td>\n",
       "      <td>1</td>\n",
       "      <td>1</td>\n",
       "      <td>101348.88</td>\n",
       "      <td>1</td>\n",
       "    </tr>\n",
       "    <tr>\n",
       "      <th>1</th>\n",
       "      <td>2</td>\n",
       "      <td>15647311</td>\n",
       "      <td>Hill</td>\n",
       "      <td>608</td>\n",
       "      <td>Spain</td>\n",
       "      <td>Female</td>\n",
       "      <td>41</td>\n",
       "      <td>1.0</td>\n",
       "      <td>83807.86</td>\n",
       "      <td>1</td>\n",
       "      <td>0</td>\n",
       "      <td>1</td>\n",
       "      <td>112542.58</td>\n",
       "      <td>0</td>\n",
       "    </tr>\n",
       "    <tr>\n",
       "      <th>2</th>\n",
       "      <td>3</td>\n",
       "      <td>15619304</td>\n",
       "      <td>Onio</td>\n",
       "      <td>502</td>\n",
       "      <td>France</td>\n",
       "      <td>Female</td>\n",
       "      <td>42</td>\n",
       "      <td>8.0</td>\n",
       "      <td>159660.80</td>\n",
       "      <td>3</td>\n",
       "      <td>1</td>\n",
       "      <td>0</td>\n",
       "      <td>113931.57</td>\n",
       "      <td>1</td>\n",
       "    </tr>\n",
       "    <tr>\n",
       "      <th>3</th>\n",
       "      <td>4</td>\n",
       "      <td>15701354</td>\n",
       "      <td>Boni</td>\n",
       "      <td>699</td>\n",
       "      <td>France</td>\n",
       "      <td>Female</td>\n",
       "      <td>39</td>\n",
       "      <td>1.0</td>\n",
       "      <td>0.00</td>\n",
       "      <td>2</td>\n",
       "      <td>0</td>\n",
       "      <td>0</td>\n",
       "      <td>93826.63</td>\n",
       "      <td>0</td>\n",
       "    </tr>\n",
       "    <tr>\n",
       "      <th>4</th>\n",
       "      <td>5</td>\n",
       "      <td>15737888</td>\n",
       "      <td>Mitchell</td>\n",
       "      <td>850</td>\n",
       "      <td>Spain</td>\n",
       "      <td>Female</td>\n",
       "      <td>43</td>\n",
       "      <td>2.0</td>\n",
       "      <td>125510.82</td>\n",
       "      <td>1</td>\n",
       "      <td>1</td>\n",
       "      <td>1</td>\n",
       "      <td>79084.10</td>\n",
       "      <td>0</td>\n",
       "    </tr>\n",
       "    <tr>\n",
       "      <th>5</th>\n",
       "      <td>6</td>\n",
       "      <td>15574012</td>\n",
       "      <td>Chu</td>\n",
       "      <td>645</td>\n",
       "      <td>Spain</td>\n",
       "      <td>Male</td>\n",
       "      <td>44</td>\n",
       "      <td>8.0</td>\n",
       "      <td>113755.78</td>\n",
       "      <td>2</td>\n",
       "      <td>1</td>\n",
       "      <td>0</td>\n",
       "      <td>149756.71</td>\n",
       "      <td>1</td>\n",
       "    </tr>\n",
       "    <tr>\n",
       "      <th>6</th>\n",
       "      <td>7</td>\n",
       "      <td>15592531</td>\n",
       "      <td>Bartlett</td>\n",
       "      <td>822</td>\n",
       "      <td>France</td>\n",
       "      <td>Male</td>\n",
       "      <td>50</td>\n",
       "      <td>7.0</td>\n",
       "      <td>0.00</td>\n",
       "      <td>2</td>\n",
       "      <td>1</td>\n",
       "      <td>1</td>\n",
       "      <td>10062.80</td>\n",
       "      <td>0</td>\n",
       "    </tr>\n",
       "    <tr>\n",
       "      <th>7</th>\n",
       "      <td>8</td>\n",
       "      <td>15656148</td>\n",
       "      <td>Obinna</td>\n",
       "      <td>376</td>\n",
       "      <td>Germany</td>\n",
       "      <td>Female</td>\n",
       "      <td>29</td>\n",
       "      <td>4.0</td>\n",
       "      <td>115046.74</td>\n",
       "      <td>4</td>\n",
       "      <td>1</td>\n",
       "      <td>0</td>\n",
       "      <td>119346.88</td>\n",
       "      <td>1</td>\n",
       "    </tr>\n",
       "    <tr>\n",
       "      <th>8</th>\n",
       "      <td>9</td>\n",
       "      <td>15792365</td>\n",
       "      <td>He</td>\n",
       "      <td>501</td>\n",
       "      <td>France</td>\n",
       "      <td>Male</td>\n",
       "      <td>44</td>\n",
       "      <td>4.0</td>\n",
       "      <td>142051.07</td>\n",
       "      <td>2</td>\n",
       "      <td>0</td>\n",
       "      <td>1</td>\n",
       "      <td>74940.50</td>\n",
       "      <td>0</td>\n",
       "    </tr>\n",
       "    <tr>\n",
       "      <th>9</th>\n",
       "      <td>10</td>\n",
       "      <td>15592389</td>\n",
       "      <td>H?</td>\n",
       "      <td>684</td>\n",
       "      <td>France</td>\n",
       "      <td>Male</td>\n",
       "      <td>27</td>\n",
       "      <td>2.0</td>\n",
       "      <td>134603.88</td>\n",
       "      <td>1</td>\n",
       "      <td>1</td>\n",
       "      <td>1</td>\n",
       "      <td>71725.73</td>\n",
       "      <td>0</td>\n",
       "    </tr>\n",
       "  </tbody>\n",
       "</table>\n",
       "</div>"
      ],
      "text/plain": [
       "   RowNumber  CustomerId   Surname  CreditScore Geography  Gender  Age  \\\n",
       "0          1    15634602  Hargrave          619    France  Female   42   \n",
       "1          2    15647311      Hill          608     Spain  Female   41   \n",
       "2          3    15619304      Onio          502    France  Female   42   \n",
       "3          4    15701354      Boni          699    France  Female   39   \n",
       "4          5    15737888  Mitchell          850     Spain  Female   43   \n",
       "5          6    15574012       Chu          645     Spain    Male   44   \n",
       "6          7    15592531  Bartlett          822    France    Male   50   \n",
       "7          8    15656148    Obinna          376   Germany  Female   29   \n",
       "8          9    15792365        He          501    France    Male   44   \n",
       "9         10    15592389        H?          684    France    Male   27   \n",
       "\n",
       "   Tenure    Balance  NumOfProducts  HasCrCard  IsActiveMember  \\\n",
       "0     2.0       0.00              1          1               1   \n",
       "1     1.0   83807.86              1          0               1   \n",
       "2     8.0  159660.80              3          1               0   \n",
       "3     1.0       0.00              2          0               0   \n",
       "4     2.0  125510.82              1          1               1   \n",
       "5     8.0  113755.78              2          1               0   \n",
       "6     7.0       0.00              2          1               1   \n",
       "7     4.0  115046.74              4          1               0   \n",
       "8     4.0  142051.07              2          0               1   \n",
       "9     2.0  134603.88              1          1               1   \n",
       "\n",
       "   EstimatedSalary  Exited  \n",
       "0        101348.88       1  \n",
       "1        112542.58       0  \n",
       "2        113931.57       1  \n",
       "3         93826.63       0  \n",
       "4         79084.10       0  \n",
       "5        149756.71       1  \n",
       "6         10062.80       0  \n",
       "7        119346.88       1  \n",
       "8         74940.50       0  \n",
       "9         71725.73       0  "
      ]
     },
     "metadata": {},
     "output_type": "display_data"
    }
   ],
   "source": [
    "display(df.head(10)) #посмотрим на саму структуру фрейма"
   ]
  },
  {
   "cell_type": "code",
   "execution_count": null,
   "metadata": {
    "id": "V3SfWT2p__hY",
    "outputId": "54b24f11-69dd-41b6-983c-3a354fac54d1"
   },
   "outputs": [
    {
     "name": "stdout",
     "output_type": "stream",
     "text": [
      "<class 'pandas.core.frame.DataFrame'>\n",
      "RangeIndex: 10000 entries, 0 to 9999\n",
      "Data columns (total 14 columns):\n",
      " #   Column           Non-Null Count  Dtype  \n",
      "---  ------           --------------  -----  \n",
      " 0   RowNumber        10000 non-null  int64  \n",
      " 1   CustomerId       10000 non-null  int64  \n",
      " 2   Surname          10000 non-null  object \n",
      " 3   CreditScore      10000 non-null  int64  \n",
      " 4   Geography        10000 non-null  object \n",
      " 5   Gender           10000 non-null  object \n",
      " 6   Age              10000 non-null  int64  \n",
      " 7   Tenure           9091 non-null   float64\n",
      " 8   Balance          10000 non-null  float64\n",
      " 9   NumOfProducts    10000 non-null  int64  \n",
      " 10  HasCrCard        10000 non-null  int64  \n",
      " 11  IsActiveMember   10000 non-null  int64  \n",
      " 12  EstimatedSalary  10000 non-null  float64\n",
      " 13  Exited           10000 non-null  int64  \n",
      "dtypes: float64(3), int64(8), object(3)\n",
      "memory usage: 1.1+ MB\n"
     ]
    }
   ],
   "source": [
    "df.info() # общая информация (в т.ч по типам)"
   ]
  },
  {
   "cell_type": "code",
   "execution_count": null,
   "metadata": {
    "id": "vk1Qgelw__hY",
    "outputId": "62d3d65b-5399-4b16-91a3-0fe18463857e"
   },
   "outputs": [
    {
     "data": {
      "text/plain": [
       "(10000, 14)"
      ]
     },
     "metadata": {},
     "output_type": "display_data"
    }
   ],
   "source": [
    "display(df.shape) # размер фрейма"
   ]
  },
  {
   "cell_type": "code",
   "execution_count": null,
   "metadata": {
    "id": "kp8aAuQa__hY",
    "outputId": "4532af88-1980-4df5-8776-39480a6cae98",
    "scrolled": true
   },
   "outputs": [
    {
     "data": {
      "text/plain": [
       "Tenure             0.0909\n",
       "RowNumber          0.0000\n",
       "CustomerId         0.0000\n",
       "Surname            0.0000\n",
       "CreditScore        0.0000\n",
       "Geography          0.0000\n",
       "Gender             0.0000\n",
       "Age                0.0000\n",
       "Balance            0.0000\n",
       "NumOfProducts      0.0000\n",
       "HasCrCard          0.0000\n",
       "IsActiveMember     0.0000\n",
       "EstimatedSalary    0.0000\n",
       "Exited             0.0000\n",
       "dtype: float64"
      ]
     },
     "metadata": {},
     "output_type": "display_data"
    }
   ],
   "source": [
    "display(df.isna().mean().sort_values(ascending=False)) #существует некоторое количество пропусков в столбце Tenure (порядка 9%) (сколько лет человек является клиентом банка)"
   ]
  },
  {
   "cell_type": "code",
   "execution_count": null,
   "metadata": {
    "id": "US9GdPA___hY",
    "outputId": "fe67ff6d-bcaf-4f52-d58c-f8201e237cd7"
   },
   "outputs": [
    {
     "data": {
      "text/plain": [
       "array(['France', 'Spain', 'Germany'], dtype=object)"
      ]
     },
     "metadata": {},
     "output_type": "display_data"
    }
   ],
   "source": [
    "display(df['Geography'].unique()) # уникальных стран пользователей всего 3: Франция, Испания и Германия"
   ]
  },
  {
   "cell_type": "markdown",
   "metadata": {
    "id": "njtTS4dv__hY"
   },
   "source": [
    "### Вывод по ознакомлению с данными:\n",
    "1. Т.к основная задача состоит в построении модели, можно исключить те признаки (т.е столбцы) которые наверняка не оказывают влияние на принятие решения клиента, касаемого ухода из банка (следовательно для обучения модели они будут бесполезны). Что это за признаки?\n",
    "    RowNumber — индекс строки в данных;\n",
    "    \n",
    "    CustomerId — уникальный идентификатор клиента;\n",
    "    \n",
    "    Surname — фамилия.\n",
    "\n",
    "2. Для упрощения работы необходимо заменить значения в столбце 'Gender' на 1 и 0. \n",
    "3. Опираясь на опыт выполнения предыдущих самостоятельных проектов, будет лучше, там где это возможно преобразовать типы в 'category', для оптимизации памяти. Подходящие столбцы для преобразования:\n",
    "     \n",
    "     Gender - пол - т.к мы уже к этому моменту заменили столбец \"пол\" на 1 и 0, логично будет их перевести;\n",
    "     \n",
    "     IsActiveMember - активность клиента - значения столбца определы на интервале [0,1]. Значит их можно воспринимать как категорию;\n",
    "     \n",
    "     HasCrCard - наличие кредитной карты - либо она есть, либо отсутствует;\n",
    "     \n",
    "     Geography - страна проживания - т.к стран всего 3, можно определить их как категории.\n",
    "     \n",
    "     NumOfProducts - количество продуктов банка, используемых клиентом (от 1 до 4).\n",
    "\n",
    "4. Столбец Tenure (сколько лет человек является клиентом банка) содержит порядка 9% пропусков. Данный столбец несводим к другим столбцам, поэтому будет рационально удалить строки с пропусками в данном столбце.\n",
    "5. Категориальные столбцы Geography (страны определены на интервале от 1 до 3) и NumOfProducts - количество продуктов банка, которыми пользуется клиент (от 1 до 4) разобьём техникой прямого кодирования (она же One-Hot Encoding, OHE) (под вопросом)"
   ]
  },
  {
   "cell_type": "markdown",
   "metadata": {
    "id": "l7FnUdtR__hY"
   },
   "source": [
    "### Удаление пропусков в столбце Tenure (сколько лет человек является клиентом банка):"
   ]
  },
  {
   "cell_type": "code",
   "execution_count": null,
   "metadata": {
    "id": "XuYoItk8__hZ"
   },
   "outputs": [],
   "source": [
    "df = df.dropna(subset=['Tenure']) # удаление строк с пропусками в столбце Tenure через перезапись"
   ]
  },
  {
   "cell_type": "code",
   "execution_count": null,
   "metadata": {
    "id": "o8PtaBjP__hZ",
    "outputId": "a9e80fe6-f933-42cf-a83d-24376aa2e689"
   },
   "outputs": [
    {
     "data": {
      "text/plain": [
       "RowNumber          0.0\n",
       "CustomerId         0.0\n",
       "Surname            0.0\n",
       "CreditScore        0.0\n",
       "Geography          0.0\n",
       "Gender             0.0\n",
       "Age                0.0\n",
       "Tenure             0.0\n",
       "Balance            0.0\n",
       "NumOfProducts      0.0\n",
       "HasCrCard          0.0\n",
       "IsActiveMember     0.0\n",
       "EstimatedSalary    0.0\n",
       "Exited             0.0\n",
       "dtype: float64"
      ]
     },
     "metadata": {},
     "output_type": "display_data"
    }
   ],
   "source": [
    "display(df.isna().mean().sort_values(ascending=False)) #теперь пропусков в фрейме стало 0 во всех столбцах. Как и должно быть"
   ]
  },
  {
   "cell_type": "code",
   "execution_count": null,
   "metadata": {
    "id": "ZNiQQm2n__hZ",
    "outputId": "c891021d-4e6d-4d31-e887-fb748381fd85"
   },
   "outputs": [
    {
     "data": {
      "text/plain": [
       "(9091, 14)"
      ]
     },
     "metadata": {},
     "output_type": "display_data"
    }
   ],
   "source": [
    "display(df.shape) # количество столбцов осталось таким же, количество строк (10000) уменьшилось на 909, т.е на 9.09%"
   ]
  },
  {
   "cell_type": "markdown",
   "metadata": {
    "id": "GpHE12MD__hZ"
   },
   "source": [
    "### Удаление столбцов, не оказывающих влияние на будущую модель по предсказанию принятия решения ухода из банка (RowNumber, CustomerId, Surname):"
   ]
  },
  {
   "cell_type": "markdown",
   "metadata": {
    "id": "lVx8U9SW__hZ"
   },
   "source": [
    "Маленькая ремарка. Текущий тренд коммьюнити Pandas по видимому склонен к исключению использования inplace, т.к считают что перезапись выглядит более логично. В принципе, результат будет один и тот же, но объяснить \"почему именно так\" стоило."
   ]
  },
  {
   "cell_type": "code",
   "execution_count": null,
   "metadata": {
    "id": "hxE5cElN__hZ"
   },
   "outputs": [],
   "source": [
    "df = df.drop(['RowNumber','CustomerId','Surname'],axis=1)"
   ]
  },
  {
   "cell_type": "code",
   "execution_count": null,
   "metadata": {
    "id": "xBu0qVqC__hZ",
    "outputId": "9178d6de-79e4-42b4-c36f-303efc13ecb7"
   },
   "outputs": [
    {
     "data": {
      "text/plain": [
       "Index(['CreditScore', 'Geography', 'Gender', 'Age', 'Tenure', 'Balance',\n",
       "       'NumOfProducts', 'HasCrCard', 'IsActiveMember', 'EstimatedSalary',\n",
       "       'Exited'],\n",
       "      dtype='object')"
      ]
     },
     "metadata": {},
     "output_type": "display_data"
    }
   ],
   "source": [
    "display(df.columns) #смотрим, какие столбцы остались"
   ]
  },
  {
   "cell_type": "code",
   "execution_count": null,
   "metadata": {
    "id": "cnNB9TgV__hZ",
    "outputId": "f1308a67-d1bd-4f9c-9884-eade43f9194f"
   },
   "outputs": [
    {
     "data": {
      "text/plain": [
       "(9091, 11)"
      ]
     },
     "metadata": {},
     "output_type": "display_data"
    }
   ],
   "source": [
    "display(df.shape) # было 14 столбцов, стало: 11. Удалили 3. Всё верно"
   ]
  },
  {
   "cell_type": "markdown",
   "metadata": {
    "id": "EFiRmOup__hZ"
   },
   "source": [
    "### Замена значений столбца Gender на 1 и 0:"
   ]
  },
  {
   "cell_type": "code",
   "execution_count": null,
   "metadata": {
    "id": "HRc1vube__hZ",
    "outputId": "488d4f81-3d8b-4e6d-ebe8-b96f0433a634"
   },
   "outputs": [
    {
     "data": {
      "text/plain": [
       "CreditScore          int64\n",
       "Geography           object\n",
       "Gender               int64\n",
       "Age                  int64\n",
       "Tenure             float64\n",
       "Balance            float64\n",
       "NumOfProducts        int64\n",
       "HasCrCard            int64\n",
       "IsActiveMember       int64\n",
       "EstimatedSalary    float64\n",
       "Exited               int64\n",
       "dtype: object"
      ]
     },
     "metadata": {},
     "output_type": "display_data"
    },
    {
     "data": {
      "text/html": [
       "<div>\n",
       "<style scoped>\n",
       "    .dataframe tbody tr th:only-of-type {\n",
       "        vertical-align: middle;\n",
       "    }\n",
       "\n",
       "    .dataframe tbody tr th {\n",
       "        vertical-align: top;\n",
       "    }\n",
       "\n",
       "    .dataframe thead th {\n",
       "        text-align: right;\n",
       "    }\n",
       "</style>\n",
       "<table border=\"1\" class=\"dataframe\">\n",
       "  <thead>\n",
       "    <tr style=\"text-align: right;\">\n",
       "      <th></th>\n",
       "      <th>CreditScore</th>\n",
       "      <th>Geography</th>\n",
       "      <th>Gender</th>\n",
       "      <th>Age</th>\n",
       "      <th>Tenure</th>\n",
       "      <th>Balance</th>\n",
       "      <th>NumOfProducts</th>\n",
       "      <th>HasCrCard</th>\n",
       "      <th>IsActiveMember</th>\n",
       "      <th>EstimatedSalary</th>\n",
       "      <th>Exited</th>\n",
       "    </tr>\n",
       "  </thead>\n",
       "  <tbody>\n",
       "    <tr>\n",
       "      <th>0</th>\n",
       "      <td>619</td>\n",
       "      <td>France</td>\n",
       "      <td>0</td>\n",
       "      <td>42</td>\n",
       "      <td>2.0</td>\n",
       "      <td>0.00</td>\n",
       "      <td>1</td>\n",
       "      <td>1</td>\n",
       "      <td>1</td>\n",
       "      <td>101348.88</td>\n",
       "      <td>1</td>\n",
       "    </tr>\n",
       "    <tr>\n",
       "      <th>1</th>\n",
       "      <td>608</td>\n",
       "      <td>Spain</td>\n",
       "      <td>0</td>\n",
       "      <td>41</td>\n",
       "      <td>1.0</td>\n",
       "      <td>83807.86</td>\n",
       "      <td>1</td>\n",
       "      <td>0</td>\n",
       "      <td>1</td>\n",
       "      <td>112542.58</td>\n",
       "      <td>0</td>\n",
       "    </tr>\n",
       "    <tr>\n",
       "      <th>2</th>\n",
       "      <td>502</td>\n",
       "      <td>France</td>\n",
       "      <td>0</td>\n",
       "      <td>42</td>\n",
       "      <td>8.0</td>\n",
       "      <td>159660.80</td>\n",
       "      <td>3</td>\n",
       "      <td>1</td>\n",
       "      <td>0</td>\n",
       "      <td>113931.57</td>\n",
       "      <td>1</td>\n",
       "    </tr>\n",
       "    <tr>\n",
       "      <th>3</th>\n",
       "      <td>699</td>\n",
       "      <td>France</td>\n",
       "      <td>0</td>\n",
       "      <td>39</td>\n",
       "      <td>1.0</td>\n",
       "      <td>0.00</td>\n",
       "      <td>2</td>\n",
       "      <td>0</td>\n",
       "      <td>0</td>\n",
       "      <td>93826.63</td>\n",
       "      <td>0</td>\n",
       "    </tr>\n",
       "    <tr>\n",
       "      <th>4</th>\n",
       "      <td>850</td>\n",
       "      <td>Spain</td>\n",
       "      <td>0</td>\n",
       "      <td>43</td>\n",
       "      <td>2.0</td>\n",
       "      <td>125510.82</td>\n",
       "      <td>1</td>\n",
       "      <td>1</td>\n",
       "      <td>1</td>\n",
       "      <td>79084.10</td>\n",
       "      <td>0</td>\n",
       "    </tr>\n",
       "    <tr>\n",
       "      <th>5</th>\n",
       "      <td>645</td>\n",
       "      <td>Spain</td>\n",
       "      <td>1</td>\n",
       "      <td>44</td>\n",
       "      <td>8.0</td>\n",
       "      <td>113755.78</td>\n",
       "      <td>2</td>\n",
       "      <td>1</td>\n",
       "      <td>0</td>\n",
       "      <td>149756.71</td>\n",
       "      <td>1</td>\n",
       "    </tr>\n",
       "    <tr>\n",
       "      <th>6</th>\n",
       "      <td>822</td>\n",
       "      <td>France</td>\n",
       "      <td>1</td>\n",
       "      <td>50</td>\n",
       "      <td>7.0</td>\n",
       "      <td>0.00</td>\n",
       "      <td>2</td>\n",
       "      <td>1</td>\n",
       "      <td>1</td>\n",
       "      <td>10062.80</td>\n",
       "      <td>0</td>\n",
       "    </tr>\n",
       "    <tr>\n",
       "      <th>7</th>\n",
       "      <td>376</td>\n",
       "      <td>Germany</td>\n",
       "      <td>0</td>\n",
       "      <td>29</td>\n",
       "      <td>4.0</td>\n",
       "      <td>115046.74</td>\n",
       "      <td>4</td>\n",
       "      <td>1</td>\n",
       "      <td>0</td>\n",
       "      <td>119346.88</td>\n",
       "      <td>1</td>\n",
       "    </tr>\n",
       "    <tr>\n",
       "      <th>8</th>\n",
       "      <td>501</td>\n",
       "      <td>France</td>\n",
       "      <td>1</td>\n",
       "      <td>44</td>\n",
       "      <td>4.0</td>\n",
       "      <td>142051.07</td>\n",
       "      <td>2</td>\n",
       "      <td>0</td>\n",
       "      <td>1</td>\n",
       "      <td>74940.50</td>\n",
       "      <td>0</td>\n",
       "    </tr>\n",
       "    <tr>\n",
       "      <th>9</th>\n",
       "      <td>684</td>\n",
       "      <td>France</td>\n",
       "      <td>1</td>\n",
       "      <td>27</td>\n",
       "      <td>2.0</td>\n",
       "      <td>134603.88</td>\n",
       "      <td>1</td>\n",
       "      <td>1</td>\n",
       "      <td>1</td>\n",
       "      <td>71725.73</td>\n",
       "      <td>0</td>\n",
       "    </tr>\n",
       "  </tbody>\n",
       "</table>\n",
       "</div>"
      ],
      "text/plain": [
       "   CreditScore Geography  Gender  Age  Tenure    Balance  NumOfProducts  \\\n",
       "0          619    France       0   42     2.0       0.00              1   \n",
       "1          608     Spain       0   41     1.0   83807.86              1   \n",
       "2          502    France       0   42     8.0  159660.80              3   \n",
       "3          699    France       0   39     1.0       0.00              2   \n",
       "4          850     Spain       0   43     2.0  125510.82              1   \n",
       "5          645     Spain       1   44     8.0  113755.78              2   \n",
       "6          822    France       1   50     7.0       0.00              2   \n",
       "7          376   Germany       0   29     4.0  115046.74              4   \n",
       "8          501    France       1   44     4.0  142051.07              2   \n",
       "9          684    France       1   27     2.0  134603.88              1   \n",
       "\n",
       "   HasCrCard  IsActiveMember  EstimatedSalary  Exited  \n",
       "0          1               1        101348.88       1  \n",
       "1          0               1        112542.58       0  \n",
       "2          1               0        113931.57       1  \n",
       "3          0               0         93826.63       0  \n",
       "4          1               1         79084.10       0  \n",
       "5          1               0        149756.71       1  \n",
       "6          1               1         10062.80       0  \n",
       "7          1               0        119346.88       1  \n",
       "8          0               1         74940.50       0  \n",
       "9          1               1         71725.73       0  "
      ]
     },
     "metadata": {},
     "output_type": "display_data"
    }
   ],
   "source": [
    "def gender(row): #функция принимает на вход строку\n",
    "    if 'Male' in row:\n",
    "        return 1 # если пол мужской - функция вернёт - 1\n",
    "    elif 'Female' in row:\n",
    "        return 0 # если пол женский - функция вернёт - 0\n",
    "\n",
    "df['Gender'] = df['Gender'].apply(gender) # применяем функцию к столбцу Gender и меняем значения\n",
    "\n",
    "display(df.dtypes) # смотрим на результат. Столбец Gender поменял свой тип на int\n",
    "\n",
    "display(df.head(10)) # всё сработало. Теперь женщины обозначены - 0, а мужчины - 1"
   ]
  },
  {
   "cell_type": "markdown",
   "metadata": {
    "id": "xGZvBYiz__hZ"
   },
   "source": [
    "### Прямое кодирование (One-Hot Encoding) для столбца Geography"
   ]
  },
  {
   "cell_type": "markdown",
   "metadata": {
    "id": "dWMYNZot__ha"
   },
   "source": [
    "Перед началом нужно оговорить следующее: \n",
    "\n",
    "Geography - страна проживания клиента, содержит в себе 3 уникальных значения. Этот столбец - категориальный признак. Т.к стран всего 3, можно превратить категориальные признаки в количественные как раз с помощью метода прямого кодирования.\n",
    "\n",
    "\n",
    "Кроме прочего, чтобы не попасть в dummy - ловушку (она же 'dummy-trap', она же \"ловушка фиктивных признаков\"), используем аргумент функции  pd.get_dummies(): 'drop_first'."
   ]
  },
  {
   "cell_type": "code",
   "execution_count": null,
   "metadata": {
    "id": "hrodKUtR__ha"
   },
   "outputs": [],
   "source": [
    "df = pd.get_dummies(df,columns=['Geography'],drop_first=True) # разбиваем категорию Geography на подстолбцы"
   ]
  },
  {
   "cell_type": "code",
   "execution_count": null,
   "metadata": {
    "id": "l62TQYRQ__ha",
    "outputId": "0d3f4028-baac-4ab9-8aa5-4014a6b97eba"
   },
   "outputs": [
    {
     "data": {
      "text/html": [
       "<div>\n",
       "<style scoped>\n",
       "    .dataframe tbody tr th:only-of-type {\n",
       "        vertical-align: middle;\n",
       "    }\n",
       "\n",
       "    .dataframe tbody tr th {\n",
       "        vertical-align: top;\n",
       "    }\n",
       "\n",
       "    .dataframe thead th {\n",
       "        text-align: right;\n",
       "    }\n",
       "</style>\n",
       "<table border=\"1\" class=\"dataframe\">\n",
       "  <thead>\n",
       "    <tr style=\"text-align: right;\">\n",
       "      <th></th>\n",
       "      <th>CreditScore</th>\n",
       "      <th>Gender</th>\n",
       "      <th>Age</th>\n",
       "      <th>Tenure</th>\n",
       "      <th>Balance</th>\n",
       "      <th>NumOfProducts</th>\n",
       "      <th>HasCrCard</th>\n",
       "      <th>IsActiveMember</th>\n",
       "      <th>EstimatedSalary</th>\n",
       "      <th>Exited</th>\n",
       "      <th>Geography_Germany</th>\n",
       "      <th>Geography_Spain</th>\n",
       "    </tr>\n",
       "  </thead>\n",
       "  <tbody>\n",
       "    <tr>\n",
       "      <th>0</th>\n",
       "      <td>619</td>\n",
       "      <td>0</td>\n",
       "      <td>42</td>\n",
       "      <td>2.0</td>\n",
       "      <td>0.00</td>\n",
       "      <td>1</td>\n",
       "      <td>1</td>\n",
       "      <td>1</td>\n",
       "      <td>101348.88</td>\n",
       "      <td>1</td>\n",
       "      <td>0</td>\n",
       "      <td>0</td>\n",
       "    </tr>\n",
       "    <tr>\n",
       "      <th>1</th>\n",
       "      <td>608</td>\n",
       "      <td>0</td>\n",
       "      <td>41</td>\n",
       "      <td>1.0</td>\n",
       "      <td>83807.86</td>\n",
       "      <td>1</td>\n",
       "      <td>0</td>\n",
       "      <td>1</td>\n",
       "      <td>112542.58</td>\n",
       "      <td>0</td>\n",
       "      <td>0</td>\n",
       "      <td>1</td>\n",
       "    </tr>\n",
       "    <tr>\n",
       "      <th>2</th>\n",
       "      <td>502</td>\n",
       "      <td>0</td>\n",
       "      <td>42</td>\n",
       "      <td>8.0</td>\n",
       "      <td>159660.80</td>\n",
       "      <td>3</td>\n",
       "      <td>1</td>\n",
       "      <td>0</td>\n",
       "      <td>113931.57</td>\n",
       "      <td>1</td>\n",
       "      <td>0</td>\n",
       "      <td>0</td>\n",
       "    </tr>\n",
       "    <tr>\n",
       "      <th>3</th>\n",
       "      <td>699</td>\n",
       "      <td>0</td>\n",
       "      <td>39</td>\n",
       "      <td>1.0</td>\n",
       "      <td>0.00</td>\n",
       "      <td>2</td>\n",
       "      <td>0</td>\n",
       "      <td>0</td>\n",
       "      <td>93826.63</td>\n",
       "      <td>0</td>\n",
       "      <td>0</td>\n",
       "      <td>0</td>\n",
       "    </tr>\n",
       "    <tr>\n",
       "      <th>4</th>\n",
       "      <td>850</td>\n",
       "      <td>0</td>\n",
       "      <td>43</td>\n",
       "      <td>2.0</td>\n",
       "      <td>125510.82</td>\n",
       "      <td>1</td>\n",
       "      <td>1</td>\n",
       "      <td>1</td>\n",
       "      <td>79084.10</td>\n",
       "      <td>0</td>\n",
       "      <td>0</td>\n",
       "      <td>1</td>\n",
       "    </tr>\n",
       "  </tbody>\n",
       "</table>\n",
       "</div>"
      ],
      "text/plain": [
       "   CreditScore  Gender  Age  Tenure    Balance  NumOfProducts  HasCrCard  \\\n",
       "0          619       0   42     2.0       0.00              1          1   \n",
       "1          608       0   41     1.0   83807.86              1          0   \n",
       "2          502       0   42     8.0  159660.80              3          1   \n",
       "3          699       0   39     1.0       0.00              2          0   \n",
       "4          850       0   43     2.0  125510.82              1          1   \n",
       "\n",
       "   IsActiveMember  EstimatedSalary  Exited  Geography_Germany  Geography_Spain  \n",
       "0               1        101348.88       1                  0                0  \n",
       "1               1        112542.58       0                  0                1  \n",
       "2               0        113931.57       1                  0                0  \n",
       "3               0         93826.63       0                  0                0  \n",
       "4               1         79084.10       0                  0                1  "
      ]
     },
     "metadata": {},
     "output_type": "display_data"
    }
   ],
   "source": [
    "display(df.head())"
   ]
  },
  {
   "cell_type": "markdown",
   "metadata": {
    "id": "dGO8ULN2__ha"
   },
   "source": [
    "### Вопрос с прямым кодированием столбца NumOfProducts :"
   ]
  },
  {
   "cell_type": "markdown",
   "metadata": {
    "id": "L5UpNCv___ha"
   },
   "source": [
    "Перед приведением к типу 'сategory' стоит остановиться и подумать: стоит ли разбивать столбец NumOfProducts прямым кодированием? С одной стороны, он выглядит как категориальный. Его значения определены на интервале [1:4]. Почему принято решение: оставить его как есть?\n",
    "\n",
    "NumOfProducts - хоть и категориальный признак, но в нем есть внутренний естественный порядок - 2 продукта это в 2 раза больше чем один. Чтобы не нарушать внутреннюю логику столбца, разбивать мы его не будем."
   ]
  },
  {
   "cell_type": "markdown",
   "metadata": {
    "id": "Xieg3jbN__ha"
   },
   "source": [
    "### Приведение категориальных столбцов к типу 'сategory'"
   ]
  },
  {
   "cell_type": "code",
   "execution_count": null,
   "metadata": {
    "id": "EAxYLpE0__ha"
   },
   "outputs": [],
   "source": [
    "columns_to_convert = ['Gender','HasCrCard','IsActiveMember','Exited','Geography_Germany','Geography_Spain']\n",
    "for x in columns_to_convert: # цикл пробегается по наименованиям столбцов для преобразования из списка columns_to_convert\n",
    "    df[x] = df[x].astype('category') # преобразование столбца из списка к типу category"
   ]
  },
  {
   "cell_type": "code",
   "execution_count": null,
   "metadata": {
    "id": "cfXsifrd__ha",
    "outputId": "8ab14160-bca9-49d6-c84f-5ee74119c7a2"
   },
   "outputs": [
    {
     "data": {
      "text/plain": [
       "CreditScore             int64\n",
       "Gender               category\n",
       "Age                     int64\n",
       "Tenure                float64\n",
       "Balance               float64\n",
       "NumOfProducts           int64\n",
       "HasCrCard            category\n",
       "IsActiveMember       category\n",
       "EstimatedSalary       float64\n",
       "Exited               category\n",
       "Geography_Germany    category\n",
       "Geography_Spain      category\n",
       "dtype: object"
      ]
     },
     "metadata": {},
     "output_type": "display_data"
    }
   ],
   "source": [
    "display(df.dtypes)"
   ]
  },
  {
   "cell_type": "markdown",
   "metadata": {
    "id": "1ynor89G__ha"
   },
   "source": [
    "### Проверка мультиколлинеарности фичей методом Phik(𝜙k): "
   ]
  },
  {
   "cell_type": "markdown",
   "metadata": {
    "id": "DPRcfT3x__ha"
   },
   "source": [
    "В связи с тем, что высокая корреляция (мультиколлениарность) может привести к нестабильной работе моделей машинного обучения наличие «лишних» признаков ведёт к переобучению или вовсе ломает модель. Составим матрицу коллинеарности через Phik:"
   ]
  },
  {
   "cell_type": "code",
   "execution_count": null,
   "metadata": {
    "id": "UL6hvVbE__hb",
    "outputId": "882ca79c-aec7-46d1-a993-27625dc7255d"
   },
   "outputs": [
    {
     "name": "stdout",
     "output_type": "stream",
     "text": [
      "interval columns not set, guessing: ['CreditScore', 'Age', 'Tenure', 'Balance', 'NumOfProducts', 'EstimatedSalary']\n"
     ]
    },
    {
     "data": {
      "text/html": [
       "<div>\n",
       "<style scoped>\n",
       "    .dataframe tbody tr th:only-of-type {\n",
       "        vertical-align: middle;\n",
       "    }\n",
       "\n",
       "    .dataframe tbody tr th {\n",
       "        vertical-align: top;\n",
       "    }\n",
       "\n",
       "    .dataframe thead th {\n",
       "        text-align: right;\n",
       "    }\n",
       "</style>\n",
       "<table border=\"1\" class=\"dataframe\">\n",
       "  <thead>\n",
       "    <tr style=\"text-align: right;\">\n",
       "      <th></th>\n",
       "      <th>CreditScore</th>\n",
       "      <th>Gender</th>\n",
       "      <th>Age</th>\n",
       "      <th>Tenure</th>\n",
       "      <th>Balance</th>\n",
       "      <th>NumOfProducts</th>\n",
       "      <th>HasCrCard</th>\n",
       "      <th>IsActiveMember</th>\n",
       "      <th>EstimatedSalary</th>\n",
       "      <th>Exited</th>\n",
       "      <th>Geography_Germany</th>\n",
       "      <th>Geography_Spain</th>\n",
       "    </tr>\n",
       "  </thead>\n",
       "  <tbody>\n",
       "    <tr>\n",
       "      <th>CreditScore</th>\n",
       "      <td>1.000000</td>\n",
       "      <td>0.000000</td>\n",
       "      <td>0.000000</td>\n",
       "      <td>0.000000</td>\n",
       "      <td>0.000000</td>\n",
       "      <td>0.040113</td>\n",
       "      <td>0.007910</td>\n",
       "      <td>0.041025</td>\n",
       "      <td>0.041021</td>\n",
       "      <td>0.092598</td>\n",
       "      <td>0.029631</td>\n",
       "      <td>0.039413</td>\n",
       "    </tr>\n",
       "    <tr>\n",
       "      <th>Gender</th>\n",
       "      <td>0.000000</td>\n",
       "      <td>1.000000</td>\n",
       "      <td>0.032615</td>\n",
       "      <td>0.031054</td>\n",
       "      <td>0.011366</td>\n",
       "      <td>0.069812</td>\n",
       "      <td>0.000000</td>\n",
       "      <td>0.035291</td>\n",
       "      <td>0.025059</td>\n",
       "      <td>0.171438</td>\n",
       "      <td>0.032935</td>\n",
       "      <td>0.017133</td>\n",
       "    </tr>\n",
       "    <tr>\n",
       "      <th>Age</th>\n",
       "      <td>0.000000</td>\n",
       "      <td>0.032615</td>\n",
       "      <td>1.000000</td>\n",
       "      <td>0.046402</td>\n",
       "      <td>0.028647</td>\n",
       "      <td>0.144832</td>\n",
       "      <td>0.031990</td>\n",
       "      <td>0.188602</td>\n",
       "      <td>0.055886</td>\n",
       "      <td>0.486531</td>\n",
       "      <td>0.092556</td>\n",
       "      <td>0.000000</td>\n",
       "    </tr>\n",
       "    <tr>\n",
       "      <th>Tenure</th>\n",
       "      <td>0.000000</td>\n",
       "      <td>0.031054</td>\n",
       "      <td>0.046402</td>\n",
       "      <td>1.000000</td>\n",
       "      <td>0.063973</td>\n",
       "      <td>0.060387</td>\n",
       "      <td>0.031409</td>\n",
       "      <td>0.027321</td>\n",
       "      <td>0.000000</td>\n",
       "      <td>0.020845</td>\n",
       "      <td>0.019006</td>\n",
       "      <td>0.000000</td>\n",
       "    </tr>\n",
       "    <tr>\n",
       "      <th>Balance</th>\n",
       "      <td>0.000000</td>\n",
       "      <td>0.011366</td>\n",
       "      <td>0.028647</td>\n",
       "      <td>0.063973</td>\n",
       "      <td>1.000000</td>\n",
       "      <td>0.374296</td>\n",
       "      <td>0.053707</td>\n",
       "      <td>0.000000</td>\n",
       "      <td>0.000000</td>\n",
       "      <td>0.185118</td>\n",
       "      <td>0.578347</td>\n",
       "      <td>0.199954</td>\n",
       "    </tr>\n",
       "    <tr>\n",
       "      <th>NumOfProducts</th>\n",
       "      <td>0.040113</td>\n",
       "      <td>0.069812</td>\n",
       "      <td>0.144832</td>\n",
       "      <td>0.060387</td>\n",
       "      <td>0.374296</td>\n",
       "      <td>1.000000</td>\n",
       "      <td>0.000000</td>\n",
       "      <td>0.057994</td>\n",
       "      <td>0.027493</td>\n",
       "      <td>0.560950</td>\n",
       "      <td>0.095934</td>\n",
       "      <td>0.045624</td>\n",
       "    </tr>\n",
       "    <tr>\n",
       "      <th>HasCrCard</th>\n",
       "      <td>0.007910</td>\n",
       "      <td>0.000000</td>\n",
       "      <td>0.031990</td>\n",
       "      <td>0.031409</td>\n",
       "      <td>0.053707</td>\n",
       "      <td>0.000000</td>\n",
       "      <td>1.000000</td>\n",
       "      <td>0.000000</td>\n",
       "      <td>0.000000</td>\n",
       "      <td>0.000000</td>\n",
       "      <td>0.000000</td>\n",
       "      <td>0.022005</td>\n",
       "    </tr>\n",
       "    <tr>\n",
       "      <th>IsActiveMember</th>\n",
       "      <td>0.041025</td>\n",
       "      <td>0.035291</td>\n",
       "      <td>0.188602</td>\n",
       "      <td>0.027321</td>\n",
       "      <td>0.000000</td>\n",
       "      <td>0.057994</td>\n",
       "      <td>0.000000</td>\n",
       "      <td>1.000000</td>\n",
       "      <td>0.035863</td>\n",
       "      <td>0.240225</td>\n",
       "      <td>0.020147</td>\n",
       "      <td>0.015831</td>\n",
       "    </tr>\n",
       "    <tr>\n",
       "      <th>EstimatedSalary</th>\n",
       "      <td>0.041021</td>\n",
       "      <td>0.025059</td>\n",
       "      <td>0.055886</td>\n",
       "      <td>0.000000</td>\n",
       "      <td>0.000000</td>\n",
       "      <td>0.027493</td>\n",
       "      <td>0.000000</td>\n",
       "      <td>0.035863</td>\n",
       "      <td>1.000000</td>\n",
       "      <td>0.000000</td>\n",
       "      <td>0.016722</td>\n",
       "      <td>0.026391</td>\n",
       "    </tr>\n",
       "    <tr>\n",
       "      <th>Exited</th>\n",
       "      <td>0.092598</td>\n",
       "      <td>0.171438</td>\n",
       "      <td>0.486531</td>\n",
       "      <td>0.020845</td>\n",
       "      <td>0.185118</td>\n",
       "      <td>0.560950</td>\n",
       "      <td>0.000000</td>\n",
       "      <td>0.240225</td>\n",
       "      <td>0.000000</td>\n",
       "      <td>1.000000</td>\n",
       "      <td>0.275244</td>\n",
       "      <td>0.085755</td>\n",
       "    </tr>\n",
       "    <tr>\n",
       "      <th>Geography_Germany</th>\n",
       "      <td>0.029631</td>\n",
       "      <td>0.032935</td>\n",
       "      <td>0.092556</td>\n",
       "      <td>0.019006</td>\n",
       "      <td>0.578347</td>\n",
       "      <td>0.095934</td>\n",
       "      <td>0.000000</td>\n",
       "      <td>0.020147</td>\n",
       "      <td>0.016722</td>\n",
       "      <td>0.275244</td>\n",
       "      <td>1.000000</td>\n",
       "      <td>0.498783</td>\n",
       "    </tr>\n",
       "    <tr>\n",
       "      <th>Geography_Spain</th>\n",
       "      <td>0.039413</td>\n",
       "      <td>0.017133</td>\n",
       "      <td>0.000000</td>\n",
       "      <td>0.000000</td>\n",
       "      <td>0.199954</td>\n",
       "      <td>0.045624</td>\n",
       "      <td>0.022005</td>\n",
       "      <td>0.015831</td>\n",
       "      <td>0.026391</td>\n",
       "      <td>0.085755</td>\n",
       "      <td>0.498783</td>\n",
       "      <td>1.000000</td>\n",
       "    </tr>\n",
       "  </tbody>\n",
       "</table>\n",
       "</div>"
      ],
      "text/plain": [
       "                   CreditScore    Gender       Age    Tenure   Balance  \\\n",
       "CreditScore           1.000000  0.000000  0.000000  0.000000  0.000000   \n",
       "Gender                0.000000  1.000000  0.032615  0.031054  0.011366   \n",
       "Age                   0.000000  0.032615  1.000000  0.046402  0.028647   \n",
       "Tenure                0.000000  0.031054  0.046402  1.000000  0.063973   \n",
       "Balance               0.000000  0.011366  0.028647  0.063973  1.000000   \n",
       "NumOfProducts         0.040113  0.069812  0.144832  0.060387  0.374296   \n",
       "HasCrCard             0.007910  0.000000  0.031990  0.031409  0.053707   \n",
       "IsActiveMember        0.041025  0.035291  0.188602  0.027321  0.000000   \n",
       "EstimatedSalary       0.041021  0.025059  0.055886  0.000000  0.000000   \n",
       "Exited                0.092598  0.171438  0.486531  0.020845  0.185118   \n",
       "Geography_Germany     0.029631  0.032935  0.092556  0.019006  0.578347   \n",
       "Geography_Spain       0.039413  0.017133  0.000000  0.000000  0.199954   \n",
       "\n",
       "                   NumOfProducts  HasCrCard  IsActiveMember  EstimatedSalary  \\\n",
       "CreditScore             0.040113   0.007910        0.041025         0.041021   \n",
       "Gender                  0.069812   0.000000        0.035291         0.025059   \n",
       "Age                     0.144832   0.031990        0.188602         0.055886   \n",
       "Tenure                  0.060387   0.031409        0.027321         0.000000   \n",
       "Balance                 0.374296   0.053707        0.000000         0.000000   \n",
       "NumOfProducts           1.000000   0.000000        0.057994         0.027493   \n",
       "HasCrCard               0.000000   1.000000        0.000000         0.000000   \n",
       "IsActiveMember          0.057994   0.000000        1.000000         0.035863   \n",
       "EstimatedSalary         0.027493   0.000000        0.035863         1.000000   \n",
       "Exited                  0.560950   0.000000        0.240225         0.000000   \n",
       "Geography_Germany       0.095934   0.000000        0.020147         0.016722   \n",
       "Geography_Spain         0.045624   0.022005        0.015831         0.026391   \n",
       "\n",
       "                     Exited  Geography_Germany  Geography_Spain  \n",
       "CreditScore        0.092598           0.029631         0.039413  \n",
       "Gender             0.171438           0.032935         0.017133  \n",
       "Age                0.486531           0.092556         0.000000  \n",
       "Tenure             0.020845           0.019006         0.000000  \n",
       "Balance            0.185118           0.578347         0.199954  \n",
       "NumOfProducts      0.560950           0.095934         0.045624  \n",
       "HasCrCard          0.000000           0.000000         0.022005  \n",
       "IsActiveMember     0.240225           0.020147         0.015831  \n",
       "EstimatedSalary    0.000000           0.016722         0.026391  \n",
       "Exited             1.000000           0.275244         0.085755  \n",
       "Geography_Germany  0.275244           1.000000         0.498783  \n",
       "Geography_Spain    0.085755           0.498783         1.000000  "
      ]
     },
     "metadata": {},
     "output_type": "display_data"
    }
   ],
   "source": [
    "phik_overview = df.phik_matrix()\n",
    "display(phik_overview)"
   ]
  },
  {
   "cell_type": "code",
   "execution_count": null,
   "metadata": {
    "id": "befrKbl4__hb",
    "outputId": "fe8a2f57-ef66-4492-f77a-ea7e068cf28a"
   },
   "outputs": [
    {
     "data": {
      "text/plain": [
       "<AxesSubplot:>"
      ]
     },
     "metadata": {},
     "output_type": "display_data"
    },
    {
     "data": {
      "image/png": "[encoded data removed]",
      "text/plain": [
       "<Figure size 432x288 with 2 Axes>"
      ]
     },
     "metadata": {
      "needs_background": "light"
     },
     "output_type": "display_data"
    }
   ],
   "source": [
    "display(sns.heatmap(phik_overview))"
   ]
  },
  {
   "cell_type": "markdown",
   "metadata": {
    "id": "kmqedoZO__hb"
   },
   "source": [
    "### Матрица корреляции"
   ]
  },
  {
   "cell_type": "code",
   "execution_count": null,
   "metadata": {
    "id": "AyC6RsS2__hb",
    "outputId": "e5fa3981-464d-4e2b-c76f-d6ccf7c80b8b"
   },
   "outputs": [
    {
     "data": {
      "image/png": "[encoded data removed]",
      "text/plain": [
       "<Figure size 1008x720 with 2 Axes>"
      ]
     },
     "metadata": {
      "needs_background": "light"
     },
     "output_type": "display_data"
    }
   ],
   "source": [
    "significance_overview = df.significance_matrix(interval_cols=['CreditScore', 'Age', 'Tenure', 'Balance', 'NumOfProducts', 'EstimatedSalary'])\n",
    "plot_correlation_matrix(significance_overview.fillna(0).values, \n",
    "                        x_labels=significance_overview.columns, \n",
    "                        y_labels=significance_overview.index, \n",
    "                        vmin=-5, vmax=5, title=\"Significance of the coefficients\", \n",
    "                        usetex=False, fontsize_factor=1.5, figsize=(14, 10))\n",
    "plt.tight_layout()"
   ]
  },
  {
   "cell_type": "markdown",
   "metadata": {
    "id": "pQmQ6iDZ__hb"
   },
   "source": [
    "### Общий вывод по ознакомлению с данными :"
   ]
  },
  {
   "cell_type": "markdown",
   "metadata": {
    "id": "_mvBHgOZ__hb"
   },
   "source": [
    "В ходе ознакомления со структорой и общей информацией о типах переменных в датафрейме было выявлено:\n",
    "1. Исходные данные состоят из 10000 строк и 14 столбцов;\n",
    "2. 3 столбца из 14 имели тип данных object;\n",
    "3. В столбце Tenure (сколько лет человек является клиентом банка) имеется 909 пропущенных значений, т.е 9.09% от общего числа;\n",
    "\n",
    "Для решения конкретной задачи построения модели был выполнен ряд операций по подготовке данных, а именно:\n",
    "1. Удаление 9,09% пропусков в столбце Tenure (т.е строки с пропусками по данному столбцу были удалены из исходных данных в связи с невозможностью их заполнения);\n",
    "2. Столбцы RowNumber, CustomerId, Surname не могут оказывать существенного влияния на принятие решения клиента об уходе из банка. В связи с данным обстоятельством, считаю рациональным удалить их из исходных данных для построения будущей модели;\n",
    "3. Для улучшения будущей модели, значения столбца Gender были заменены со строкового типа на числовой: на 1 и 0 (1 - мужской пол, 0 - женский пол). После замены столбец поменял свой тип на int64;\n",
    "4. Столбец Geography был разбит на 2 столбца Geography_Germany и Geography_Spain с помощью метода прямого кодирования с учетом возможного попадания в ловушку фиктивных признаков;\n",
    "5. Все категориальные столбцы были приведены к типу 'category' для оптимизации памяти;\n",
    "6. Была проведена проверка мультиколлинеарности фичей с помощью метода Phik, а также составлена матрица корреляции. Проверка не выявила никаких критических зависимостей столбцов друг от друга."
   ]
  },
  {
   "cell_type": "markdown",
   "metadata": {
    "id": "tQeLZ8bU__hb"
   },
   "source": [
    "## Исследование задачи"
   ]
  },
  {
   "cell_type": "markdown",
   "metadata": {
    "id": "Ce2bAB5B__hb"
   },
   "source": [
    "### Создание выборок"
   ]
  },
  {
   "cell_type": "markdown",
   "metadata": {
    "id": "-UTj-mOO__hb"
   },
   "source": [
    "Для всех будущих моделей целевым признаком (т.е target) будет являться факт ухода клиента — Exited, а все остальные - фичами (features, т.е вторичными). Для начала разобьем исходные данные на 3 выборки: train,test,valid - обучающую, тестовую и валидационную соответственно"
   ]
  },
  {
   "cell_type": "code",
   "execution_count": null,
   "metadata": {
    "id": "VZlHEn8f__hb"
   },
   "outputs": [],
   "source": [
    "train, df2 = train_test_split(df, test_size=0.4, random_state=12345) # отделим пропорцию 60 на 40\n",
    "valid, test = train_test_split(df2, test_size=0.5, random_state=12345) #отделим по 20%"
   ]
  },
  {
   "cell_type": "markdown",
   "metadata": {
    "id": "tSgpsQNq__hb"
   },
   "source": [
    "Выделение целевого признака и фич:"
   ]
  },
  {
   "cell_type": "code",
   "execution_count": null,
   "metadata": {
    "id": "Pjgm-GuZ__hb"
   },
   "outputs": [],
   "source": [
    "features_train = train.drop('Exited',axis =1)\n",
    "target_train = train['Exited']\n",
    "features_valid = valid.drop('Exited',axis =1)\n",
    "target_valid = valid['Exited']\n",
    "features_test = test.drop('Exited',axis =1)\n",
    "target_test = test['Exited']"
   ]
  },
  {
   "cell_type": "markdown",
   "metadata": {
    "id": "9jl0jwSH__hb"
   },
   "source": [
    "### Масштабирование численных признаков"
   ]
  },
  {
   "cell_type": "markdown",
   "metadata": {
    "id": "9HNJaqq2__hb"
   },
   "source": [
    "Для начала, посмотрим на данные"
   ]
  },
  {
   "cell_type": "code",
   "execution_count": null,
   "metadata": {
    "id": "3DOhDzBA__hb",
    "outputId": "f275e2b6-411e-4c1e-91ad-009b9920bf92"
   },
   "outputs": [
    {
     "data": {
      "text/html": [
       "<div>\n",
       "<style scoped>\n",
       "    .dataframe tbody tr th:only-of-type {\n",
       "        vertical-align: middle;\n",
       "    }\n",
       "\n",
       "    .dataframe tbody tr th {\n",
       "        vertical-align: top;\n",
       "    }\n",
       "\n",
       "    .dataframe thead th {\n",
       "        text-align: right;\n",
       "    }\n",
       "</style>\n",
       "<table border=\"1\" class=\"dataframe\">\n",
       "  <thead>\n",
       "    <tr style=\"text-align: right;\">\n",
       "      <th></th>\n",
       "      <th>CreditScore</th>\n",
       "      <th>Age</th>\n",
       "      <th>Tenure</th>\n",
       "      <th>Balance</th>\n",
       "      <th>NumOfProducts</th>\n",
       "      <th>EstimatedSalary</th>\n",
       "    </tr>\n",
       "  </thead>\n",
       "  <tbody>\n",
       "    <tr>\n",
       "      <th>count</th>\n",
       "      <td>9091.000000</td>\n",
       "      <td>9091.000000</td>\n",
       "      <td>9091.000000</td>\n",
       "      <td>9091.000000</td>\n",
       "      <td>9091.000000</td>\n",
       "      <td>9091.000000</td>\n",
       "    </tr>\n",
       "    <tr>\n",
       "      <th>mean</th>\n",
       "      <td>650.736553</td>\n",
       "      <td>38.949181</td>\n",
       "      <td>4.997690</td>\n",
       "      <td>76522.740015</td>\n",
       "      <td>1.530195</td>\n",
       "      <td>100181.214924</td>\n",
       "    </tr>\n",
       "    <tr>\n",
       "      <th>std</th>\n",
       "      <td>96.410471</td>\n",
       "      <td>10.555581</td>\n",
       "      <td>2.894723</td>\n",
       "      <td>62329.528576</td>\n",
       "      <td>0.581003</td>\n",
       "      <td>57624.755647</td>\n",
       "    </tr>\n",
       "    <tr>\n",
       "      <th>min</th>\n",
       "      <td>350.000000</td>\n",
       "      <td>18.000000</td>\n",
       "      <td>0.000000</td>\n",
       "      <td>0.000000</td>\n",
       "      <td>1.000000</td>\n",
       "      <td>11.580000</td>\n",
       "    </tr>\n",
       "    <tr>\n",
       "      <th>25%</th>\n",
       "      <td>584.000000</td>\n",
       "      <td>32.000000</td>\n",
       "      <td>2.000000</td>\n",
       "      <td>0.000000</td>\n",
       "      <td>1.000000</td>\n",
       "      <td>51227.745000</td>\n",
       "    </tr>\n",
       "    <tr>\n",
       "      <th>50%</th>\n",
       "      <td>652.000000</td>\n",
       "      <td>37.000000</td>\n",
       "      <td>5.000000</td>\n",
       "      <td>97318.250000</td>\n",
       "      <td>1.000000</td>\n",
       "      <td>100240.200000</td>\n",
       "    </tr>\n",
       "    <tr>\n",
       "      <th>75%</th>\n",
       "      <td>717.000000</td>\n",
       "      <td>44.000000</td>\n",
       "      <td>7.000000</td>\n",
       "      <td>127561.890000</td>\n",
       "      <td>2.000000</td>\n",
       "      <td>149567.210000</td>\n",
       "    </tr>\n",
       "    <tr>\n",
       "      <th>max</th>\n",
       "      <td>850.000000</td>\n",
       "      <td>92.000000</td>\n",
       "      <td>10.000000</td>\n",
       "      <td>250898.090000</td>\n",
       "      <td>4.000000</td>\n",
       "      <td>199992.480000</td>\n",
       "    </tr>\n",
       "  </tbody>\n",
       "</table>\n",
       "</div>"
      ],
      "text/plain": [
       "       CreditScore          Age       Tenure        Balance  NumOfProducts  \\\n",
       "count  9091.000000  9091.000000  9091.000000    9091.000000    9091.000000   \n",
       "mean    650.736553    38.949181     4.997690   76522.740015       1.530195   \n",
       "std      96.410471    10.555581     2.894723   62329.528576       0.581003   \n",
       "min     350.000000    18.000000     0.000000       0.000000       1.000000   \n",
       "25%     584.000000    32.000000     2.000000       0.000000       1.000000   \n",
       "50%     652.000000    37.000000     5.000000   97318.250000       1.000000   \n",
       "75%     717.000000    44.000000     7.000000  127561.890000       2.000000   \n",
       "max     850.000000    92.000000    10.000000  250898.090000       4.000000   \n",
       "\n",
       "       EstimatedSalary  \n",
       "count      9091.000000  \n",
       "mean     100181.214924  \n",
       "std       57624.755647  \n",
       "min          11.580000  \n",
       "25%       51227.745000  \n",
       "50%      100240.200000  \n",
       "75%      149567.210000  \n",
       "max      199992.480000  "
      ]
     },
     "metadata": {},
     "output_type": "display_data"
    }
   ],
   "source": [
    "display(df.describe())"
   ]
  },
  {
   "cell_type": "markdown",
   "metadata": {
    "id": "G5SEQnlu__hc"
   },
   "source": [
    "Как видно из описания, столбец возраста клиентов Age содержит в себе значения от 18 (min) до 92 (max). В это же время, количество продуктов определено на интервале [1:4], а интервалы значений столбцов Balance,CreditScore и EstimatedSalary несоразмерно больше. Чтобы будущий алгоритм не воспринял в дальнейшем не воспринял эти признаки как более значимые, необходимо произвести стандартизацию данных, т.е масштабирование численных признаков. "
   ]
  },
  {
   "cell_type": "code",
   "execution_count": null,
   "metadata": {
    "id": "FuO2hfVB__hc"
   },
   "outputs": [],
   "source": [
    "pd.options.mode.chained_assignment = None # игнорирование предупреждения SettingWithCopy при записи изменённых признаков в исходный датафрейм\n",
    "numeric = ['CreditScore','Age','Tenure','Balance','NumOfProducts','EstimatedSalary'] #список числовых столбцов для масштабирования\n",
    "scaler = StandardScaler() # создание структуры\n",
    "scaler.fit(features_train[numeric]) # настройка StandardScaler на обучающих данных\n",
    "# преобразование выборок\n",
    "features_train[numeric] = scaler.transform(features_train[numeric])\n",
    "features_valid[numeric] = scaler.transform(features_valid[numeric]) \n",
    "features_test[numeric] = scaler.transform(features_test[numeric])"
   ]
  },
  {
   "cell_type": "code",
   "execution_count": null,
   "metadata": {
    "id": "BhP--mjk__hc",
    "outputId": "0796b7d4-20e2-4c0f-e809-58abc30f4b33"
   },
   "outputs": [
    {
     "data": {
      "text/html": [
       "<div>\n",
       "<style scoped>\n",
       "    .dataframe tbody tr th:only-of-type {\n",
       "        vertical-align: middle;\n",
       "    }\n",
       "\n",
       "    .dataframe tbody tr th {\n",
       "        vertical-align: top;\n",
       "    }\n",
       "\n",
       "    .dataframe thead th {\n",
       "        text-align: right;\n",
       "    }\n",
       "</style>\n",
       "<table border=\"1\" class=\"dataframe\">\n",
       "  <thead>\n",
       "    <tr style=\"text-align: right;\">\n",
       "      <th></th>\n",
       "      <th>CreditScore</th>\n",
       "      <th>Gender</th>\n",
       "      <th>Age</th>\n",
       "      <th>Tenure</th>\n",
       "      <th>Balance</th>\n",
       "      <th>NumOfProducts</th>\n",
       "      <th>HasCrCard</th>\n",
       "      <th>IsActiveMember</th>\n",
       "      <th>EstimatedSalary</th>\n",
       "      <th>Geography_Germany</th>\n",
       "      <th>Geography_Spain</th>\n",
       "    </tr>\n",
       "  </thead>\n",
       "  <tbody>\n",
       "    <tr>\n",
       "      <th>9344</th>\n",
       "      <td>0.809075</td>\n",
       "      <td>0</td>\n",
       "      <td>-1.039327</td>\n",
       "      <td>-1.025995</td>\n",
       "      <td>0.554904</td>\n",
       "      <td>-0.908179</td>\n",
       "      <td>1</td>\n",
       "      <td>0</td>\n",
       "      <td>0.019508</td>\n",
       "      <td>0</td>\n",
       "      <td>0</td>\n",
       "    </tr>\n",
       "    <tr>\n",
       "      <th>3796</th>\n",
       "      <td>-1.152518</td>\n",
       "      <td>1</td>\n",
       "      <td>-1.227561</td>\n",
       "      <td>0.696524</td>\n",
       "      <td>0.480609</td>\n",
       "      <td>-0.908179</td>\n",
       "      <td>0</td>\n",
       "      <td>0</td>\n",
       "      <td>0.056167</td>\n",
       "      <td>0</td>\n",
       "      <td>0</td>\n",
       "    </tr>\n",
       "    <tr>\n",
       "      <th>7462</th>\n",
       "      <td>-0.398853</td>\n",
       "      <td>1</td>\n",
       "      <td>0.090079</td>\n",
       "      <td>1.385532</td>\n",
       "      <td>-1.237830</td>\n",
       "      <td>-0.908179</td>\n",
       "      <td>1</td>\n",
       "      <td>1</td>\n",
       "      <td>0.848738</td>\n",
       "      <td>0</td>\n",
       "      <td>0</td>\n",
       "    </tr>\n",
       "    <tr>\n",
       "      <th>1508</th>\n",
       "      <td>-0.749875</td>\n",
       "      <td>1</td>\n",
       "      <td>-0.286389</td>\n",
       "      <td>0.352020</td>\n",
       "      <td>-1.237830</td>\n",
       "      <td>0.809300</td>\n",
       "      <td>1</td>\n",
       "      <td>1</td>\n",
       "      <td>-0.894953</td>\n",
       "      <td>0</td>\n",
       "      <td>0</td>\n",
       "    </tr>\n",
       "    <tr>\n",
       "      <th>4478</th>\n",
       "      <td>-1.028628</td>\n",
       "      <td>1</td>\n",
       "      <td>-0.756975</td>\n",
       "      <td>-0.336987</td>\n",
       "      <td>-1.237830</td>\n",
       "      <td>0.809300</td>\n",
       "      <td>0</td>\n",
       "      <td>1</td>\n",
       "      <td>-1.284516</td>\n",
       "      <td>0</td>\n",
       "      <td>0</td>\n",
       "    </tr>\n",
       "  </tbody>\n",
       "</table>\n",
       "</div>"
      ],
      "text/plain": [
       "      CreditScore Gender       Age    Tenure   Balance  NumOfProducts  \\\n",
       "9344     0.809075      0 -1.039327 -1.025995  0.554904      -0.908179   \n",
       "3796    -1.152518      1 -1.227561  0.696524  0.480609      -0.908179   \n",
       "7462    -0.398853      1  0.090079  1.385532 -1.237830      -0.908179   \n",
       "1508    -0.749875      1 -0.286389  0.352020 -1.237830       0.809300   \n",
       "4478    -1.028628      1 -0.756975 -0.336987 -1.237830       0.809300   \n",
       "\n",
       "     HasCrCard IsActiveMember  EstimatedSalary Geography_Germany  \\\n",
       "9344         1              0         0.019508                 0   \n",
       "3796         0              0         0.056167                 0   \n",
       "7462         1              1         0.848738                 0   \n",
       "1508         1              1        -0.894953                 0   \n",
       "4478         0              1        -1.284516                 0   \n",
       "\n",
       "     Geography_Spain  \n",
       "9344               0  \n",
       "3796               0  \n",
       "7462               0  \n",
       "1508               0  \n",
       "4478               0  "
      ]
     },
     "metadata": {},
     "output_type": "display_data"
    }
   ],
   "source": [
    "display(features_train.head()) # преобразование прошло успешно. Признаки масштабировались"
   ]
  },
  {
   "cell_type": "markdown",
   "metadata": {
    "id": "1wDOtMRo__hc"
   },
   "source": [
    "### Подбор модели"
   ]
  },
  {
   "cell_type": "markdown",
   "metadata": {
    "id": "MZOZ8nmU__hc"
   },
   "source": [
    "После того, как в выборках остались только категориальные и масштабированные численные признаки, можно приступать к обучению поделей.\n",
    "Подбор параметров будем осуществлять в цикле с главным критерием - f1 метрики."
   ]
  },
  {
   "cell_type": "markdown",
   "metadata": {
    "id": "jwA84vo6__hc"
   },
   "source": [
    "<div class=\"alert alert-info\">\n",
    "<h2> Комментарий студента: <a class=\"tocSkip\"> </h2>\n",
    "<b></b> Основная задача проекта звучала следующим образом:\n",
    "    \"Постройте модель с предельно большим значением F1-меры. Чтобы сдать проект успешно, нужно довести метрику до 0.59. Проверьте F1-меру на тестовой выборке самостоятельно. Дополнительно измеряйте AUC-ROC, сравнивайте её значение с F1-мерой.\"\n",
    "    \n",
    "    Как известно, F-1 меру определяют как среднее гармоническое precision и recall. В этом случае, я бы сказал, что нам важен баланс этих двух метрик. Если рассматривать кейс в ключе, сказанном в описании проекта, а именно: \"Банковские маркетологи посчитали: сохранять текущих клиентов дешевле, чем привлекать новых\". В таком случае, наиболее важно для бизнеса: найти всех клиентов, которые могут захотеть уйти. Тогда можем считать, что метрика recall у нас будет в приоритете.\n",
    "</div> \n"
   ]
  },
  {
   "cell_type": "markdown",
   "metadata": {
    "id": "OGtnSADF__hc"
   },
   "source": [
    "<div class=\"alert alert-info\">\n",
    "<h2> Комментарий студента: <a class=\"tocSkip\"> </h2>\n",
    "<b></b> Добавим к циклу вывод метрики AUC-ROC и Recall\n",
    "</div> "
   ]
  },
  {
   "cell_type": "code",
   "execution_count": null,
   "metadata": {
    "id": "TgT5R2K-__hc",
    "outputId": "db9b4c48-8fd7-46d7-dcda-69e3ba8e5a2b"
   },
   "outputs": [
    {
     "data": {
      "text/plain": [
       "'Наилучшая глубина решающего дерева'"
      ]
     },
     "metadata": {},
     "output_type": "display_data"
    },
    {
     "data": {
      "text/plain": [
       "7"
      ]
     },
     "metadata": {},
     "output_type": "display_data"
    },
    {
     "data": {
      "text/plain": [
       "'Наилучшая метрика f1'"
      ]
     },
     "metadata": {},
     "output_type": "display_data"
    },
    {
     "data": {
      "text/plain": [
       "0.5764331210191083"
      ]
     },
     "metadata": {},
     "output_type": "display_data"
    },
    {
     "data": {
      "text/plain": [
       "'Метрика полноты лучшей модели'"
      ]
     },
     "metadata": {},
     "output_type": "display_data"
    },
    {
     "data": {
      "text/plain": [
       "0.48010610079575594"
      ]
     },
     "metadata": {},
     "output_type": "display_data"
    },
    {
     "data": {
      "text/plain": [
       "'Метрика AUC-ROC лучшей модели'"
      ]
     },
     "metadata": {},
     "output_type": "display_data"
    },
    {
     "data": {
      "text/plain": [
       "0.8346049843812412"
      ]
     },
     "metadata": {},
     "output_type": "display_data"
    }
   ],
   "source": [
    "best_model_TC = None\n",
    "best_result_TC = 0\n",
    "best_depth_TC = 0\n",
    "best_recall_TC = 0\n",
    "best_AUCROC_TC = 0\n",
    "for depth in range(1,50): # цикл на перебор глубины решающего дерева\n",
    "    model_TC = DecisionTreeClassifier(max_depth=depth,random_state=12345) # параметр рандома 12345\n",
    "    model_TC.fit(features_train, target_train) #обучаем модель на тренировочной выборке\n",
    "    predictions_valid = model_TC.predict(features_valid) # предсказания модели\n",
    "    result_TC = f1_score(target_valid, predictions_valid) # подсчет метрики f1\n",
    "    recall_TC = recall_score(target_valid, predictions_valid)\n",
    "    probabilities_TC = model_TC.predict_proba(features_valid)\n",
    "    probabilities_one_TC = probabilities_TC[:, 1]\n",
    "    auc_roc_TC = roc_auc_score(target_valid, probabilities_one_TC) \n",
    "    if result_TC > best_result_TC: #отбор наилучших параметров\n",
    "        best_model_TC = model_TC #сохраним лучшую модель\n",
    "        best_result_TC = result_TC #лучший результат метрики f1\n",
    "        best_depth_TC = depth #лучшая глубина дерева\n",
    "        best_recall_TC = recall_TC\n",
    "        best_AUCROC_TC = auc_roc_TC\n",
    "display(\"Наилучшая глубина решающего дерева\", best_depth_TC)\n",
    "display('Наилучшая метрика f1',best_result_TC)\n",
    "display('Метрика полноты лучшей модели',best_recall_TC)\n",
    "display('Метрика AUC-ROC лучшей модели',best_AUCROC_TC)"
   ]
  },
  {
   "cell_type": "markdown",
   "metadata": {
    "id": "ICUGp_67__hc"
   },
   "source": [
    "### Модель случайного леса"
   ]
  },
  {
   "cell_type": "code",
   "execution_count": null,
   "metadata": {
    "id": "0t_U6omo__hc",
    "outputId": "094bb9bc-1f88-49cd-ac5c-1d8ab12ac43f"
   },
   "outputs": [
    {
     "data": {
      "text/plain": [
       "'Наилучшее количество решающих деревьев'"
      ]
     },
     "metadata": {},
     "output_type": "display_data"
    },
    {
     "data": {
      "text/plain": [
       "90"
      ]
     },
     "metadata": {},
     "output_type": "display_data"
    },
    {
     "data": {
      "text/plain": [
       "'Лучшая глубина решающего дерева'"
      ]
     },
     "metadata": {},
     "output_type": "display_data"
    },
    {
     "data": {
      "text/plain": [
       "26"
      ]
     },
     "metadata": {},
     "output_type": "display_data"
    },
    {
     "data": {
      "text/plain": [
       "'Лучшая метрика f1'"
      ]
     },
     "metadata": {},
     "output_type": "display_data"
    },
    {
     "data": {
      "text/plain": [
       "0.5960264900662251"
      ]
     },
     "metadata": {},
     "output_type": "display_data"
    },
    {
     "data": {
      "text/plain": [
       "'Лучшая метрика полноты модели'"
      ]
     },
     "metadata": {},
     "output_type": "display_data"
    },
    {
     "data": {
      "text/plain": [
       "0.47745358090185674"
      ]
     },
     "metadata": {},
     "output_type": "display_data"
    },
    {
     "data": {
      "text/plain": [
       "'Лучшая метрика AUC-ROC модели'"
      ]
     },
     "metadata": {},
     "output_type": "display_data"
    },
    {
     "data": {
      "text/plain": [
       "0.8612332652869636"
      ]
     },
     "metadata": {},
     "output_type": "display_data"
    }
   ],
   "source": [
    "best_model = None\n",
    "best_depth = 0\n",
    "best_est = 0\n",
    "best_f1 = 0\n",
    "best_AUCROC_RF = 0\n",
    "best_recall_RF = 0\n",
    "for est in range(10,100,10): #количество решающих деревьев 10-100, разбег 10\n",
    "    for depth in range (1,50): #глубина решающего дерева 1-50\n",
    "        model = RandomForestClassifier(random_state=12345, n_estimators=est,max_depth=depth) # обучим модель с количеством деревьев (от 1 до 100)\n",
    "        model.fit(features_train,target_train) # обучим модель на тренировочной выборке\n",
    "        predictions_valid_RF = model.predict(features_valid) # предсказания модели\n",
    "        f1_RF = f1_score(target_valid, predictions_valid_RF)\n",
    "        recall_RF = recall_score(target_valid, predictions_valid_RF)\n",
    "        probabilities_RF = model.predict_proba(features_valid)\n",
    "        probabilities_one_RF = probabilities_RF[:, 1]\n",
    "        auc_roc_RF = roc_auc_score(target_valid, probabilities_one_RF)\n",
    "        if f1_RF > best_f1:\n",
    "            best_model = model # сохраним наилучшую модель\n",
    "            best_est = est #записываем лучшее значение количества решающих деревьев\n",
    "            best_depth = depth #запись глубины решающего дерева\n",
    "            best_f1 = f1_RF\n",
    "            best_AUCROC_RF = auc_roc_RF\n",
    "            best_recall_RF = recall_RF\n",
    "display(\"Наилучшее количество решающих деревьев\", best_est)\n",
    "display(\"Лучшая глубина решающего дерева\", best_depth)\n",
    "display(\"Лучшая метрика f1\", best_f1)\n",
    "display(\"Лучшая метрика полноты модели\", best_recall_RF)\n",
    "display(\"Лучшая метрика AUC-ROC модели\", best_AUCROC_RF)"
   ]
  },
  {
   "cell_type": "markdown",
   "metadata": {
    "id": "tRLV72U8__hd"
   },
   "source": [
    "### Модель логистической регрессии"
   ]
  },
  {
   "cell_type": "code",
   "execution_count": null,
   "metadata": {
    "id": "ZL0ZZlrc__hd",
    "outputId": "aeb446c2-90c9-4cdc-f9cc-67c6c308ecea"
   },
   "outputs": [
    {
     "data": {
      "text/plain": [
       "'Наилучшее количество итераций обучения'"
      ]
     },
     "metadata": {},
     "output_type": "display_data"
    },
    {
     "data": {
      "text/plain": [
       "100"
      ]
     },
     "metadata": {},
     "output_type": "display_data"
    },
    {
     "data": {
      "text/plain": [
       "'Лучшая метрика f1'"
      ]
     },
     "metadata": {},
     "output_type": "display_data"
    },
    {
     "data": {
      "text/plain": [
       "0.30400000000000005"
      ]
     },
     "metadata": {},
     "output_type": "display_data"
    },
    {
     "data": {
      "text/plain": [
       "'Лучшая метрика полноты модели'"
      ]
     },
     "metadata": {},
     "output_type": "display_data"
    },
    {
     "data": {
      "text/plain": [
       "0.20159151193633953"
      ]
     },
     "metadata": {},
     "output_type": "display_data"
    },
    {
     "data": {
      "text/plain": [
       "'Лучшая метрика AUC-ROC модели'"
      ]
     },
     "metadata": {},
     "output_type": "display_data"
    },
    {
     "data": {
      "text/plain": [
       "0.773663293800172"
      ]
     },
     "metadata": {},
     "output_type": "display_data"
    }
   ],
   "source": [
    "best_model_LR = None\n",
    "best_result_LR = 0\n",
    "best_iter_LR = 0\n",
    "f1_LR_best = 0\n",
    "best_AUCROC_LR = 0\n",
    "best_recall_LR = 0\n",
    "for x in range(100,200): # цикл на перебор количества итераций обучения\n",
    "    model_LR = LogisticRegression(random_state=12345, solver='lbfgs', max_iter=x) \n",
    "    model_LR.fit(features_train,target_train) # обучение модели\n",
    "    predictions_valid_LR = model_LR.predict(features_valid) # предсказания модели\n",
    "    f1_LR = f1_score(target_valid, predictions_valid_LR)\n",
    "    recall_LR = recall_score(target_valid, predictions_valid_LR)\n",
    "    probabilities_LR = model_LR.predict_proba(features_valid)\n",
    "    probabilities_one_LR = probabilities_LR[:, 1]\n",
    "    auc_roc_LR = roc_auc_score(target_valid, probabilities_one_LR)\n",
    "    if f1_LR > f1_LR_best: #отбор наилучших параметров\n",
    "            best_model_LR = model_LR # сохраним наилучшую модель\n",
    "            best_iter_LR = x #запись количества итераций\n",
    "            f1_LR_best = f1_LR\n",
    "            best_AUCROC_LR = auc_roc_LR\n",
    "            best_recall_LR = recall_LR\n",
    "display(\"Наилучшее количество итераций обучения\", best_iter_LR) \n",
    "display(\"Лучшая метрика f1\", f1_LR_best)\n",
    "display(\"Лучшая метрика полноты модели\", best_recall_LR)\n",
    "display(\"Лучшая метрика AUC-ROC модели\", best_AUCROC_LR)"
   ]
  },
  {
   "cell_type": "markdown",
   "metadata": {
    "id": "d5Iz6zl2__hd"
   },
   "source": [
    "### Вывод по исследованию моделей:"
   ]
  },
  {
   "cell_type": "markdown",
   "metadata": {
    "id": "BZnDfrIF__hd"
   },
   "source": [
    "В рамках подготовки и рассмотрения моделей, было проанализировано 3 модели: \n",
    "1. Модель решающего дерева\n",
    "\n",
    "Наилучшая глубина решающего дерева: 7;\n",
    "\n",
    "Наилучшая метрика f1: 0.5764331210191083;\n",
    "\n",
    "Метрика полноты лучшей модели: 0.48010610079575594;\n",
    "\n",
    "Метрика AUC-ROC лучшей модели: 0.8346049843812412.\n",
    "\n",
    "\n",
    "2. Модель случайного леса\n",
    "\n",
    "Наилучшее количество решающих деревьев: 90;\n",
    "\n",
    "Лучшая глубина решающего дерева: 26;\n",
    "\n",
    "Лучшая метрика f1: 0.5960264900662251;\n",
    "\n",
    "Лучшая метрика полноты модели: 0.47745358090185674;\n",
    "\n",
    "Лучшая метрика AUC-ROC модели: 0.8612332652869636.\n",
    "\n",
    "\n",
    "3. Модель логистической регрессии\n",
    "\n",
    "Наилучшее количество итераций обучения: 100;\n",
    "\n",
    "Лучшая метрика f1: 0.30400000000000005;\n",
    "\n",
    "Лучшая метрика полноты модели: 0.20159151193633953;\n",
    "\n",
    "Лучшая метрика AUC-ROC модели: 0.773663293800172."
   ]
  },
  {
   "cell_type": "markdown",
   "metadata": {
    "id": "WHOhwB_b__hd"
   },
   "source": [
    "Все модели были вписаны в цикл таким образом, чтобы подобрать наилучшие параметры для максимизации требуемой в задаче метрики F1. В результате, среди прочих, выгодно отличилась модель решающего дерева, т.к она показывает более высокое значение данного параметра."
   ]
  },
  {
   "cell_type": "markdown",
   "metadata": {
    "id": "R7WNNnWu__hd"
   },
   "source": [
    "<div class=\"alert alert-info\">\n",
    "<h2> Комментарий студента: <a class=\"tocSkip\"> </h2>\n",
    "<b></b> Поправил циклы и вывод по моделям выше\n",
    "</div> "
   ]
  },
  {
   "cell_type": "markdown",
   "metadata": {
    "id": "xqEI5hGt__hd"
   },
   "source": [
    "## Борьба с дисбалансом"
   ]
  },
  {
   "cell_type": "markdown",
   "metadata": {
    "id": "KrXIWJwT__hd"
   },
   "source": [
    "### Доли значений целевого столбца"
   ]
  },
  {
   "cell_type": "markdown",
   "metadata": {
    "id": "9uzbIqwr__hd"
   },
   "source": [
    "Чтобы проверить, не стали ли мы жертвой случайности (а именно: рандома при отделении выборок) посмотрим на количество значений (0 и 1) целевого столбца в выборках и исходных данных в целом:"
   ]
  },
  {
   "cell_type": "code",
   "execution_count": null,
   "metadata": {
    "id": "8Gg6ASNw__hd",
    "outputId": "327d01e5-0bac-4ea6-f8b2-0f4e6d156439"
   },
   "outputs": [
    {
     "data": {
      "text/plain": [
       "'Доля классов целевого столбца в исходных данных'"
      ]
     },
     "metadata": {},
     "output_type": "display_data"
    },
    {
     "data": {
      "text/plain": [
       "0    0.796062\n",
       "1    0.203938\n",
       "Name: Exited, dtype: float64"
      ]
     },
     "metadata": {},
     "output_type": "display_data"
    },
    {
     "data": {
      "text/plain": [
       "'Доля классов целевого столбца в обучающей выборке'"
      ]
     },
     "metadata": {},
     "output_type": "display_data"
    },
    {
     "data": {
      "text/plain": [
       "0    0.793546\n",
       "1    0.206454\n",
       "Name: Exited, dtype: float64"
      ]
     },
     "metadata": {},
     "output_type": "display_data"
    },
    {
     "data": {
      "text/plain": [
       "'Доля классов целевого столбца в валидационной выборке'"
      ]
     },
     "metadata": {},
     "output_type": "display_data"
    },
    {
     "data": {
      "text/plain": [
       "0    0.792629\n",
       "1    0.207371\n",
       "Name: Exited, dtype: float64"
      ]
     },
     "metadata": {},
     "output_type": "display_data"
    },
    {
     "data": {
      "text/plain": [
       "'Доля классов целевого столбца в тестовой выборке'"
      ]
     },
     "metadata": {},
     "output_type": "display_data"
    },
    {
     "data": {
      "text/plain": [
       "0    0.807037\n",
       "1    0.192963\n",
       "Name: Exited, dtype: float64"
      ]
     },
     "metadata": {},
     "output_type": "display_data"
    }
   ],
   "source": [
    "display('Доля классов целевого столбца в исходных данных',df['Exited'].value_counts(normalize=True))\n",
    "display('Доля классов целевого столбца в обучающей выборке',train['Exited'].value_counts(normalize=True))\n",
    "display('Доля классов целевого столбца в валидационной выборке',valid['Exited'].value_counts(normalize=True))\n",
    "display('Доля классов целевого столбца в тестовой выборке',test['Exited'].value_counts(normalize=True))"
   ]
  },
  {
   "cell_type": "markdown",
   "metadata": {
    "id": "Imji5kpn__hd"
   },
   "source": [
    "Распределение долей в исходных данных и выборках отличаются несущественно. Соотношение всегда близко к 80:20. Использование параметра stratify не требуется."
   ]
  },
  {
   "cell_type": "markdown",
   "metadata": {
    "id": "QTNiR_89__hd"
   },
   "source": [
    "### Матрица ошибок решающего дерева"
   ]
  },
  {
   "cell_type": "code",
   "execution_count": null,
   "metadata": {
    "id": "hFC9pl6J__hd",
    "outputId": "681a9a50-2a30-48ac-f6ed-9a585ffc2227"
   },
   "outputs": [
    {
     "data": {
      "text/plain": [
       "'TN:'"
      ]
     },
     "metadata": {},
     "output_type": "display_data"
    },
    {
     "data": {
      "text/plain": [
       "1371"
      ]
     },
     "metadata": {},
     "output_type": "display_data"
    },
    {
     "data": {
      "text/plain": [
       "'FP:'"
      ]
     },
     "metadata": {},
     "output_type": "display_data"
    },
    {
     "data": {
      "text/plain": [
       "70"
      ]
     },
     "metadata": {},
     "output_type": "display_data"
    },
    {
     "data": {
      "text/plain": [
       "'FN:'"
      ]
     },
     "metadata": {},
     "output_type": "display_data"
    },
    {
     "data": {
      "text/plain": [
       "196"
      ]
     },
     "metadata": {},
     "output_type": "display_data"
    },
    {
     "data": {
      "text/plain": [
       "'TP:'"
      ]
     },
     "metadata": {},
     "output_type": "display_data"
    },
    {
     "data": {
      "text/plain": [
       "181"
      ]
     },
     "metadata": {},
     "output_type": "display_data"
    }
   ],
   "source": [
    "best_model_TC.fit(features_train, target_train)\n",
    "DTC_prediction = best_model_TC.predict(features_valid)\n",
    "tn,fp,fn,tp = confusion_matrix(target_valid, DTC_prediction).ravel()\n",
    "display('TN:',tn,'FP:',fp,'FN:',fn,'TP:',tp)"
   ]
  },
  {
   "cell_type": "markdown",
   "metadata": {
    "id": "hK1BhbW3__hd"
   },
   "source": [
    "### Recall"
   ]
  },
  {
   "cell_type": "code",
   "execution_count": null,
   "metadata": {
    "id": "Vr8gkose__hd",
    "outputId": "e5a66e29-1361-4559-c6dd-1f5b29083d31"
   },
   "outputs": [
    {
     "data": {
      "text/plain": [
       "0.48010610079575594"
      ]
     },
     "metadata": {},
     "output_type": "display_data"
    }
   ],
   "source": [
    "recall = recall_score(target_valid, DTC_prediction)\n",
    "display(recall)"
   ]
  },
  {
   "cell_type": "markdown",
   "metadata": {
    "id": "nhs-F1Gs__hd"
   },
   "source": [
    "Доля объектов положительного класса из всех объектов положительного класса найденная алгоритмом: 0.48"
   ]
  },
  {
   "cell_type": "markdown",
   "metadata": {
    "id": "F1DqhQ6t__he"
   },
   "source": [
    "<div class=\"alert alert-info\">\n",
    "<h2> Комментарий студента: <a class=\"tocSkip\"> </h2>\n",
    "<b></b> Pardon, \"доля объектов положительного класса из всех объектов положительного класса найденная алгоритмом\". Так лучше!\n",
    "</div> "
   ]
  },
  {
   "cell_type": "markdown",
   "metadata": {
    "id": "Ocea6lOz__he"
   },
   "source": [
    "### Precision"
   ]
  },
  {
   "cell_type": "code",
   "execution_count": null,
   "metadata": {
    "id": "s7ZfzleW__he",
    "outputId": "aac25c8f-1b67-439e-f2ae-b05f80233669"
   },
   "outputs": [
    {
     "data": {
      "text/plain": [
       "0.7211155378486056"
      ]
     },
     "metadata": {},
     "output_type": "display_data"
    }
   ],
   "source": [
    "precision = precision_score(target_valid, DTC_prediction)\n",
    "display(precision)"
   ]
  },
  {
   "cell_type": "markdown",
   "metadata": {
    "id": "-IyqfRan__he"
   },
   "source": [
    "Доля отрицательных ответов, которую нашла модель, пока искала положительные: 0.72"
   ]
  },
  {
   "cell_type": "markdown",
   "metadata": {
    "id": "zIUQE2L4__he"
   },
   "source": [
    "### F-1"
   ]
  },
  {
   "cell_type": "code",
   "execution_count": null,
   "metadata": {
    "id": "BOxzSvAg__he",
    "outputId": "8ab1adeb-d5f9-4627-e831-18dd5ea9c850"
   },
   "outputs": [
    {
     "data": {
      "text/plain": [
       "0.5764331210191083"
      ]
     },
     "metadata": {},
     "output_type": "display_data"
    }
   ],
   "source": [
    "f1 = f1_score(target_valid, DTC_prediction)\n",
    "display(f1)"
   ]
  },
  {
   "cell_type": "markdown",
   "metadata": {
    "id": "AvZgqy01__he"
   },
   "source": [
    "Для того чтобы повысить значение F-1 меры, нам нужно добиться наилучшего баланса между полнотой и точностью. Для этого попробуем подобрать такое пороговое значение, при котором значение метрики F-1 будет максимальным."
   ]
  },
  {
   "cell_type": "markdown",
   "metadata": {
    "id": "FL232gJo__he"
   },
   "source": [
    "Первый метод, который можно попробовать для балансировки классов - изменения порогового значения."
   ]
  },
  {
   "cell_type": "markdown",
   "metadata": {
    "id": "qYAriT9m__he"
   },
   "source": [
    "### Thresholds"
   ]
  },
  {
   "cell_type": "markdown",
   "metadata": {
    "id": "PcFwpMUD__he"
   },
   "source": [
    "#### Вероятность классов"
   ]
  },
  {
   "cell_type": "code",
   "execution_count": null,
   "metadata": {
    "id": "C0TSgRss__he",
    "outputId": "de9ee7df-563d-4312-88e5-28212f0f229c"
   },
   "outputs": [
    {
     "data": {
      "text/plain": [
       "array([0.35483871, 0.05214724, 0.42857143, 0.06372549, 0.06372549])"
      ]
     },
     "metadata": {},
     "output_type": "display_data"
    }
   ],
   "source": [
    "probabilities_valid = best_model_TC.predict_proba(features_valid)\n",
    "probabilities_one_valid = probabilities_valid[:, 1]\n",
    "display(probabilities_one_valid[:5])"
   ]
  },
  {
   "cell_type": "markdown",
   "metadata": {
    "id": "jGrnRdQO__he"
   },
   "source": [
    "#### Перебор порогов"
   ]
  },
  {
   "cell_type": "markdown",
   "metadata": {
    "id": "6couh4il__he"
   },
   "source": [
    "Выявим, при каком значении порога, метрика F-1 будет максимальной. Для этого сделаем цикл по перебору порогов:"
   ]
  },
  {
   "cell_type": "code",
   "execution_count": null,
   "metadata": {
    "id": "rD5Xe7Zj__he",
    "outputId": "f668e35f-4b25-4294-fcf4-d0174b26982b"
   },
   "outputs": [
    {
     "name": "stdout",
     "output_type": "stream",
     "text": [
      "Порог = 0.28 | Точность = 0.622, Полнота = 0.623, F1 = 0.623\n"
     ]
    }
   ],
   "source": [
    "best_threshold = 0\n",
    "best_f1_result = 0\n",
    "best_precision_result = 0\n",
    "best_recall_result = 0\n",
    "for threshold in np.arange(0, 1, 0.02):\n",
    "    predicted_valid = probabilities_one_valid > threshold \n",
    "    precision_result = precision_score(target_valid,predicted_valid)\n",
    "    recall_result = recall_score(target_valid,predicted_valid)\n",
    "    f1_result = f1_score(target_valid, predicted_valid)\n",
    "    if f1_result > best_f1_result:\n",
    "        best_threshold = threshold\n",
    "        best_f1_result = f1_result\n",
    "        best_precision_result = precision_result\n",
    "        best_recall_result = recall_result\n",
    "print(\"Порог = {:.2f} | Точность = {:.3f}, Полнота = {:.3f}, F1 = {:.3f}\".format(best_threshold, best_precision_result, best_recall_result,best_f1_result))"
   ]
  },
  {
   "cell_type": "markdown",
   "metadata": {
    "id": "uD9LgqbG__he"
   },
   "source": [
    "Таким образом, наибольшее значение F-1 будет достигнуто при значении порога в 0.28 и составит 0.623."
   ]
  },
  {
   "cell_type": "markdown",
   "metadata": {
    "id": "iZeYkUkq__he"
   },
   "source": [
    "<div class=\"alert alert-info\">\n",
    "<h2> Комментарий студента: <a class=\"tocSkip\"> </h2>\n",
    "<b></b> Опять таки, основная задача проекта декларировалась, как \"повышение метрики F-1 модели до значения 0,59\"(минимум). Это основной \"входной\" порог без которого сдать проект было в принципе нельзя. Возможно это свело меня с логики решения бизнес задачи на путь пустого повышения метрики F-1. Отвечая на вопрос еще кокнкретнее: увеличивая пороговую вероятность, мы увеличиваем точность, но снижаем полноту. Это влияет в том числе и на метрику F-1. Что мы улучшаем? Ответ: среднее гармоническое между precision и recall. \n",
    "</div> "
   ]
  },
  {
   "cell_type": "markdown",
   "metadata": {
    "id": "mBXdNyYp__he"
   },
   "source": [
    "#### Разметка классов по порогу "
   ]
  },
  {
   "cell_type": "markdown",
   "metadata": {
    "id": "cmeaLmYT__he"
   },
   "source": [
    "Т.к явно указать значение порога мы не можем, необходимо вручную разметить классы по пороговому значению"
   ]
  },
  {
   "cell_type": "code",
   "execution_count": null,
   "metadata": {
    "id": "xJv1ETBF__he"
   },
   "outputs": [],
   "source": [
    "prob = (probabilities_one_valid > 0.58)*1"
   ]
  },
  {
   "cell_type": "code",
   "execution_count": null,
   "metadata": {
    "id": "LPk0kUIT__hf",
    "outputId": "3e9dd185-4f9b-4643-bb92-4a1e88150c61"
   },
   "outputs": [
    {
     "data": {
      "text/plain": [
       "0.537521815008726"
      ]
     },
     "metadata": {},
     "output_type": "display_data"
    }
   ],
   "source": [
    "display(f1_score(target_valid,prob))"
   ]
  },
  {
   "cell_type": "code",
   "execution_count": null,
   "metadata": {
    "id": "BNOqLJL2__hf",
    "outputId": "ca62a9a3-5f7b-4df8-8638-f589131b4b89"
   },
   "outputs": [
    {
     "data": {
      "text/plain": [
       "0.6896708187837433"
      ]
     },
     "metadata": {},
     "output_type": "display_data"
    }
   ],
   "source": [
    "LgR_probabilities_one_valid = prob\n",
    "auc_roc_LgR = roc_auc_score(target_valid, LgR_probabilities_one_valid)\n",
    "display(auc_roc_LgR)"
   ]
  },
  {
   "cell_type": "code",
   "execution_count": null,
   "metadata": {
    "id": "4rfbatRn__hf",
    "outputId": "9e9d9c15-7d6e-4e7d-be83-90ca98f09d10"
   },
   "outputs": [
    {
     "data": {
      "image/png": "[encoded data removed]",
      "text/plain": [
       "<Figure size 432x288 with 1 Axes>"
      ]
     },
     "metadata": {
      "needs_background": "light"
     },
     "output_type": "display_data"
    }
   ],
   "source": [
    "fpr, tpr, thresholds = roc_curve(target_valid, prob) \n",
    "plt.figure()\n",
    "plt.plot(fpr, tpr)\n",
    "roc_auc = metrics.auc(fpr, tpr)\n",
    "plt.title('Receiver Operating Characteristic')\n",
    "plt.plot(fpr, tpr, 'b', label = 'AUC = %0.2f' % roc_auc)\n",
    "plt.legend(loc = 'lower right')\n",
    "plt.plot([0, 1], [0, 1],'r--')\n",
    "plt.xlim([0, 1])\n",
    "plt.ylim([0, 1])\n",
    "plt.ylabel('True Positive Rate')\n",
    "plt.xlabel('False Positive Rate')\n",
    "plt.show()"
   ]
  },
  {
   "cell_type": "markdown",
   "metadata": {
    "id": "IgZ4IUeh__hf"
   },
   "source": [
    "#### Результат изменения порога"
   ]
  },
  {
   "cell_type": "markdown",
   "metadata": {
    "id": "SgelZc7w__hf"
   },
   "source": [
    "Несмотря на то, что цикл показывал максимальное значение матрики F1 (0.623) при значении порога в 0.28, после ручной разметки классов результаты даже ухудшились (метрика F-1 составила 0.53), а ROC-кривая стала выглядеть ненормально. Видимо стоит попробовать что-то другое."
   ]
  },
  {
   "cell_type": "markdown",
   "metadata": {
    "id": "G8MDek9s__hf"
   },
   "source": [
    "### Метод взвешивания классов"
   ]
  },
  {
   "cell_type": "markdown",
   "metadata": {
    "id": "kuYLNDJo__hf"
   },
   "source": [
    "#### Решающее дерево:"
   ]
  },
  {
   "cell_type": "markdown",
   "metadata": {
    "id": "JIHV0A6B__hf"
   },
   "source": [
    "Придадим объектам класса, который встречается реже больший вес с помощью гиперпараметра class_weight и посмотрим на значение метрики F-1."
   ]
  },
  {
   "cell_type": "code",
   "execution_count": null,
   "metadata": {
    "id": "K4kP_Gru__hf",
    "outputId": "a49c03f1-9ed9-4b5f-ba3e-4cd556a9bce6"
   },
   "outputs": [
    {
     "data": {
      "text/plain": [
       "'метрика f1 после балансировки:'"
      ]
     },
     "metadata": {},
     "output_type": "display_data"
    },
    {
     "data": {
      "text/plain": [
       "0.5409990574929311"
      ]
     },
     "metadata": {},
     "output_type": "display_data"
    },
    {
     "data": {
      "text/plain": [
       "'Метрика полноты после балансировки:'"
      ]
     },
     "metadata": {},
     "output_type": "display_data"
    },
    {
     "data": {
      "text/plain": [
       "0.7612732095490716"
      ]
     },
     "metadata": {},
     "output_type": "display_data"
    },
    {
     "data": {
      "text/plain": [
       "'Метрика AUC-ROC после балансировки:'"
      ]
     },
     "metadata": {},
     "output_type": "display_data"
    },
    {
     "data": {
      "text/plain": [
       "0.8089605840329714"
      ]
     },
     "metadata": {},
     "output_type": "display_data"
    }
   ],
   "source": [
    "model_TC_b = DecisionTreeClassifier(max_depth=7,random_state=12345, class_weight = 'balanced') # параметр рандома 12345\n",
    "model_TC_b.fit(features_train, target_train) #обучаем модель на тренировочной выборке\n",
    "predictions_valid_b = model_TC_b.predict(features_valid) # предсказания модели\n",
    "result_TC_b = f1_score(target_valid, predictions_valid_b) # подсчет метрики f1\n",
    "recall_TC_b = recall_score(target_valid, predictions_valid_b)\n",
    "probabilities_TC_b = model_TC_b.predict_proba(features_valid)\n",
    "probabilities_one_TC_b = probabilities_TC_b[:, 1]\n",
    "auc_roc_TC_b = roc_auc_score(target_valid, probabilities_one_TC_b) \n",
    "\n",
    "display('метрика f1 после балансировки:',result_TC_b)\n",
    "display('Метрика полноты после балансировки:',recall_TC_b)\n",
    "display('Метрика AUC-ROC после балансировки:',auc_roc_TC_b)"
   ]
  },
  {
   "cell_type": "markdown",
   "metadata": {
    "id": "0u0DNY3p__hf"
   },
   "source": [
    "ROC-кривая:"
   ]
  },
  {
   "cell_type": "code",
   "execution_count": null,
   "metadata": {
    "id": "6axqMQyU__hf",
    "outputId": "ab70433b-6dd5-4ac0-d447-6b1cb6f93f9f"
   },
   "outputs": [
    {
     "data": {
      "image/png": "[encoded data removed]",
      "text/plain": [
       "<Figure size 432x288 with 1 Axes>"
      ]
     },
     "metadata": {
      "needs_background": "light"
     },
     "output_type": "display_data"
    }
   ],
   "source": [
    "fpr, tpr, thresholds = roc_curve(target_valid, probabilities_one_TC_b) \n",
    "plt.figure()\n",
    "plt.plot(fpr, tpr)\n",
    "# ROC-кривая случайной модели (выглядит как прямая)\n",
    "plt.plot([0, 1], [0, 1], linestyle='--')\n",
    "plt.xlim([0.0, 1.0])\n",
    "plt.ylim([0.0, 1.0])\n",
    "plt.xlabel('False Positive Rate')\n",
    "plt.ylabel('True Positive Rate')\n",
    "plt.title('ROC-кривая')\n",
    "plt.show()"
   ]
  },
  {
   "cell_type": "markdown",
   "metadata": {
    "id": "bdnMjI8K__hf"
   },
   "source": [
    "Итог взвешивания классов: значение метрики F-1 не изменилось, однако модель всё же лучше случайной. Пробуем другой метод."
   ]
  },
  {
   "cell_type": "markdown",
   "metadata": {
    "id": "Vg31cf4e__hf"
   },
   "source": [
    "#### Случайный лес:"
   ]
  },
  {
   "cell_type": "code",
   "execution_count": null,
   "metadata": {
    "id": "fLMJN7aY__hf",
    "outputId": "493335de-4ad5-4980-949c-65e8192e97ed"
   },
   "outputs": [
    {
     "data": {
      "text/plain": [
       "'метрика f1 после балансировки:'"
      ]
     },
     "metadata": {},
     "output_type": "display_data"
    },
    {
     "data": {
      "text/plain": [
       "0.5704584040747029"
      ]
     },
     "metadata": {},
     "output_type": "display_data"
    },
    {
     "data": {
      "text/plain": [
       "'полнота после балансировки:'"
      ]
     },
     "metadata": {},
     "output_type": "display_data"
    },
    {
     "data": {
      "text/plain": [
       "0.44562334217506633"
      ]
     },
     "metadata": {},
     "output_type": "display_data"
    },
    {
     "data": {
      "text/plain": [
       "'AUC-ROC после балансировки:'"
      ]
     },
     "metadata": {},
     "output_type": "display_data"
    },
    {
     "data": {
      "text/plain": [
       "0.8630003847166259"
      ]
     },
     "metadata": {},
     "output_type": "display_data"
    }
   ],
   "source": [
    "model_b = RandomForestClassifier(random_state=12345, n_estimators=90,max_depth=26, class_weight = 'balanced') # обучим модель с количеством деревьев (от 1 до 100)\n",
    "model_b.fit(features_train,target_train) # обучим модель на тренировочной выборке\n",
    "predictions_valid_RF_b = model_b.predict(features_valid) # предсказания модели\n",
    "f1_RF_b = f1_score(target_valid, predictions_valid_RF_b)\n",
    "recall_RF_b = recall_score(target_valid, predictions_valid_RF_b)\n",
    "probabilities_RF_b = model_b.predict_proba(features_valid)\n",
    "probabilities_one_RF_b = probabilities_RF_b[:, 1]\n",
    "auc_roc_RF_b = roc_auc_score(target_valid, probabilities_one_RF_b)\n",
    "        \n",
    "display(\"метрика f1 после балансировки:\", f1_RF_b)\n",
    "display(\"полнота после балансировки:\", recall_RF_b)\n",
    "display(\"AUC-ROC после балансировки:\", auc_roc_RF_b)"
   ]
  },
  {
   "cell_type": "code",
   "execution_count": null,
   "metadata": {
    "id": "fcmqHNk2__hf",
    "outputId": "8c9076a4-84cd-4a66-e420-92ce97e19542"
   },
   "outputs": [
    {
     "data": {
      "image/png": "[encoded data removed]",
      "text/plain": [
       "<Figure size 432x288 with 1 Axes>"
      ]
     },
     "metadata": {
      "needs_background": "light"
     },
     "output_type": "display_data"
    }
   ],
   "source": [
    "fpr, tpr, thresholds = roc_curve(target_valid, probabilities_one_RF_b) \n",
    "plt.figure()\n",
    "plt.plot(fpr, tpr)\n",
    "# ROC-кривая случайной модели (выглядит как прямая)\n",
    "plt.plot([0, 1], [0, 1], linestyle='--')\n",
    "plt.xlim([0.0, 1.0])\n",
    "plt.ylim([0.0, 1.0])\n",
    "plt.xlabel('False Positive Rate')\n",
    "plt.ylabel('True Positive Rate')\n",
    "plt.title('ROC-кривая')\n",
    "plt.show()"
   ]
  },
  {
   "cell_type": "markdown",
   "metadata": {
    "id": "TMmKPZ5m__hf"
   },
   "source": [
    "#### Логистическая регрессия:"
   ]
  },
  {
   "cell_type": "code",
   "execution_count": null,
   "metadata": {
    "id": "XgDsgOLk__hf",
    "outputId": "c03179fa-7656-41a4-a8a7-37cfd83a5d30"
   },
   "outputs": [
    {
     "data": {
      "text/plain": [
       "'метрика f1 после балансировки:'"
      ]
     },
     "metadata": {},
     "output_type": "display_data"
    },
    {
     "data": {
      "text/plain": [
       "0.509731232622799"
      ]
     },
     "metadata": {},
     "output_type": "display_data"
    },
    {
     "data": {
      "text/plain": [
       "'полнота после балансировки:'"
      ]
     },
     "metadata": {},
     "output_type": "display_data"
    },
    {
     "data": {
      "text/plain": [
       "0.7294429708222812"
      ]
     },
     "metadata": {},
     "output_type": "display_data"
    },
    {
     "data": {
      "text/plain": [
       "'AUC-ROC после балансировки:'"
      ]
     },
     "metadata": {},
     "output_type": "display_data"
    },
    {
     "data": {
      "text/plain": [
       "0.7777792094717602"
      ]
     },
     "metadata": {},
     "output_type": "display_data"
    }
   ],
   "source": [
    "model_LR_b = LogisticRegression(random_state=12345, solver='lbfgs', max_iter=100, class_weight = 'balanced') \n",
    "model_LR_b.fit(features_train,target_train) # обучение модели\n",
    "predictions_valid_LR_b = model_LR_b.predict(features_valid) # предсказания модели\n",
    "f1_LR_b = f1_score(target_valid, predictions_valid_LR_b)\n",
    "recall_LR_b = recall_score(target_valid, predictions_valid_LR_b)\n",
    "probabilities_LR_b = model_LR_b.predict_proba(features_valid)\n",
    "probabilities_one_LR_b = probabilities_LR_b[:, 1]\n",
    "auc_roc_LR_b = roc_auc_score(target_valid, probabilities_one_LR_b)\n",
    " \n",
    "display(\"метрика f1 после балансировки:\", f1_LR_b)\n",
    "display(\"полнота после балансировки:\", recall_LR_b)\n",
    "display(\"AUC-ROC после балансировки:\", auc_roc_LR_b)"
   ]
  },
  {
   "cell_type": "code",
   "execution_count": null,
   "metadata": {
    "id": "mR23vySO__hf",
    "outputId": "29f6ea9f-7b17-4cb5-ec05-8cab722482ce"
   },
   "outputs": [
    {
     "data": {
      "image/png": "[encoded data removed]",
      "text/plain": [
       "<Figure size 432x288 with 1 Axes>"
      ]
     },
     "metadata": {
      "needs_background": "light"
     },
     "output_type": "display_data"
    }
   ],
   "source": [
    "fpr, tpr, thresholds = roc_curve(target_valid, probabilities_one_LR_b) \n",
    "\n",
    "plt.figure()\n",
    "\n",
    "plt.plot(fpr, tpr)\n",
    "\n",
    "# ROC-кривая случайной модели (выглядит как прямая)\n",
    "plt.plot([0, 1], [0, 1], linestyle='--')\n",
    "\n",
    "plt.xlim([0.0, 1.0])\n",
    "plt.ylim([0.0, 1.0])\n",
    "plt.xlabel('False Positive Rate')\n",
    "plt.ylabel('True Positive Rate')\n",
    "plt.title('ROC-кривая')\n",
    "\n",
    "plt.show()"
   ]
  },
  {
   "cell_type": "markdown",
   "metadata": {
    "id": "Dg4o8UOd__hf"
   },
   "source": [
    "#### Результаты после взвешивания классов:"
   ]
  },
  {
   "cell_type": "markdown",
   "metadata": {
    "id": "stjk0G-S__hg"
   },
   "source": [
    "<div class=\"alert alert-info\">\n",
    "<h2> Комментарий студента: <a class=\"tocSkip\"> </h2>\n",
    "<b></b> \n",
    "    1. Модель решающего дерева\n",
    "    \n",
    "ДО: метрика f1: 0.5764331210191083;\n",
    "\n",
    "ПОСЛЕ: метрика f1: 0.5409990574929311 - значение снизилось\n",
    "\n",
    "ДО: полнота: 0.48010610079575594;\n",
    "\n",
    "ПОСЛЕ: полнота: 0.7612732095490716; - значение сильно возросло\n",
    "\n",
    "ДО: AUC-ROC: 0.8346049843812412;\n",
    "\n",
    "ПОСЛЕ: AUC-ROC: 0.8089605840329714 - значение снизилось\n",
    "\n",
    "2. Модель случайного леса\n",
    "\n",
    "ДО: f1: 0.5960264900662251;\n",
    "\n",
    "ПОСЛЕ: f1: 0.5704584040747029 - значение снизилось\n",
    "\n",
    "ДО: полнота: 0.47745358090185674;\n",
    "\n",
    "ПОСЛЕ: полнота: 0.44562334217506633 - значение снизилось\n",
    "\n",
    "ДО: AUC-ROC: 0.8612332652869636.\n",
    "\n",
    "ПОСЛЕ: AUC-ROC: 0.8630003847166259 - значение возросло незначительно\n",
    "\n",
    "3. Модель логистической регрессии\n",
    "\n",
    "ДО: f1: 0.30400000000000005;\n",
    "\n",
    "ПОСЛЕ: f1: 0.509731232622799 - значение возросло существенно\n",
    "\n",
    "ДО: полнота: 0.20159151193633953;\n",
    "\n",
    "ПОСЛЕ: полнота: 0.7294429708222812 - значение возросло существенно\n",
    "\n",
    "ДО: AUC-ROC: 0.773663293800172;\n",
    "\n",
    "ПОСЛЕ: AUC-ROC: 0.7777792094717602 - значение возросло незначительно\n",
    "</div> "
   ]
  },
  {
   "cell_type": "markdown",
   "metadata": {
    "id": "6jM5unn0__hg"
   },
   "source": [
    "<div class=\"alert alert-info\">\n",
    "<h2> Комментарий студента: <a class=\"tocSkip\"> </h2>\n",
    "<b></b> Был опробован метод взвешивания классов на всех трёх моделях. Модели с балансировкой обучались при тех же значениях гиперпараметров, что были на втором этапе, что позволяет сделать вывод о влиянии метода взвешивания классов на модель. Отчёт по результату можно увидеть выше!\n",
    "    Кроме прочего, вновь зададим цикл с перебором гиперпараметров, однако в этот раз пропишем в гиперпараметрах class_weight = balanced. Посмотрим, насколько высокие значения метрик мы сможем получить:\n",
    "</div> "
   ]
  },
  {
   "cell_type": "markdown",
   "metadata": {
    "id": "S2SucWO4__hg"
   },
   "source": [
    "<div class=\"alert alert-info\">\n",
    "<h2> Комментарий студента: <a class=\"tocSkip\"> </h2>\n",
    "<b></b> Цикл с взвешиванием классов решающего дерева:\n",
    "</div> "
   ]
  },
  {
   "cell_type": "code",
   "execution_count": null,
   "metadata": {
    "id": "Fif5YzS4__hg",
    "outputId": "b2d3c757-631b-4ab9-e386-3a8c90a345b4"
   },
   "outputs": [
    {
     "data": {
      "text/plain": [
       "'Наилучшая глубина решающего дерева'"
      ]
     },
     "metadata": {},
     "output_type": "display_data"
    },
    {
     "data": {
      "text/plain": [
       "5"
      ]
     },
     "metadata": {},
     "output_type": "display_data"
    },
    {
     "data": {
      "text/plain": [
       "'Наилучшая метрика f1'"
      ]
     },
     "metadata": {},
     "output_type": "display_data"
    },
    {
     "data": {
      "text/plain": [
       "0.5735449735449736"
      ]
     },
     "metadata": {},
     "output_type": "display_data"
    },
    {
     "data": {
      "text/plain": [
       "'Метрика полноты лучшей модели'"
      ]
     },
     "metadata": {},
     "output_type": "display_data"
    },
    {
     "data": {
      "text/plain": [
       "0.7188328912466844"
      ]
     },
     "metadata": {},
     "output_type": "display_data"
    },
    {
     "data": {
      "text/plain": [
       "'Метрика AUC-ROC лучшей модели'"
      ]
     },
     "metadata": {},
     "output_type": "display_data"
    },
    {
     "data": {
      "text/plain": [
       "0.8396523192522141"
      ]
     },
     "metadata": {},
     "output_type": "display_data"
    }
   ],
   "source": [
    "best_model_TC_cycle = None\n",
    "best_result_TC_cycle = 0\n",
    "best_depth_TC_cycle = 0\n",
    "best_recall_TC_cycle = 0\n",
    "best_AUCROC_TC_cycle = 0\n",
    "for depth in range(1,50): # цикл на перебор глубины решающего дерева\n",
    "    model_TC_cycle = DecisionTreeClassifier(max_depth=depth,random_state=12345, class_weight = 'balanced') # параметр рандома 12345\n",
    "    model_TC_cycle.fit(features_train, target_train) #обучаем модель на тренировочной выборке\n",
    "    predictions_valid_cycle = model_TC_cycle.predict(features_valid) # предсказания модели\n",
    "    result_TC_cycle = f1_score(target_valid, predictions_valid_cycle) # подсчет метрики f1\n",
    "    recall_TC_cycle = recall_score(target_valid, predictions_valid_cycle)\n",
    "    probabilities_TC_cycle = model_TC_cycle.predict_proba(features_valid)\n",
    "    probabilities_one_TC_cycle = probabilities_TC_cycle[:, 1]\n",
    "    auc_roc_TC_cycle = roc_auc_score(target_valid, probabilities_one_TC_cycle) \n",
    "    if result_TC_cycle > best_result_TC_cycle: #отбор наилучших параметров\n",
    "        best_model_TC_cycle = model_TC_cycle #сохраним лучшую модель\n",
    "        best_result_TC_cycle = result_TC_cycle #лучший результат метрики f1\n",
    "        best_depth_TC_cycle = depth #лучшая глубина дерева\n",
    "        best_recall_TC_cycle = recall_TC_cycle\n",
    "        best_AUCROC_TC_cycle = auc_roc_TC_cycle\n",
    "display(\"Наилучшая глубина решающего дерева\", best_depth_TC_cycle)\n",
    "display('Наилучшая метрика f1',best_result_TC_cycle)\n",
    "display('Метрика полноты лучшей модели',best_recall_TC_cycle)\n",
    "display('Метрика AUC-ROC лучшей модели',best_AUCROC_TC_cycle)"
   ]
  },
  {
   "cell_type": "markdown",
   "metadata": {
    "id": "cWMwIwkL__hg"
   },
   "source": [
    "<div class=\"alert alert-info\">\n",
    "<h2> Комментарий студента: <a class=\"tocSkip\"> </h2>\n",
    "<b></b> Цикл с взвешиванием классов случайного леса:\n",
    "</div> "
   ]
  },
  {
   "cell_type": "code",
   "execution_count": null,
   "metadata": {
    "id": "jAdGS3dG__hg",
    "outputId": "30497ced-f579-41af-f421-cb46125ffed7"
   },
   "outputs": [
    {
     "data": {
      "text/plain": [
       "'Наилучшее количество решающих деревьев'"
      ]
     },
     "metadata": {},
     "output_type": "display_data"
    },
    {
     "data": {
      "text/plain": [
       "70"
      ]
     },
     "metadata": {},
     "output_type": "display_data"
    },
    {
     "data": {
      "text/plain": [
       "'Лучшая глубина решающего дерева'"
      ]
     },
     "metadata": {},
     "output_type": "display_data"
    },
    {
     "data": {
      "text/plain": [
       "10"
      ]
     },
     "metadata": {},
     "output_type": "display_data"
    },
    {
     "data": {
      "text/plain": [
       "'Лучшая метрика f1'"
      ]
     },
     "metadata": {},
     "output_type": "display_data"
    },
    {
     "data": {
      "text/plain": [
       "0.6533333333333333"
      ]
     },
     "metadata": {},
     "output_type": "display_data"
    },
    {
     "data": {
      "text/plain": [
       "'Лучшая метрика полноты модели'"
      ]
     },
     "metadata": {},
     "output_type": "display_data"
    },
    {
     "data": {
      "text/plain": [
       "0.649867374005305"
      ]
     },
     "metadata": {},
     "output_type": "display_data"
    },
    {
     "data": {
      "text/plain": [
       "'Лучшая метрика AUC-ROC модели'"
      ]
     },
     "metadata": {},
     "output_type": "display_data"
    },
    {
     "data": {
      "text/plain": [
       "0.8671126188894022"
      ]
     },
     "metadata": {},
     "output_type": "display_data"
    }
   ],
   "source": [
    "best_model_cycle = None\n",
    "best_depth_cycle = 0\n",
    "best_est_cycle = 0\n",
    "best_f1_cycle = 0\n",
    "best_AUCROC_RF_cycle = 0\n",
    "best_recall_RF_cycle = 0\n",
    "for est in range(10,100,10): #количество решающих деревьев 10-100, разбег 10\n",
    "    for depth in range (1,50): #глубина решающего дерева 1-50\n",
    "        model_cycle = RandomForestClassifier(random_state=12345, n_estimators=est,max_depth=depth, class_weight = 'balanced') # обучим модель с количеством деревьев (от 1 до 100)\n",
    "        model_cycle.fit(features_train,target_train) # обучим модель на тренировочной выборке\n",
    "        predictions_valid_RF_cycle = model_cycle.predict(features_valid) # предсказания модели\n",
    "        f1_RF_cycle = f1_score(target_valid, predictions_valid_RF_cycle)\n",
    "        recall_RF_cycle = recall_score(target_valid, predictions_valid_RF_cycle)\n",
    "        probabilities_RF_cycle = model_cycle.predict_proba(features_valid)\n",
    "        probabilities_one_RF_cycle = probabilities_RF_cycle[:, 1]\n",
    "        auc_roc_RF_cycle = roc_auc_score(target_valid, probabilities_one_RF_cycle)\n",
    "        if f1_RF_cycle > best_f1_cycle:\n",
    "            best_model_cycle = model_cycle # сохраним наилучшую модель\n",
    "            best_est_cycle = est #записываем лучшее значение количества решающих деревьев\n",
    "            best_depth_cycle = depth #запись глубины решающего дерева\n",
    "            best_f1_cycle = f1_RF_cycle\n",
    "            best_AUCROC_RF_cycle = auc_roc_RF_cycle\n",
    "            best_recall_RF_cycle = recall_RF_cycle\n",
    "display(\"Наилучшее количество решающих деревьев\", best_est_cycle)\n",
    "display(\"Лучшая глубина решающего дерева\", best_depth_cycle)\n",
    "display(\"Лучшая метрика f1\", best_f1_cycle)\n",
    "display(\"Лучшая метрика полноты модели\", best_recall_RF_cycle)\n",
    "display(\"Лучшая метрика AUC-ROC модели\", best_AUCROC_RF_cycle)"
   ]
  },
  {
   "cell_type": "markdown",
   "metadata": {
    "id": "6HmzjNKF__hg"
   },
   "source": [
    "<div class=\"alert alert-info\">\n",
    "<h2> Комментарий студента: <a class=\"tocSkip\"> </h2>\n",
    "<b></b> Цикл с взвешиванием классов логистической регрессии:\n",
    "</div> "
   ]
  },
  {
   "cell_type": "code",
   "execution_count": null,
   "metadata": {
    "id": "3FQoJjVZ__hg",
    "outputId": "4fdcbb4e-7b2d-499e-be00-ad9385034110"
   },
   "outputs": [
    {
     "data": {
      "text/plain": [
       "'Наилучшее количество итераций обучения'"
      ]
     },
     "metadata": {},
     "output_type": "display_data"
    },
    {
     "data": {
      "text/plain": [
       "100"
      ]
     },
     "metadata": {},
     "output_type": "display_data"
    },
    {
     "data": {
      "text/plain": [
       "'Лучшая метрика f1'"
      ]
     },
     "metadata": {},
     "output_type": "display_data"
    },
    {
     "data": {
      "text/plain": [
       "0.509731232622799"
      ]
     },
     "metadata": {},
     "output_type": "display_data"
    },
    {
     "data": {
      "text/plain": [
       "'Лучшая метрика полноты модели'"
      ]
     },
     "metadata": {},
     "output_type": "display_data"
    },
    {
     "data": {
      "text/plain": [
       "0.7294429708222812"
      ]
     },
     "metadata": {},
     "output_type": "display_data"
    },
    {
     "data": {
      "text/plain": [
       "'Лучшая метрика AUC-ROC модели'"
      ]
     },
     "metadata": {},
     "output_type": "display_data"
    },
    {
     "data": {
      "text/plain": [
       "0.7777792094717602"
      ]
     },
     "metadata": {},
     "output_type": "display_data"
    }
   ],
   "source": [
    "best_model_LR_cycle = None\n",
    "best_result_LR_cycle = 0\n",
    "best_iter_LR_cycle = 0\n",
    "f1_LR_best_cycle = 0\n",
    "best_AUCROC_LR_cycle = 0\n",
    "best_recall_LR_cycle = 0\n",
    "for x in range(100,150): # цикл на перебор количества итераций обучения\n",
    "    model_LR_cycle = LogisticRegression(random_state=12345, solver='lbfgs', max_iter=x, class_weight = 'balanced') \n",
    "    model_LR_cycle.fit(features_train,target_train) # обучение модели\n",
    "    predictions_valid_LR_cycle = model_LR_cycle.predict(features_valid) # предсказания модели\n",
    "    f1_LR_cycle = f1_score(target_valid, predictions_valid_LR_cycle)\n",
    "    recall_LR_cycle = recall_score(target_valid, predictions_valid_LR_cycle)\n",
    "    probabilities_LR_cycle = model_LR_cycle.predict_proba(features_valid)\n",
    "    probabilities_one_LR_cycle = probabilities_LR_cycle[:, 1]\n",
    "    auc_roc_LR_cycle = roc_auc_score(target_valid, probabilities_one_LR_cycle)\n",
    "    if f1_LR_cycle > f1_LR_best_cycle: #отбор наилучших параметров\n",
    "            best_model_LR_cycle = model_LR_cycle # сохраним наилучшую модель\n",
    "            best_iter_LR_cycle = x #запись количества итераций\n",
    "            f1_LR_best_cycle = f1_LR_cycle\n",
    "            best_AUCROC_LR_cycle = auc_roc_LR_cycle\n",
    "            best_recall_LR_cycle = recall_LR_cycle\n",
    "display(\"Наилучшее количество итераций обучения\", best_iter_LR_cycle) \n",
    "display(\"Лучшая метрика f1\", f1_LR_best_cycle)\n",
    "display(\"Лучшая метрика полноты модели\", best_recall_LR_cycle)\n",
    "display(\"Лучшая метрика AUC-ROC модели\", best_AUCROC_LR_cycle)"
   ]
  },
  {
   "cell_type": "markdown",
   "metadata": {
    "id": "I4DZhbt1__hg"
   },
   "source": [
    "<div class=\"alert alert-info\">\n",
    "<h2> Комментарий студента: <a class=\"tocSkip\"> </h2>\n",
    "<b></b> Сравнение всех параметров всех моделей:\n",
    "</div> "
   ]
  },
  {
   "cell_type": "markdown",
   "metadata": {
    "id": "3c5HGnZJ__hg"
   },
   "source": [
    "<div class=\"alert alert-info\">\n",
    "<h2> Комментарий студента: <a class=\"tocSkip\"> </h2>\n",
    "<b></b> Решающее дерево:\n",
    "</div> "
   ]
  },
  {
   "cell_type": "markdown",
   "metadata": {
    "id": "hGNeWBcT__hg"
   },
   "source": [
    "1. F-1:\n",
    "\n",
    "Лучшая модель на цикле: 0.5764331210191083; - лучший показатель для моделей решающего дерева\n",
    "\n",
    "Эта же модель после взвешивания классов: 0.5409990574929311\n",
    "\n",
    "Лучшая модель с балансировкой класса на цикле: 0.5735449735449736\n",
    "\n",
    "2. Recall:\n",
    "\n",
    "Лучшая модель на цикле: 0.48010610079575594;\n",
    "\n",
    "Эта же модель после взвешивания классов: 0.7612732095490716 - лучший показатель для моделей решающего дерева\n",
    "\n",
    "Лучшая модель с балансировкой класса на цикле: 0.7188328912466844\n",
    "\n",
    "3. AUC-ROC:\n",
    "\n",
    "Лучшая модель на цикле: 0.8346049843812412.\n",
    "\n",
    "Эта же модель после взвешивания классов: 0.8089605840329714\n",
    "\n",
    "Лучшая модель с балансировкой класса на цикле: 0.8396523192522141 - лучший показатель для моделей решающего дерева"
   ]
  },
  {
   "cell_type": "markdown",
   "metadata": {
    "id": "dB5AMBgt__hg"
   },
   "source": [
    "<div class=\"alert alert-info\">\n",
    "<h2> Комментарий студента: <a class=\"tocSkip\"> </h2>\n",
    "<b></b> Случайный лес:\n",
    "</div> "
   ]
  },
  {
   "cell_type": "markdown",
   "metadata": {
    "id": "EsnqAD7Q__hg"
   },
   "source": [
    "1. F-1:\n",
    "\n",
    "Лучшая модель на цикле: 0.5960264900662251;\n",
    "\n",
    "Эта же модель после взвешивания классов: 0.5704584040747029\n",
    "\n",
    "Лучшая модель с балансировкой класса на цикле: 0.6533333333333333 - лучшая\n",
    "\n",
    "2. Recall:\n",
    "\n",
    "Лучшая модель на цикле: 0.47745358090185674;\n",
    "\n",
    "Эта же модель после взвешивания классов: 0.44562334217506633\n",
    "\n",
    "Лучшая модель с балансировкой класса на цикле: 0.649867374005305 - лучшая\n",
    "\n",
    "3. AUC-ROC:\n",
    "\n",
    "Лучшая модель на цикле: 0.8612332652869636.\n",
    "\n",
    "Эта же модель после взвешивания классов: 0.8630003847166259\n",
    "\n",
    "Лучшая модель с балансировкой класса на цикле: 0.8671126188894022 - лучшая"
   ]
  },
  {
   "cell_type": "markdown",
   "metadata": {
    "id": "R48IJGYy__hg"
   },
   "source": [
    "<div class=\"alert alert-info\">\n",
    "<h2> Комментарий студента: <a class=\"tocSkip\"> </h2>\n",
    "<b></b> Логистическая регрессия:\n",
    "</div> "
   ]
  },
  {
   "cell_type": "markdown",
   "metadata": {
    "id": "dTpYG-2D__hh"
   },
   "source": [
    "1. F-1:\n",
    "\n",
    "Лучшая модель на цикле: 0.30400000000000005; - худшая\n",
    "\n",
    "Эта же модель после взвешивания классов: 0.509731232622799 - лучше \n",
    "\n",
    "Лучшая модель с балансировкой класса на цикле: 0.509731232622799 - такой же показатель\n",
    "\n",
    "2. Recall:\n",
    "\n",
    "Лучшая модель на цикле: 0.20159151193633953; - худшая\n",
    "\n",
    "Эта же модель после взвешивания классов: 0.7294429708222812 - лучше\n",
    "\n",
    "Лучшая модель с балансировкой класса на цикле: 0.7294429708222812 - так же\n",
    "\n",
    "3. AUC-ROC:\n",
    "\n",
    "Лучшая модель на цикле: 0.773663293800172. - худшая\n",
    "\n",
    "Эта же модель после взвешивания классов: 0.7777792094717602 - незначительно лучше\n",
    "\n",
    "Лучшая модель с балансировкой класса на цикле: 0.7777792094717602 - такая же"
   ]
  },
  {
   "cell_type": "markdown",
   "metadata": {
    "id": "Gtcyk_nN__hh"
   },
   "source": [
    "<div class=\"alert alert-info\">\n",
    "<h2> Комментарий студента: <a class=\"tocSkip\"> </h2>\n",
    "<b></b> Т.к критерием сдачи проекта числится метрика модели F-1, то лучшей моделью будем считать модель случайного леса с взвешиванием классов на цикле. Значение F-1 у неё на данный момент максимальное, а именно: F1 = 0.653. По критерию максимизации Recall выигрывает модель решающего дерева с гиперпараметрами, отобранными ДО взвешивания классов, однако подвергнутую взвешиванию в последующем: Recall = 0.761. Лучшую метрику AUC-ROC продемонстрировала модель случайного леса с взвешиванием класса на цикле: AUC-ROC = 0.867. Таким образом, стоит выпускать на тест модель случайного леса, с гиперпараметрами, полученными в ходе прогона через цикл с взвешиванием классов, т.к она выигрывает по 2 из 3 значений ключевых для нас параметров.\n",
    "</div> "
   ]
  },
  {
   "cell_type": "markdown",
   "metadata": {
    "id": "EklsdNoV__hh"
   },
   "source": [
    "### Downsampling + Cross-validation"
   ]
  },
  {
   "cell_type": "markdown",
   "metadata": {
    "id": "psluI9dl__hh"
   },
   "source": [
    "Cделаем объекты частого класса не такими частыми, но прежде, для кросс-валидации объединим обучающую и валидационные выборки. Этого требуют принципы кросс-валидации."
   ]
  },
  {
   "cell_type": "code",
   "execution_count": null,
   "metadata": {
    "id": "FRPq2bGW__hh"
   },
   "outputs": [],
   "source": [
    "features_united = pd.concat([features_valid, features_train])\n",
    "target_united = pd.concat([target_valid, target_train])"
   ]
  },
  {
   "cell_type": "code",
   "execution_count": null,
   "metadata": {
    "id": "lYmvBp8n__hh"
   },
   "outputs": [],
   "source": [
    "def downsample (features,target):\n",
    "    features_zeros = features[target == 0]\n",
    "    features_ones = features[target == 1]\n",
    "    target_zeros = target[target == 0]\n",
    "    target_ones = target[target == 1]\n",
    "    \n",
    "    fraction = round(len(features_ones)/len(features_zeros), 1)\n",
    "    features_downsampled = pd.concat([features_zeros.sample(frac=fraction,random_state=12345)] + [features_ones])\n",
    "    target_downsampled = pd.concat([target_zeros.sample(frac=fraction,random_state = 12345)] + [target_ones])\n",
    "    \n",
    "    features_downsampled, target_downsampled = shuffle(features_downsampled,target_downsampled, random_state = 12345)\n",
    "    \n",
    "    return  features_downsampled, target_downsampled\n",
    "\n",
    "features_downsampled, target_downsampled = downsample(features_united,target_united)"
   ]
  },
  {
   "cell_type": "markdown",
   "metadata": {
    "id": "oCaGL78R__hh"
   },
   "source": [
    "Обучим модель с помощью таких данных (используя кросс-валидацию):"
   ]
  },
  {
   "cell_type": "code",
   "execution_count": null,
   "metadata": {
    "id": "N7GJu-_8__hh",
    "outputId": "9de9efb7-470d-4c68-814b-13335eb3120a"
   },
   "outputs": [
    {
     "name": "stdout",
     "output_type": "stream",
     "text": [
      "Оптимальные гиперпараметры:\n",
      "{'max_depth': 8, 'min_samples_leaf': 5, 'min_samples_split': 2}\n",
      "fl: 0.7325979588124374\n"
     ]
    }
   ],
   "source": [
    "param_DT = {'max_depth': range (2, 50, 2), 'min_samples_leaf': [1, 3, 5, 7], 'min_samples_split': range (2, 10, 2)}\n",
    "\n",
    "model_DT = DecisionTreeClassifier(random_state=12345)\n",
    "\n",
    "grid_DT = GridSearchCV(estimator = model_DT, param_grid = param_DT, scoring = 'f1', cv = 4, n_jobs = -1)\n",
    "                       \n",
    "grid_DT.fit(features_downsampled, target_downsampled)\n",
    "best_model_DT =  grid_DT.best_estimator_\n",
    "print (f'Оптимальные гиперпараметры:\\n{grid_DT.best_params_}\\nfl: {grid_DT.best_score_}')"
   ]
  },
  {
   "cell_type": "markdown",
   "metadata": {
    "id": "-ciCXQEE__hh"
   },
   "source": [
    "На первый взгляд dowmsampling в сочетании с кросс-валидацией сработали очень хорошо. Посмотрим другие параметры:"
   ]
  },
  {
   "cell_type": "markdown",
   "metadata": {
    "id": "oHrBu61b__hh"
   },
   "source": [
    "Матрица ошибок:"
   ]
  },
  {
   "cell_type": "code",
   "execution_count": null,
   "metadata": {
    "id": "cy5SMAoJ__hh",
    "outputId": "cbde474d-86e8-4f3e-ddb3-010d9239e1eb"
   },
   "outputs": [
    {
     "data": {
      "text/plain": [
       "'TN:'"
      ]
     },
     "metadata": {},
     "output_type": "display_data"
    },
    {
     "data": {
      "text/plain": [
       "1160"
      ]
     },
     "metadata": {},
     "output_type": "display_data"
    },
    {
     "data": {
      "text/plain": [
       "'FP:'"
      ]
     },
     "metadata": {},
     "output_type": "display_data"
    },
    {
     "data": {
      "text/plain": [
       "281"
      ]
     },
     "metadata": {},
     "output_type": "display_data"
    },
    {
     "data": {
      "text/plain": [
       "'FN:'"
      ]
     },
     "metadata": {},
     "output_type": "display_data"
    },
    {
     "data": {
      "text/plain": [
       "70"
      ]
     },
     "metadata": {},
     "output_type": "display_data"
    },
    {
     "data": {
      "text/plain": [
       "'TP:'"
      ]
     },
     "metadata": {},
     "output_type": "display_data"
    },
    {
     "data": {
      "text/plain": [
       "307"
      ]
     },
     "metadata": {},
     "output_type": "display_data"
    }
   ],
   "source": [
    "best_prediction = best_model_DT.predict(features_valid)\n",
    "tn,fp,fn,tp = confusion_matrix(target_valid, best_prediction).ravel()\n",
    "display('TN:',tn,'FP:',fp,'FN:',fn,'TP:',tp)"
   ]
  },
  {
   "cell_type": "markdown",
   "metadata": {
    "id": "uEO_Uq-c__hh"
   },
   "source": [
    "Precision:"
   ]
  },
  {
   "cell_type": "code",
   "execution_count": null,
   "metadata": {
    "id": "Tjz2Dg8J__hh",
    "outputId": "89a0cc93-d8a6-4a81-a2f0-e0ab191e4607"
   },
   "outputs": [
    {
     "data": {
      "text/plain": [
       "0.7211155378486056"
      ]
     },
     "metadata": {},
     "output_type": "display_data"
    }
   ],
   "source": [
    "best_precision_DT = precision_score(target_valid, best_prediction)\n",
    "display(precision)"
   ]
  },
  {
   "cell_type": "markdown",
   "metadata": {
    "id": "B00QZEse__hh"
   },
   "source": [
    "Recall:"
   ]
  },
  {
   "cell_type": "code",
   "execution_count": null,
   "metadata": {
    "id": "btStsDhU__hh",
    "outputId": "0765ec10-808e-4ca1-f504-4873a9ceab24"
   },
   "outputs": [
    {
     "data": {
      "text/plain": [
       "0.48010610079575594"
      ]
     },
     "metadata": {},
     "output_type": "display_data"
    }
   ],
   "source": [
    "best_recall = recall_score(target_valid, best_prediction)\n",
    "display(recall)"
   ]
  },
  {
   "cell_type": "markdown",
   "metadata": {
    "id": "Dqwyxp4z__hh"
   },
   "source": [
    "F1:"
   ]
  },
  {
   "cell_type": "code",
   "execution_count": null,
   "metadata": {
    "id": "xAr08vuT__hh",
    "outputId": "de9386a5-dacd-4df9-8390-07452d073377"
   },
   "outputs": [
    {
     "data": {
      "text/plain": [
       "0.5764331210191083"
      ]
     },
     "metadata": {},
     "output_type": "display_data"
    }
   ],
   "source": [
    "f1_best = f1_score(target_valid, best_prediction)\n",
    "display(f1)"
   ]
  },
  {
   "cell_type": "markdown",
   "metadata": {
    "id": "YA0_QBXG__hh"
   },
   "source": [
    "ROC-кривая:"
   ]
  },
  {
   "cell_type": "code",
   "execution_count": null,
   "metadata": {
    "id": "QGc4HEB3__hh",
    "outputId": "880b866e-d69c-4dff-8ee0-21d2494d91b5"
   },
   "outputs": [
    {
     "data": {
      "text/plain": [
       "0.7987149728397425"
      ]
     },
     "metadata": {},
     "output_type": "display_data"
    },
    {
     "data": {
      "image/png": "[encoded data removed]",
      "text/plain": [
       "<Figure size 432x288 with 1 Axes>"
      ]
     },
     "metadata": {
      "needs_background": "light"
     },
     "output_type": "display_data"
    }
   ],
   "source": [
    "probabilities_DT = best_model_DT.predict_proba(features_valid)\n",
    "probabilities_one_valid_DT = probabilities[:, 1]\n",
    "auc_roc_LgR = roc_auc_score(target_valid, probabilities_one)\n",
    "display(auc_roc_LgR)\n",
    "\n",
    "fpr, tpr, thresholds = roc_curve(target_valid, probabilities_one_valid_DT) \n",
    "\n",
    "plt.figure()\n",
    "\n",
    "plt.plot(fpr, tpr)\n",
    "\n",
    "# ROC-кривая случайной модели\n",
    "plt.plot([0, 1], [0, 1], linestyle='--')\n",
    "\n",
    "plt.xlim([0.0, 1.0])\n",
    "plt.ylim([0.0, 1.0])\n",
    "plt.xlabel('False Positive Rate')\n",
    "plt.ylabel('True Positive Rate')\n",
    "plt.title('ROC-кривая')\n",
    "\n",
    "plt.show()"
   ]
  },
  {
   "cell_type": "markdown",
   "metadata": {
    "id": "uWisBxM7__hi"
   },
   "source": [
    "### Вывод по решающему дереву:"
   ]
  },
  {
   "cell_type": "markdown",
   "metadata": {
    "id": "5Tn-RLeJ__hi"
   },
   "source": [
    "В ходе борьбы с дисбалансом была выбрана модель решающего дерева. Для решения проблемы дисбаланса, применялись методы даунсемплинга в сочетании с кросс-валидацией, взвешивание классов и изменение порога. Даунсемплинг с кросс-валидацией дали самый ощутимый прирост метрики F-1, однако при проверке решающего дерева на тестовых данных, метрика вновь вернулась к прежним низким показателям. В связи с этим, будет выбрана модель случайного леса. К ней будет применена кросс-валидация и даунсемплинг, как самый эффективный метод повышения метрики F-1."
   ]
  },
  {
   "cell_type": "markdown",
   "metadata": {
    "id": "jEDVZMw3__hi"
   },
   "source": [
    "### Даунсеплинг с кросс-валидацией случайного леса"
   ]
  },
  {
   "cell_type": "code",
   "execution_count": null,
   "metadata": {
    "id": "I_gDVJaP__hi",
    "outputId": "f1947381-7048-4a34-9640-c30f8251c5ad"
   },
   "outputs": [
    {
     "name": "stdout",
     "output_type": "stream",
     "text": [
      "Fitting 4 folds for each of 100 candidates, totalling 400 fits\n",
      "[CV] END max_depth=70, max_features=auto, min_samples_leaf=1, min_samples_split=6, n_estimators=30; total time=   0.1s\n",
      "[CV] END max_depth=70, max_features=auto, min_samples_leaf=1, min_samples_split=6, n_estimators=30; total time=   0.1s\n",
      "[CV] END max_depth=70, max_features=auto, min_samples_leaf=1, min_samples_split=6, n_estimators=30; total time=   0.1s\n",
      "[CV] END max_depth=70, max_features=auto, min_samples_leaf=1, min_samples_split=6, n_estimators=30; total time=   0.1s\n",
      "[CV] END max_depth=40, max_features=sqrt, min_samples_leaf=1, min_samples_split=6, n_estimators=60; total time=   0.2s\n",
      "[CV] END max_depth=40, max_features=sqrt, min_samples_leaf=1, min_samples_split=6, n_estimators=60; total time=   0.2s\n",
      "[CV] END max_depth=40, max_features=sqrt, min_samples_leaf=1, min_samples_split=6, n_estimators=60; total time=   0.2s\n",
      "[CV] END max_depth=40, max_features=sqrt, min_samples_leaf=1, min_samples_split=6, n_estimators=60; total time=   0.2s\n",
      "[CV] END max_depth=30, max_features=auto, min_samples_leaf=7, min_samples_split=6, n_estimators=50; total time=   0.2s\n",
      "[CV] END max_depth=30, max_features=auto, min_samples_leaf=7, min_samples_split=6, n_estimators=50; total time=   0.2s\n",
      "[CV] END max_depth=30, max_features=auto, min_samples_leaf=7, min_samples_split=6, n_estimators=50; total time=   0.1s\n",
      "[CV] END max_depth=30, max_features=auto, min_samples_leaf=7, min_samples_split=6, n_estimators=50; total time=   0.2s\n",
      "[CV] END max_depth=60, max_features=auto, min_samples_leaf=3, min_samples_split=2, n_estimators=50; total time=   0.2s\n",
      "[CV] END max_depth=60, max_features=auto, min_samples_leaf=3, min_samples_split=2, n_estimators=50; total time=   0.2s\n",
      "[CV] END max_depth=60, max_features=auto, min_samples_leaf=3, min_samples_split=2, n_estimators=50; total time=   0.2s\n",
      "[CV] END max_depth=60, max_features=auto, min_samples_leaf=3, min_samples_split=2, n_estimators=50; total time=   0.2s\n",
      "[CV] END max_depth=60, max_features=sqrt, min_samples_leaf=1, min_samples_split=4, n_estimators=70; total time=   0.2s\n",
      "[CV] END max_depth=60, max_features=sqrt, min_samples_leaf=1, min_samples_split=4, n_estimators=70; total time=   0.2s\n",
      "[CV] END max_depth=60, max_features=sqrt, min_samples_leaf=1, min_samples_split=4, n_estimators=70; total time=   0.2s\n",
      "[CV] END max_depth=60, max_features=sqrt, min_samples_leaf=1, min_samples_split=4, n_estimators=70; total time=   0.3s\n",
      "[CV] END max_depth=30, max_features=auto, min_samples_leaf=3, min_samples_split=6, n_estimators=60; total time=   0.2s\n",
      "[CV] END max_depth=30, max_features=auto, min_samples_leaf=3, min_samples_split=6, n_estimators=60; total time=   0.2s\n",
      "[CV] END max_depth=30, max_features=auto, min_samples_leaf=3, min_samples_split=6, n_estimators=60; total time=   0.2s\n",
      "[CV] END max_depth=30, max_features=auto, min_samples_leaf=3, min_samples_split=6, n_estimators=60; total time=   0.2s\n",
      "[CV] END max_depth=40, max_features=auto, min_samples_leaf=1, min_samples_split=6, n_estimators=60; total time=   0.2s\n",
      "[CV] END max_depth=40, max_features=auto, min_samples_leaf=1, min_samples_split=6, n_estimators=60; total time=   0.2s\n",
      "[CV] END max_depth=40, max_features=auto, min_samples_leaf=1, min_samples_split=6, n_estimators=60; total time=   0.2s\n",
      "[CV] END max_depth=40, max_features=auto, min_samples_leaf=1, min_samples_split=6, n_estimators=60; total time=   0.2s\n",
      "[CV] END max_depth=50, max_features=auto, min_samples_leaf=7, min_samples_split=8, n_estimators=70; total time=   0.2s\n",
      "[CV] END max_depth=50, max_features=auto, min_samples_leaf=7, min_samples_split=8, n_estimators=70; total time=   0.2s\n",
      "[CV] END max_depth=50, max_features=auto, min_samples_leaf=7, min_samples_split=8, n_estimators=70; total time=   0.2s\n",
      "[CV] END max_depth=50, max_features=auto, min_samples_leaf=7, min_samples_split=8, n_estimators=70; total time=   0.2s\n",
      "[CV] END max_depth=30, max_features=sqrt, min_samples_leaf=5, min_samples_split=2, n_estimators=60; total time=   0.2s\n",
      "[CV] END max_depth=30, max_features=sqrt, min_samples_leaf=5, min_samples_split=2, n_estimators=60; total time=   0.2s\n",
      "[CV] END max_depth=30, max_features=sqrt, min_samples_leaf=5, min_samples_split=2, n_estimators=60; total time=   0.2s\n",
      "[CV] END max_depth=30, max_features=sqrt, min_samples_leaf=5, min_samples_split=2, n_estimators=60; total time=   0.2s\n",
      "[CV] END max_depth=30, max_features=sqrt, min_samples_leaf=3, min_samples_split=2, n_estimators=70; total time=   0.2s\n",
      "[CV] END max_depth=30, max_features=sqrt, min_samples_leaf=3, min_samples_split=2, n_estimators=70; total time=   0.2s\n",
      "[CV] END max_depth=30, max_features=sqrt, min_samples_leaf=3, min_samples_split=2, n_estimators=70; total time=   0.2s\n",
      "[CV] END max_depth=30, max_features=sqrt, min_samples_leaf=3, min_samples_split=2, n_estimators=70; total time=   0.2s\n",
      "[CV] END max_depth=50, max_features=sqrt, min_samples_leaf=1, min_samples_split=2, n_estimators=30; total time=   0.1s\n",
      "[CV] END max_depth=50, max_features=sqrt, min_samples_leaf=1, min_samples_split=2, n_estimators=30; total time=   0.1s\n",
      "[CV] END max_depth=50, max_features=sqrt, min_samples_leaf=1, min_samples_split=2, n_estimators=30; total time=   0.1s\n",
      "[CV] END max_depth=50, max_features=sqrt, min_samples_leaf=1, min_samples_split=2, n_estimators=30; total time=   0.1s\n",
      "[CV] END max_depth=90, max_features=sqrt, min_samples_leaf=7, min_samples_split=6, n_estimators=70; total time=   0.2s\n",
      "[CV] END max_depth=90, max_features=sqrt, min_samples_leaf=7, min_samples_split=6, n_estimators=70; total time=   0.2s\n",
      "[CV] END max_depth=90, max_features=sqrt, min_samples_leaf=7, min_samples_split=6, n_estimators=70; total time=   0.2s\n",
      "[CV] END max_depth=90, max_features=sqrt, min_samples_leaf=7, min_samples_split=6, n_estimators=70; total time=   0.2s\n",
      "[CV] END max_depth=60, max_features=auto, min_samples_leaf=5, min_samples_split=4, n_estimators=60; total time=   0.2s\n",
      "[CV] END max_depth=60, max_features=auto, min_samples_leaf=5, min_samples_split=4, n_estimators=60; total time=   0.2s\n",
      "[CV] END max_depth=60, max_features=auto, min_samples_leaf=5, min_samples_split=4, n_estimators=60; total time=   0.2s\n",
      "[CV] END max_depth=60, max_features=auto, min_samples_leaf=5, min_samples_split=4, n_estimators=60; total time=   0.2s\n",
      "[CV] END max_depth=50, max_features=auto, min_samples_leaf=1, min_samples_split=4, n_estimators=60; total time=   0.2s\n",
      "[CV] END max_depth=50, max_features=auto, min_samples_leaf=1, min_samples_split=4, n_estimators=60; total time=   0.2s\n",
      "[CV] END max_depth=50, max_features=auto, min_samples_leaf=1, min_samples_split=4, n_estimators=60; total time=   0.2s\n",
      "[CV] END max_depth=50, max_features=auto, min_samples_leaf=1, min_samples_split=4, n_estimators=60; total time=   0.2s\n",
      "[CV] END max_depth=90, max_features=sqrt, min_samples_leaf=5, min_samples_split=4, n_estimators=30; total time=   0.1s\n",
      "[CV] END max_depth=90, max_features=sqrt, min_samples_leaf=5, min_samples_split=4, n_estimators=30; total time=   0.1s\n",
      "[CV] END max_depth=90, max_features=sqrt, min_samples_leaf=5, min_samples_split=4, n_estimators=30; total time=   0.1s\n",
      "[CV] END max_depth=90, max_features=sqrt, min_samples_leaf=5, min_samples_split=4, n_estimators=30; total time=   0.1s\n",
      "[CV] END max_depth=50, max_features=sqrt, min_samples_leaf=3, min_samples_split=2, n_estimators=50; total time=   0.2s\n",
      "[CV] END max_depth=50, max_features=sqrt, min_samples_leaf=3, min_samples_split=2, n_estimators=50; total time=   0.2s\n",
      "[CV] END max_depth=50, max_features=sqrt, min_samples_leaf=3, min_samples_split=2, n_estimators=50; total time=   0.2s\n",
      "[CV] END max_depth=50, max_features=sqrt, min_samples_leaf=3, min_samples_split=2, n_estimators=50; total time=   0.2s\n",
      "[CV] END max_depth=40, max_features=auto, min_samples_leaf=3, min_samples_split=6, n_estimators=60; total time=   0.2s\n",
      "[CV] END max_depth=40, max_features=auto, min_samples_leaf=3, min_samples_split=6, n_estimators=60; total time=   0.2s\n",
      "[CV] END max_depth=40, max_features=auto, min_samples_leaf=3, min_samples_split=6, n_estimators=60; total time=   0.2s\n",
      "[CV] END max_depth=40, max_features=auto, min_samples_leaf=3, min_samples_split=6, n_estimators=60; total time=   0.2s\n",
      "[CV] END max_depth=50, max_features=sqrt, min_samples_leaf=3, min_samples_split=6, n_estimators=50; total time=   0.2s\n",
      "[CV] END max_depth=50, max_features=sqrt, min_samples_leaf=3, min_samples_split=6, n_estimators=50; total time=   0.2s\n",
      "[CV] END max_depth=50, max_features=sqrt, min_samples_leaf=3, min_samples_split=6, n_estimators=50; total time=   0.2s\n",
      "[CV] END max_depth=50, max_features=sqrt, min_samples_leaf=3, min_samples_split=6, n_estimators=50; total time=   0.2s\n",
      "[CV] END max_depth=50, max_features=auto, min_samples_leaf=5, min_samples_split=4, n_estimators=70; total time=   0.2s\n",
      "[CV] END max_depth=50, max_features=auto, min_samples_leaf=5, min_samples_split=4, n_estimators=70; total time=   0.2s\n",
      "[CV] END max_depth=50, max_features=auto, min_samples_leaf=5, min_samples_split=4, n_estimators=70; total time=   0.2s\n",
      "[CV] END max_depth=50, max_features=auto, min_samples_leaf=5, min_samples_split=4, n_estimators=70; total time=   0.2s\n",
      "[CV] END max_depth=30, max_features=auto, min_samples_leaf=3, min_samples_split=6, n_estimators=30; total time=   0.1s\n",
      "[CV] END max_depth=30, max_features=auto, min_samples_leaf=3, min_samples_split=6, n_estimators=30; total time=   0.1s\n",
      "[CV] END max_depth=30, max_features=auto, min_samples_leaf=3, min_samples_split=6, n_estimators=30; total time=   0.1s\n",
      "[CV] END max_depth=30, max_features=auto, min_samples_leaf=3, min_samples_split=6, n_estimators=30; total time=   0.1s\n",
      "[CV] END max_depth=60, max_features=auto, min_samples_leaf=5, min_samples_split=2, n_estimators=50; total time=   0.2s\n",
      "[CV] END max_depth=60, max_features=auto, min_samples_leaf=5, min_samples_split=2, n_estimators=50; total time=   0.2s\n",
      "[CV] END max_depth=60, max_features=auto, min_samples_leaf=5, min_samples_split=2, n_estimators=50; total time=   0.2s\n",
      "[CV] END max_depth=60, max_features=auto, min_samples_leaf=5, min_samples_split=2, n_estimators=50; total time=   0.2s\n",
      "[CV] END max_depth=40, max_features=auto, min_samples_leaf=5, min_samples_split=2, n_estimators=70; total time=   0.2s\n",
      "[CV] END max_depth=40, max_features=auto, min_samples_leaf=5, min_samples_split=2, n_estimators=70; total time=   0.2s\n",
      "[CV] END max_depth=40, max_features=auto, min_samples_leaf=5, min_samples_split=2, n_estimators=70; total time=   0.2s\n",
      "[CV] END max_depth=40, max_features=auto, min_samples_leaf=5, min_samples_split=2, n_estimators=70; total time=   0.2s\n",
      "[CV] END max_depth=50, max_features=sqrt, min_samples_leaf=1, min_samples_split=6, n_estimators=60; total time=   0.3s\n",
      "[CV] END max_depth=50, max_features=sqrt, min_samples_leaf=1, min_samples_split=6, n_estimators=60; total time=   0.2s\n",
      "[CV] END max_depth=50, max_features=sqrt, min_samples_leaf=1, min_samples_split=6, n_estimators=60; total time=   0.2s\n",
      "[CV] END max_depth=50, max_features=sqrt, min_samples_leaf=1, min_samples_split=6, n_estimators=60; total time=   0.2s\n",
      "[CV] END max_depth=40, max_features=sqrt, min_samples_leaf=7, min_samples_split=2, n_estimators=70; total time=   0.2s\n",
      "[CV] END max_depth=40, max_features=sqrt, min_samples_leaf=7, min_samples_split=2, n_estimators=70; total time=   0.2s\n",
      "[CV] END max_depth=40, max_features=sqrt, min_samples_leaf=7, min_samples_split=2, n_estimators=70; total time=   0.2s\n",
      "[CV] END max_depth=40, max_features=sqrt, min_samples_leaf=7, min_samples_split=2, n_estimators=70; total time=   0.2s\n",
      "[CV] END max_depth=30, max_features=auto, min_samples_leaf=5, min_samples_split=4, n_estimators=50; total time=   0.2s\n",
      "[CV] END max_depth=30, max_features=auto, min_samples_leaf=5, min_samples_split=4, n_estimators=50; total time=   0.2s\n",
      "[CV] END max_depth=30, max_features=auto, min_samples_leaf=5, min_samples_split=4, n_estimators=50; total time=   0.2s\n",
      "[CV] END max_depth=30, max_features=auto, min_samples_leaf=5, min_samples_split=4, n_estimators=50; total time=   0.2s\n",
      "[CV] END max_depth=60, max_features=auto, min_samples_leaf=3, min_samples_split=4, n_estimators=60; total time=   0.2s\n",
      "[CV] END max_depth=60, max_features=auto, min_samples_leaf=3, min_samples_split=4, n_estimators=60; total time=   0.2s\n",
      "[CV] END max_depth=60, max_features=auto, min_samples_leaf=3, min_samples_split=4, n_estimators=60; total time=   0.2s\n",
      "[CV] END max_depth=60, max_features=auto, min_samples_leaf=3, min_samples_split=4, n_estimators=60; total time=   0.2s\n",
      "[CV] END max_depth=50, max_features=auto, min_samples_leaf=1, min_samples_split=2, n_estimators=30; total time=   0.1s\n",
      "[CV] END max_depth=50, max_features=auto, min_samples_leaf=1, min_samples_split=2, n_estimators=30; total time=   0.1s\n",
      "[CV] END max_depth=50, max_features=auto, min_samples_leaf=1, min_samples_split=2, n_estimators=30; total time=   0.1s\n",
      "[CV] END max_depth=50, max_features=auto, min_samples_leaf=1, min_samples_split=2, n_estimators=30; total time=   0.1s\n",
      "[CV] END max_depth=30, max_features=sqrt, min_samples_leaf=1, min_samples_split=8, n_estimators=50; total time=   0.2s\n",
      "[CV] END max_depth=30, max_features=sqrt, min_samples_leaf=1, min_samples_split=8, n_estimators=50; total time=   0.2s\n",
      "[CV] END max_depth=30, max_features=sqrt, min_samples_leaf=1, min_samples_split=8, n_estimators=50; total time=   0.2s\n",
      "[CV] END max_depth=30, max_features=sqrt, min_samples_leaf=1, min_samples_split=8, n_estimators=50; total time=   0.2s\n",
      "[CV] END max_depth=60, max_features=sqrt, min_samples_leaf=3, min_samples_split=8, n_estimators=40; total time=   0.1s\n",
      "[CV] END max_depth=60, max_features=sqrt, min_samples_leaf=3, min_samples_split=8, n_estimators=40; total time=   0.1s\n",
      "[CV] END max_depth=60, max_features=sqrt, min_samples_leaf=3, min_samples_split=8, n_estimators=40; total time=   0.1s\n",
      "[CV] END max_depth=60, max_features=sqrt, min_samples_leaf=3, min_samples_split=8, n_estimators=40; total time=   0.1s\n",
      "[CV] END max_depth=80, max_features=auto, min_samples_leaf=7, min_samples_split=2, n_estimators=40; total time=   0.1s\n",
      "[CV] END max_depth=80, max_features=auto, min_samples_leaf=7, min_samples_split=2, n_estimators=40; total time=   0.1s\n",
      "[CV] END max_depth=80, max_features=auto, min_samples_leaf=7, min_samples_split=2, n_estimators=40; total time=   0.1s\n",
      "[CV] END max_depth=80, max_features=auto, min_samples_leaf=7, min_samples_split=2, n_estimators=40; total time=   0.1s\n",
      "[CV] END max_depth=30, max_features=auto, min_samples_leaf=3, min_samples_split=4, n_estimators=70; total time=   0.2s\n",
      "[CV] END max_depth=30, max_features=auto, min_samples_leaf=3, min_samples_split=4, n_estimators=70; total time=   0.2s\n",
      "[CV] END max_depth=30, max_features=auto, min_samples_leaf=3, min_samples_split=4, n_estimators=70; total time=   0.2s\n",
      "[CV] END max_depth=30, max_features=auto, min_samples_leaf=3, min_samples_split=4, n_estimators=70; total time=   0.2s\n",
      "[CV] END max_depth=80, max_features=auto, min_samples_leaf=3, min_samples_split=8, n_estimators=40; total time=   0.1s\n",
      "[CV] END max_depth=80, max_features=auto, min_samples_leaf=3, min_samples_split=8, n_estimators=40; total time=   0.1s\n",
      "[CV] END max_depth=80, max_features=auto, min_samples_leaf=3, min_samples_split=8, n_estimators=40; total time=   0.1s\n",
      "[CV] END max_depth=80, max_features=auto, min_samples_leaf=3, min_samples_split=8, n_estimators=40; total time=   0.1s\n",
      "[CV] END max_depth=70, max_features=sqrt, min_samples_leaf=1, min_samples_split=6, n_estimators=30; total time=   0.1s\n",
      "[CV] END max_depth=70, max_features=sqrt, min_samples_leaf=1, min_samples_split=6, n_estimators=30; total time=   0.1s\n",
      "[CV] END max_depth=70, max_features=sqrt, min_samples_leaf=1, min_samples_split=6, n_estimators=30; total time=   0.1s\n",
      "[CV] END max_depth=70, max_features=sqrt, min_samples_leaf=1, min_samples_split=6, n_estimators=30; total time=   0.1s\n",
      "[CV] END max_depth=30, max_features=sqrt, min_samples_leaf=3, min_samples_split=2, n_estimators=40; total time=   0.1s\n",
      "[CV] END max_depth=30, max_features=sqrt, min_samples_leaf=3, min_samples_split=2, n_estimators=40; total time=   0.1s\n",
      "[CV] END max_depth=30, max_features=sqrt, min_samples_leaf=3, min_samples_split=2, n_estimators=40; total time=   0.1s\n",
      "[CV] END max_depth=30, max_features=sqrt, min_samples_leaf=3, min_samples_split=2, n_estimators=40; total time=   0.1s\n",
      "[CV] END max_depth=90, max_features=sqrt, min_samples_leaf=7, min_samples_split=4, n_estimators=70; total time=   0.2s\n",
      "[CV] END max_depth=90, max_features=sqrt, min_samples_leaf=7, min_samples_split=4, n_estimators=70; total time=   0.2s\n",
      "[CV] END max_depth=90, max_features=sqrt, min_samples_leaf=7, min_samples_split=4, n_estimators=70; total time=   0.2s\n",
      "[CV] END max_depth=90, max_features=sqrt, min_samples_leaf=7, min_samples_split=4, n_estimators=70; total time=   0.2s\n",
      "[CV] END max_depth=60, max_features=auto, min_samples_leaf=1, min_samples_split=4, n_estimators=30; total time=   0.1s\n",
      "[CV] END max_depth=60, max_features=auto, min_samples_leaf=1, min_samples_split=4, n_estimators=30; total time=   0.1s\n",
      "[CV] END max_depth=60, max_features=auto, min_samples_leaf=1, min_samples_split=4, n_estimators=30; total time=   0.1s\n",
      "[CV] END max_depth=60, max_features=auto, min_samples_leaf=1, min_samples_split=4, n_estimators=30; total time=   0.1s\n",
      "[CV] END max_depth=40, max_features=auto, min_samples_leaf=5, min_samples_split=2, n_estimators=40; total time=   0.1s\n",
      "[CV] END max_depth=40, max_features=auto, min_samples_leaf=5, min_samples_split=2, n_estimators=40; total time=   0.1s\n",
      "[CV] END max_depth=40, max_features=auto, min_samples_leaf=5, min_samples_split=2, n_estimators=40; total time=   0.1s\n",
      "[CV] END max_depth=40, max_features=auto, min_samples_leaf=5, min_samples_split=2, n_estimators=40; total time=   0.1s\n",
      "[CV] END max_depth=30, max_features=auto, min_samples_leaf=7, min_samples_split=4, n_estimators=30; total time=   0.1s\n",
      "[CV] END max_depth=30, max_features=auto, min_samples_leaf=7, min_samples_split=4, n_estimators=30; total time=   0.1s\n",
      "[CV] END max_depth=30, max_features=auto, min_samples_leaf=7, min_samples_split=4, n_estimators=30; total time=   0.1s\n",
      "[CV] END max_depth=30, max_features=auto, min_samples_leaf=7, min_samples_split=4, n_estimators=30; total time=   0.1s\n",
      "[CV] END max_depth=60, max_features=auto, min_samples_leaf=7, min_samples_split=8, n_estimators=60; total time=   0.2s\n",
      "[CV] END max_depth=60, max_features=auto, min_samples_leaf=7, min_samples_split=8, n_estimators=60; total time=   0.2s\n",
      "[CV] END max_depth=60, max_features=auto, min_samples_leaf=7, min_samples_split=8, n_estimators=60; total time=   0.2s\n",
      "[CV] END max_depth=60, max_features=auto, min_samples_leaf=7, min_samples_split=8, n_estimators=60; total time=   0.2s\n",
      "[CV] END max_depth=90, max_features=auto, min_samples_leaf=5, min_samples_split=2, n_estimators=60; total time=   0.2s\n",
      "[CV] END max_depth=90, max_features=auto, min_samples_leaf=5, min_samples_split=2, n_estimators=60; total time=   0.2s\n",
      "[CV] END max_depth=90, max_features=auto, min_samples_leaf=5, min_samples_split=2, n_estimators=60; total time=   0.2s\n",
      "[CV] END max_depth=90, max_features=auto, min_samples_leaf=5, min_samples_split=2, n_estimators=60; total time=   0.2s\n",
      "[CV] END max_depth=40, max_features=auto, min_samples_leaf=1, min_samples_split=8, n_estimators=60; total time=   0.2s\n",
      "[CV] END max_depth=40, max_features=auto, min_samples_leaf=1, min_samples_split=8, n_estimators=60; total time=   0.2s\n",
      "[CV] END max_depth=40, max_features=auto, min_samples_leaf=1, min_samples_split=8, n_estimators=60; total time=   0.2s\n",
      "[CV] END max_depth=40, max_features=auto, min_samples_leaf=1, min_samples_split=8, n_estimators=60; total time=   0.2s\n",
      "[CV] END max_depth=80, max_features=auto, min_samples_leaf=1, min_samples_split=4, n_estimators=60; total time=   0.2s\n",
      "[CV] END max_depth=80, max_features=auto, min_samples_leaf=1, min_samples_split=4, n_estimators=60; total time=   0.2s\n",
      "[CV] END max_depth=80, max_features=auto, min_samples_leaf=1, min_samples_split=4, n_estimators=60; total time=   0.2s\n",
      "[CV] END max_depth=80, max_features=auto, min_samples_leaf=1, min_samples_split=4, n_estimators=60; total time=   0.2s\n",
      "[CV] END max_depth=30, max_features=sqrt, min_samples_leaf=7, min_samples_split=6, n_estimators=70; total time=   0.2s\n",
      "[CV] END max_depth=30, max_features=sqrt, min_samples_leaf=7, min_samples_split=6, n_estimators=70; total time=   0.2s\n",
      "[CV] END max_depth=30, max_features=sqrt, min_samples_leaf=7, min_samples_split=6, n_estimators=70; total time=   0.2s\n",
      "[CV] END max_depth=30, max_features=sqrt, min_samples_leaf=7, min_samples_split=6, n_estimators=70; total time=   0.2s\n",
      "[CV] END max_depth=60, max_features=sqrt, min_samples_leaf=5, min_samples_split=6, n_estimators=40; total time=   0.1s\n",
      "[CV] END max_depth=60, max_features=sqrt, min_samples_leaf=5, min_samples_split=6, n_estimators=40; total time=   0.1s\n",
      "[CV] END max_depth=60, max_features=sqrt, min_samples_leaf=5, min_samples_split=6, n_estimators=40; total time=   0.1s\n",
      "[CV] END max_depth=60, max_features=sqrt, min_samples_leaf=5, min_samples_split=6, n_estimators=40; total time=   0.1s\n",
      "[CV] END max_depth=90, max_features=sqrt, min_samples_leaf=5, min_samples_split=6, n_estimators=50; total time=   0.2s\n",
      "[CV] END max_depth=90, max_features=sqrt, min_samples_leaf=5, min_samples_split=6, n_estimators=50; total time=   0.2s\n",
      "[CV] END max_depth=90, max_features=sqrt, min_samples_leaf=5, min_samples_split=6, n_estimators=50; total time=   0.2s\n",
      "[CV] END max_depth=90, max_features=sqrt, min_samples_leaf=5, min_samples_split=6, n_estimators=50; total time=   0.2s\n",
      "[CV] END max_depth=50, max_features=sqrt, min_samples_leaf=7, min_samples_split=2, n_estimators=50; total time=   0.2s\n",
      "[CV] END max_depth=50, max_features=sqrt, min_samples_leaf=7, min_samples_split=2, n_estimators=50; total time=   0.2s\n",
      "[CV] END max_depth=50, max_features=sqrt, min_samples_leaf=7, min_samples_split=2, n_estimators=50; total time=   0.1s\n",
      "[CV] END max_depth=50, max_features=sqrt, min_samples_leaf=7, min_samples_split=2, n_estimators=50; total time=   0.2s\n",
      "[CV] END max_depth=30, max_features=sqrt, min_samples_leaf=7, min_samples_split=4, n_estimators=60; total time=   0.2s\n",
      "[CV] END max_depth=30, max_features=sqrt, min_samples_leaf=7, min_samples_split=4, n_estimators=60; total time=   0.2s\n",
      "[CV] END max_depth=30, max_features=sqrt, min_samples_leaf=7, min_samples_split=4, n_estimators=60; total time=   0.2s\n",
      "[CV] END max_depth=30, max_features=sqrt, min_samples_leaf=7, min_samples_split=4, n_estimators=60; total time=   0.2s\n",
      "[CV] END max_depth=90, max_features=sqrt, min_samples_leaf=3, min_samples_split=4, n_estimators=70; total time=   0.2s\n",
      "[CV] END max_depth=90, max_features=sqrt, min_samples_leaf=3, min_samples_split=4, n_estimators=70; total time=   0.2s\n",
      "[CV] END max_depth=90, max_features=sqrt, min_samples_leaf=3, min_samples_split=4, n_estimators=70; total time=   0.2s\n",
      "[CV] END max_depth=90, max_features=sqrt, min_samples_leaf=3, min_samples_split=4, n_estimators=70; total time=   0.2s\n",
      "[CV] END max_depth=50, max_features=auto, min_samples_leaf=7, min_samples_split=6, n_estimators=40; total time=   0.1s\n",
      "[CV] END max_depth=50, max_features=auto, min_samples_leaf=7, min_samples_split=6, n_estimators=40; total time=   0.1s\n",
      "[CV] END max_depth=50, max_features=auto, min_samples_leaf=7, min_samples_split=6, n_estimators=40; total time=   0.1s\n",
      "[CV] END max_depth=50, max_features=auto, min_samples_leaf=7, min_samples_split=6, n_estimators=40; total time=   0.1s\n",
      "[CV] END max_depth=70, max_features=auto, min_samples_leaf=7, min_samples_split=8, n_estimators=60; total time=   0.2s\n",
      "[CV] END max_depth=70, max_features=auto, min_samples_leaf=7, min_samples_split=8, n_estimators=60; total time=   0.2s\n",
      "[CV] END max_depth=70, max_features=auto, min_samples_leaf=7, min_samples_split=8, n_estimators=60; total time=   0.2s\n",
      "[CV] END max_depth=70, max_features=auto, min_samples_leaf=7, min_samples_split=8, n_estimators=60; total time=   0.2s\n",
      "[CV] END max_depth=60, max_features=auto, min_samples_leaf=7, min_samples_split=2, n_estimators=40; total time=   0.1s\n",
      "[CV] END max_depth=60, max_features=auto, min_samples_leaf=7, min_samples_split=2, n_estimators=40; total time=   0.1s\n",
      "[CV] END max_depth=60, max_features=auto, min_samples_leaf=7, min_samples_split=2, n_estimators=40; total time=   0.1s\n",
      "[CV] END max_depth=60, max_features=auto, min_samples_leaf=7, min_samples_split=2, n_estimators=40; total time=   0.1s\n",
      "[CV] END max_depth=90, max_features=sqrt, min_samples_leaf=1, min_samples_split=8, n_estimators=60; total time=   0.2s\n",
      "[CV] END max_depth=90, max_features=sqrt, min_samples_leaf=1, min_samples_split=8, n_estimators=60; total time=   0.2s\n",
      "[CV] END max_depth=90, max_features=sqrt, min_samples_leaf=1, min_samples_split=8, n_estimators=60; total time=   0.2s\n",
      "[CV] END max_depth=90, max_features=sqrt, min_samples_leaf=1, min_samples_split=8, n_estimators=60; total time=   0.2s\n",
      "[CV] END max_depth=90, max_features=auto, min_samples_leaf=1, min_samples_split=4, n_estimators=30; total time=   0.1s\n",
      "[CV] END max_depth=90, max_features=auto, min_samples_leaf=1, min_samples_split=4, n_estimators=30; total time=   0.1s\n",
      "[CV] END max_depth=90, max_features=auto, min_samples_leaf=1, min_samples_split=4, n_estimators=30; total time=   0.1s\n",
      "[CV] END max_depth=90, max_features=auto, min_samples_leaf=1, min_samples_split=4, n_estimators=30; total time=   0.1s\n",
      "[CV] END max_depth=90, max_features=sqrt, min_samples_leaf=7, min_samples_split=2, n_estimators=60; total time=   0.2s\n",
      "[CV] END max_depth=90, max_features=sqrt, min_samples_leaf=7, min_samples_split=2, n_estimators=60; total time=   0.2s\n",
      "[CV] END max_depth=90, max_features=sqrt, min_samples_leaf=7, min_samples_split=2, n_estimators=60; total time=   0.2s\n",
      "[CV] END max_depth=90, max_features=sqrt, min_samples_leaf=7, min_samples_split=2, n_estimators=60; total time=   0.2s\n",
      "[CV] END max_depth=70, max_features=sqrt, min_samples_leaf=5, min_samples_split=8, n_estimators=70; total time=   0.2s\n",
      "[CV] END max_depth=70, max_features=sqrt, min_samples_leaf=5, min_samples_split=8, n_estimators=70; total time=   0.2s\n",
      "[CV] END max_depth=70, max_features=sqrt, min_samples_leaf=5, min_samples_split=8, n_estimators=70; total time=   0.2s\n",
      "[CV] END max_depth=70, max_features=sqrt, min_samples_leaf=5, min_samples_split=8, n_estimators=70; total time=   0.2s\n",
      "[CV] END max_depth=70, max_features=auto, min_samples_leaf=1, min_samples_split=8, n_estimators=40; total time=   0.1s\n",
      "[CV] END max_depth=70, max_features=auto, min_samples_leaf=1, min_samples_split=8, n_estimators=40; total time=   0.1s\n",
      "[CV] END max_depth=70, max_features=auto, min_samples_leaf=1, min_samples_split=8, n_estimators=40; total time=   0.1s\n",
      "[CV] END max_depth=70, max_features=auto, min_samples_leaf=1, min_samples_split=8, n_estimators=40; total time=   0.1s\n",
      "[CV] END max_depth=50, max_features=sqrt, min_samples_leaf=3, min_samples_split=2, n_estimators=70; total time=   0.2s\n",
      "[CV] END max_depth=50, max_features=sqrt, min_samples_leaf=3, min_samples_split=2, n_estimators=70; total time=   0.2s\n",
      "[CV] END max_depth=50, max_features=sqrt, min_samples_leaf=3, min_samples_split=2, n_estimators=70; total time=   0.2s\n",
      "[CV] END max_depth=50, max_features=sqrt, min_samples_leaf=3, min_samples_split=2, n_estimators=70; total time=   0.2s\n",
      "[CV] END max_depth=90, max_features=sqrt, min_samples_leaf=5, min_samples_split=6, n_estimators=40; total time=   0.1s\n",
      "[CV] END max_depth=90, max_features=sqrt, min_samples_leaf=5, min_samples_split=6, n_estimators=40; total time=   0.1s\n",
      "[CV] END max_depth=90, max_features=sqrt, min_samples_leaf=5, min_samples_split=6, n_estimators=40; total time=   0.1s\n",
      "[CV] END max_depth=90, max_features=sqrt, min_samples_leaf=5, min_samples_split=6, n_estimators=40; total time=   0.1s\n",
      "[CV] END max_depth=40, max_features=auto, min_samples_leaf=1, min_samples_split=8, n_estimators=30; total time=   0.1s\n",
      "[CV] END max_depth=40, max_features=auto, min_samples_leaf=1, min_samples_split=8, n_estimators=30; total time=   0.1s\n",
      "[CV] END max_depth=40, max_features=auto, min_samples_leaf=1, min_samples_split=8, n_estimators=30; total time=   0.1s\n",
      "[CV] END max_depth=40, max_features=auto, min_samples_leaf=1, min_samples_split=8, n_estimators=30; total time=   0.1s\n",
      "[CV] END max_depth=40, max_features=sqrt, min_samples_leaf=1, min_samples_split=6, n_estimators=30; total time=   0.1s\n",
      "[CV] END max_depth=40, max_features=sqrt, min_samples_leaf=1, min_samples_split=6, n_estimators=30; total time=   0.1s\n",
      "[CV] END max_depth=40, max_features=sqrt, min_samples_leaf=1, min_samples_split=6, n_estimators=30; total time=   0.1s\n",
      "[CV] END max_depth=40, max_features=sqrt, min_samples_leaf=1, min_samples_split=6, n_estimators=30; total time=   0.1s\n",
      "[CV] END max_depth=30, max_features=auto, min_samples_leaf=7, min_samples_split=8, n_estimators=40; total time=   0.1s\n",
      "[CV] END max_depth=30, max_features=auto, min_samples_leaf=7, min_samples_split=8, n_estimators=40; total time=   0.1s\n",
      "[CV] END max_depth=30, max_features=auto, min_samples_leaf=7, min_samples_split=8, n_estimators=40; total time=   0.1s\n",
      "[CV] END max_depth=30, max_features=auto, min_samples_leaf=7, min_samples_split=8, n_estimators=40; total time=   0.1s\n",
      "[CV] END max_depth=90, max_features=sqrt, min_samples_leaf=1, min_samples_split=6, n_estimators=30; total time=   0.1s\n",
      "[CV] END max_depth=90, max_features=sqrt, min_samples_leaf=1, min_samples_split=6, n_estimators=30; total time=   0.1s\n",
      "[CV] END max_depth=90, max_features=sqrt, min_samples_leaf=1, min_samples_split=6, n_estimators=30; total time=   0.1s\n",
      "[CV] END max_depth=90, max_features=sqrt, min_samples_leaf=1, min_samples_split=6, n_estimators=30; total time=   0.1s\n",
      "[CV] END max_depth=90, max_features=sqrt, min_samples_leaf=1, min_samples_split=4, n_estimators=40; total time=   0.1s\n",
      "[CV] END max_depth=90, max_features=sqrt, min_samples_leaf=1, min_samples_split=4, n_estimators=40; total time=   0.2s\n",
      "[CV] END max_depth=90, max_features=sqrt, min_samples_leaf=1, min_samples_split=4, n_estimators=40; total time=   0.1s\n",
      "[CV] END max_depth=90, max_features=sqrt, min_samples_leaf=1, min_samples_split=4, n_estimators=40; total time=   0.1s\n",
      "[CV] END max_depth=70, max_features=sqrt, min_samples_leaf=1, min_samples_split=2, n_estimators=30; total time=   0.1s\n",
      "[CV] END max_depth=70, max_features=sqrt, min_samples_leaf=1, min_samples_split=2, n_estimators=30; total time=   0.1s\n",
      "[CV] END max_depth=70, max_features=sqrt, min_samples_leaf=1, min_samples_split=2, n_estimators=30; total time=   0.1s\n",
      "[CV] END max_depth=70, max_features=sqrt, min_samples_leaf=1, min_samples_split=2, n_estimators=30; total time=   0.1s\n",
      "[CV] END max_depth=30, max_features=sqrt, min_samples_leaf=1, min_samples_split=4, n_estimators=70; total time=   0.3s\n",
      "[CV] END max_depth=30, max_features=sqrt, min_samples_leaf=1, min_samples_split=4, n_estimators=70; total time=   0.3s\n",
      "[CV] END max_depth=30, max_features=sqrt, min_samples_leaf=1, min_samples_split=4, n_estimators=70; total time=   0.3s\n",
      "[CV] END max_depth=30, max_features=sqrt, min_samples_leaf=1, min_samples_split=4, n_estimators=70; total time=   0.3s\n",
      "[CV] END max_depth=30, max_features=auto, min_samples_leaf=7, min_samples_split=6, n_estimators=60; total time=   0.2s\n",
      "[CV] END max_depth=30, max_features=auto, min_samples_leaf=7, min_samples_split=6, n_estimators=60; total time=   0.2s\n",
      "[CV] END max_depth=30, max_features=auto, min_samples_leaf=7, min_samples_split=6, n_estimators=60; total time=   0.2s\n",
      "[CV] END max_depth=30, max_features=auto, min_samples_leaf=7, min_samples_split=6, n_estimators=60; total time=   0.2s\n",
      "[CV] END max_depth=40, max_features=sqrt, min_samples_leaf=5, min_samples_split=2, n_estimators=40; total time=   0.1s\n",
      "[CV] END max_depth=40, max_features=sqrt, min_samples_leaf=5, min_samples_split=2, n_estimators=40; total time=   0.1s\n",
      "[CV] END max_depth=40, max_features=sqrt, min_samples_leaf=5, min_samples_split=2, n_estimators=40; total time=   0.1s\n",
      "[CV] END max_depth=40, max_features=sqrt, min_samples_leaf=5, min_samples_split=2, n_estimators=40; total time=   0.1s\n",
      "[CV] END max_depth=90, max_features=sqrt, min_samples_leaf=7, min_samples_split=4, n_estimators=50; total time=   0.2s\n",
      "[CV] END max_depth=90, max_features=sqrt, min_samples_leaf=7, min_samples_split=4, n_estimators=50; total time=   0.2s\n",
      "[CV] END max_depth=90, max_features=sqrt, min_samples_leaf=7, min_samples_split=4, n_estimators=50; total time=   0.2s\n",
      "[CV] END max_depth=90, max_features=sqrt, min_samples_leaf=7, min_samples_split=4, n_estimators=50; total time=   0.2s\n",
      "[CV] END max_depth=30, max_features=auto, min_samples_leaf=5, min_samples_split=8, n_estimators=60; total time=   0.2s\n",
      "[CV] END max_depth=30, max_features=auto, min_samples_leaf=5, min_samples_split=8, n_estimators=60; total time=   0.2s\n",
      "[CV] END max_depth=30, max_features=auto, min_samples_leaf=5, min_samples_split=8, n_estimators=60; total time=   0.2s\n",
      "[CV] END max_depth=30, max_features=auto, min_samples_leaf=5, min_samples_split=8, n_estimators=60; total time=   0.2s\n",
      "[CV] END max_depth=50, max_features=auto, min_samples_leaf=5, min_samples_split=4, n_estimators=40; total time=   0.1s\n",
      "[CV] END max_depth=50, max_features=auto, min_samples_leaf=5, min_samples_split=4, n_estimators=40; total time=   0.1s\n",
      "[CV] END max_depth=50, max_features=auto, min_samples_leaf=5, min_samples_split=4, n_estimators=40; total time=   0.1s\n",
      "[CV] END max_depth=50, max_features=auto, min_samples_leaf=5, min_samples_split=4, n_estimators=40; total time=   0.1s\n",
      "[CV] END max_depth=70, max_features=sqrt, min_samples_leaf=7, min_samples_split=4, n_estimators=40; total time=   0.1s\n",
      "[CV] END max_depth=70, max_features=sqrt, min_samples_leaf=7, min_samples_split=4, n_estimators=40; total time=   0.1s\n",
      "[CV] END max_depth=70, max_features=sqrt, min_samples_leaf=7, min_samples_split=4, n_estimators=40; total time=   0.1s\n",
      "[CV] END max_depth=70, max_features=sqrt, min_samples_leaf=7, min_samples_split=4, n_estimators=40; total time=   0.1s\n",
      "[CV] END max_depth=70, max_features=auto, min_samples_leaf=3, min_samples_split=8, n_estimators=30; total time=   0.1s\n",
      "[CV] END max_depth=70, max_features=auto, min_samples_leaf=3, min_samples_split=8, n_estimators=30; total time=   0.1s\n",
      "[CV] END max_depth=70, max_features=auto, min_samples_leaf=3, min_samples_split=8, n_estimators=30; total time=   0.1s\n",
      "[CV] END max_depth=70, max_features=auto, min_samples_leaf=3, min_samples_split=8, n_estimators=30; total time=   0.1s\n",
      "[CV] END max_depth=30, max_features=sqrt, min_samples_leaf=5, min_samples_split=8, n_estimators=40; total time=   0.1s\n",
      "[CV] END max_depth=30, max_features=sqrt, min_samples_leaf=5, min_samples_split=8, n_estimators=40; total time=   0.1s\n",
      "[CV] END max_depth=30, max_features=sqrt, min_samples_leaf=5, min_samples_split=8, n_estimators=40; total time=   0.1s\n",
      "[CV] END max_depth=30, max_features=sqrt, min_samples_leaf=5, min_samples_split=8, n_estimators=40; total time=   0.1s\n",
      "[CV] END max_depth=90, max_features=sqrt, min_samples_leaf=3, min_samples_split=8, n_estimators=30; total time=   0.1s\n",
      "[CV] END max_depth=90, max_features=sqrt, min_samples_leaf=3, min_samples_split=8, n_estimators=30; total time=   0.1s\n",
      "[CV] END max_depth=90, max_features=sqrt, min_samples_leaf=3, min_samples_split=8, n_estimators=30; total time=   0.1s\n",
      "[CV] END max_depth=90, max_features=sqrt, min_samples_leaf=3, min_samples_split=8, n_estimators=30; total time=   0.1s\n",
      "[CV] END max_depth=90, max_features=sqrt, min_samples_leaf=3, min_samples_split=2, n_estimators=70; total time=   0.2s\n",
      "[CV] END max_depth=90, max_features=sqrt, min_samples_leaf=3, min_samples_split=2, n_estimators=70; total time=   0.3s\n",
      "[CV] END max_depth=90, max_features=sqrt, min_samples_leaf=3, min_samples_split=2, n_estimators=70; total time=   0.3s\n",
      "[CV] END max_depth=90, max_features=sqrt, min_samples_leaf=3, min_samples_split=2, n_estimators=70; total time=   0.2s\n",
      "[CV] END max_depth=90, max_features=sqrt, min_samples_leaf=7, min_samples_split=2, n_estimators=30; total time=   0.1s\n",
      "[CV] END max_depth=90, max_features=sqrt, min_samples_leaf=7, min_samples_split=2, n_estimators=30; total time=   0.1s\n",
      "[CV] END max_depth=90, max_features=sqrt, min_samples_leaf=7, min_samples_split=2, n_estimators=30; total time=   0.1s\n",
      "[CV] END max_depth=90, max_features=sqrt, min_samples_leaf=7, min_samples_split=2, n_estimators=30; total time=   0.1s\n",
      "[CV] END max_depth=70, max_features=auto, min_samples_leaf=1, min_samples_split=8, n_estimators=30; total time=   0.1s\n",
      "[CV] END max_depth=70, max_features=auto, min_samples_leaf=1, min_samples_split=8, n_estimators=30; total time=   0.1s\n",
      "[CV] END max_depth=70, max_features=auto, min_samples_leaf=1, min_samples_split=8, n_estimators=30; total time=   0.1s\n",
      "[CV] END max_depth=70, max_features=auto, min_samples_leaf=1, min_samples_split=8, n_estimators=30; total time=   0.1s\n",
      "[CV] END max_depth=40, max_features=sqrt, min_samples_leaf=5, min_samples_split=8, n_estimators=40; total time=   0.1s\n",
      "[CV] END max_depth=40, max_features=sqrt, min_samples_leaf=5, min_samples_split=8, n_estimators=40; total time=   0.1s\n",
      "[CV] END max_depth=40, max_features=sqrt, min_samples_leaf=5, min_samples_split=8, n_estimators=40; total time=   0.1s\n",
      "[CV] END max_depth=40, max_features=sqrt, min_samples_leaf=5, min_samples_split=8, n_estimators=40; total time=   0.1s\n",
      "[CV] END max_depth=70, max_features=auto, min_samples_leaf=1, min_samples_split=8, n_estimators=60; total time=   0.2s\n",
      "[CV] END max_depth=70, max_features=auto, min_samples_leaf=1, min_samples_split=8, n_estimators=60; total time=   0.2s\n",
      "[CV] END max_depth=70, max_features=auto, min_samples_leaf=1, min_samples_split=8, n_estimators=60; total time=   0.2s\n",
      "[CV] END max_depth=70, max_features=auto, min_samples_leaf=1, min_samples_split=8, n_estimators=60; total time=   0.2s\n",
      "[CV] END max_depth=70, max_features=sqrt, min_samples_leaf=5, min_samples_split=6, n_estimators=50; total time=   0.2s\n",
      "[CV] END max_depth=70, max_features=sqrt, min_samples_leaf=5, min_samples_split=6, n_estimators=50; total time=   0.2s\n",
      "[CV] END max_depth=70, max_features=sqrt, min_samples_leaf=5, min_samples_split=6, n_estimators=50; total time=   0.2s\n",
      "[CV] END max_depth=70, max_features=sqrt, min_samples_leaf=5, min_samples_split=6, n_estimators=50; total time=   0.2s\n",
      "[CV] END max_depth=30, max_features=auto, min_samples_leaf=5, min_samples_split=2, n_estimators=40; total time=   0.1s\n",
      "[CV] END max_depth=30, max_features=auto, min_samples_leaf=5, min_samples_split=2, n_estimators=40; total time=   0.1s\n",
      "[CV] END max_depth=30, max_features=auto, min_samples_leaf=5, min_samples_split=2, n_estimators=40; total time=   0.1s\n",
      "[CV] END max_depth=30, max_features=auto, min_samples_leaf=5, min_samples_split=2, n_estimators=40; total time=   0.1s\n",
      "[CV] END max_depth=40, max_features=sqrt, min_samples_leaf=3, min_samples_split=2, n_estimators=70; total time=   0.2s\n",
      "[CV] END max_depth=40, max_features=sqrt, min_samples_leaf=3, min_samples_split=2, n_estimators=70; total time=   0.2s\n",
      "[CV] END max_depth=40, max_features=sqrt, min_samples_leaf=3, min_samples_split=2, n_estimators=70; total time=   0.2s\n",
      "[CV] END max_depth=40, max_features=sqrt, min_samples_leaf=3, min_samples_split=2, n_estimators=70; total time=   0.3s\n",
      "[CV] END max_depth=60, max_features=sqrt, min_samples_leaf=7, min_samples_split=4, n_estimators=30; total time=   0.1s\n",
      "[CV] END max_depth=60, max_features=sqrt, min_samples_leaf=7, min_samples_split=4, n_estimators=30; total time=   0.1s\n",
      "[CV] END max_depth=60, max_features=sqrt, min_samples_leaf=7, min_samples_split=4, n_estimators=30; total time=   0.1s\n",
      "[CV] END max_depth=60, max_features=sqrt, min_samples_leaf=7, min_samples_split=4, n_estimators=30; total time=   0.1s\n",
      "[CV] END max_depth=70, max_features=sqrt, min_samples_leaf=7, min_samples_split=6, n_estimators=60; total time=   0.3s\n",
      "[CV] END max_depth=70, max_features=sqrt, min_samples_leaf=7, min_samples_split=6, n_estimators=60; total time=   0.4s\n",
      "[CV] END max_depth=70, max_features=sqrt, min_samples_leaf=7, min_samples_split=6, n_estimators=60; total time=   0.2s\n",
      "[CV] END max_depth=70, max_features=sqrt, min_samples_leaf=7, min_samples_split=6, n_estimators=60; total time=   0.2s\n",
      "[CV] END max_depth=80, max_features=sqrt, min_samples_leaf=7, min_samples_split=2, n_estimators=30; total time=   0.1s\n",
      "[CV] END max_depth=80, max_features=sqrt, min_samples_leaf=7, min_samples_split=2, n_estimators=30; total time=   0.1s\n",
      "[CV] END max_depth=80, max_features=sqrt, min_samples_leaf=7, min_samples_split=2, n_estimators=30; total time=   0.1s\n",
      "[CV] END max_depth=80, max_features=sqrt, min_samples_leaf=7, min_samples_split=2, n_estimators=30; total time=   0.1s\n",
      "[CV] END max_depth=50, max_features=sqrt, min_samples_leaf=5, min_samples_split=4, n_estimators=70; total time=   0.2s\n",
      "[CV] END max_depth=50, max_features=sqrt, min_samples_leaf=5, min_samples_split=4, n_estimators=70; total time=   0.2s\n",
      "[CV] END max_depth=50, max_features=sqrt, min_samples_leaf=5, min_samples_split=4, n_estimators=70; total time=   0.2s\n",
      "[CV] END max_depth=50, max_features=sqrt, min_samples_leaf=5, min_samples_split=4, n_estimators=70; total time=   0.2s\n",
      "[CV] END max_depth=90, max_features=auto, min_samples_leaf=5, min_samples_split=8, n_estimators=40; total time=   0.1s\n",
      "[CV] END max_depth=90, max_features=auto, min_samples_leaf=5, min_samples_split=8, n_estimators=40; total time=   0.1s\n",
      "[CV] END max_depth=90, max_features=auto, min_samples_leaf=5, min_samples_split=8, n_estimators=40; total time=   0.1s\n",
      "[CV] END max_depth=90, max_features=auto, min_samples_leaf=5, min_samples_split=8, n_estimators=40; total time=   0.1s\n",
      "[CV] END max_depth=60, max_features=sqrt, min_samples_leaf=3, min_samples_split=4, n_estimators=50; total time=   0.2s\n",
      "[CV] END max_depth=60, max_features=sqrt, min_samples_leaf=3, min_samples_split=4, n_estimators=50; total time=   0.2s\n",
      "[CV] END max_depth=60, max_features=sqrt, min_samples_leaf=3, min_samples_split=4, n_estimators=50; total time=   0.2s\n",
      "[CV] END max_depth=60, max_features=sqrt, min_samples_leaf=3, min_samples_split=4, n_estimators=50; total time=   0.2s\n",
      "[CV] END max_depth=60, max_features=sqrt, min_samples_leaf=3, min_samples_split=6, n_estimators=30; total time=   0.1s\n",
      "[CV] END max_depth=60, max_features=sqrt, min_samples_leaf=3, min_samples_split=6, n_estimators=30; total time=   0.1s\n",
      "[CV] END max_depth=60, max_features=sqrt, min_samples_leaf=3, min_samples_split=6, n_estimators=30; total time=   0.1s\n",
      "[CV] END max_depth=60, max_features=sqrt, min_samples_leaf=3, min_samples_split=6, n_estimators=30; total time=   0.1s\n",
      "[CV] END max_depth=80, max_features=sqrt, min_samples_leaf=5, min_samples_split=2, n_estimators=60; total time=   0.2s\n",
      "[CV] END max_depth=80, max_features=sqrt, min_samples_leaf=5, min_samples_split=2, n_estimators=60; total time=   0.2s\n",
      "[CV] END max_depth=80, max_features=sqrt, min_samples_leaf=5, min_samples_split=2, n_estimators=60; total time=   0.2s\n",
      "[CV] END max_depth=80, max_features=sqrt, min_samples_leaf=5, min_samples_split=2, n_estimators=60; total time=   0.2s\n",
      "[CV] END max_depth=50, max_features=sqrt, min_samples_leaf=7, min_samples_split=6, n_estimators=50; total time=   0.2s\n",
      "[CV] END max_depth=50, max_features=sqrt, min_samples_leaf=7, min_samples_split=6, n_estimators=50; total time=   0.2s\n",
      "[CV] END max_depth=50, max_features=sqrt, min_samples_leaf=7, min_samples_split=6, n_estimators=50; total time=   0.2s\n",
      "[CV] END max_depth=50, max_features=sqrt, min_samples_leaf=7, min_samples_split=6, n_estimators=50; total time=   0.2s\n",
      "[CV] END max_depth=50, max_features=sqrt, min_samples_leaf=1, min_samples_split=8, n_estimators=70; total time=   0.2s\n",
      "[CV] END max_depth=50, max_features=sqrt, min_samples_leaf=1, min_samples_split=8, n_estimators=70; total time=   0.2s\n",
      "[CV] END max_depth=50, max_features=sqrt, min_samples_leaf=1, min_samples_split=8, n_estimators=70; total time=   0.2s\n",
      "[CV] END max_depth=50, max_features=sqrt, min_samples_leaf=1, min_samples_split=8, n_estimators=70; total time=   0.2s\n",
      "[CV] END max_depth=50, max_features=sqrt, min_samples_leaf=5, min_samples_split=6, n_estimators=60; total time=   0.2s\n",
      "[CV] END max_depth=50, max_features=sqrt, min_samples_leaf=5, min_samples_split=6, n_estimators=60; total time=   0.2s\n",
      "[CV] END max_depth=50, max_features=sqrt, min_samples_leaf=5, min_samples_split=6, n_estimators=60; total time=   0.2s\n",
      "[CV] END max_depth=50, max_features=sqrt, min_samples_leaf=5, min_samples_split=6, n_estimators=60; total time=   0.2s\n",
      "[CV] END max_depth=90, max_features=auto, min_samples_leaf=1, min_samples_split=6, n_estimators=70; total time=   0.2s\n",
      "[CV] END max_depth=90, max_features=auto, min_samples_leaf=1, min_samples_split=6, n_estimators=70; total time=   0.2s\n",
      "[CV] END max_depth=90, max_features=auto, min_samples_leaf=1, min_samples_split=6, n_estimators=70; total time=   0.3s\n",
      "[CV] END max_depth=90, max_features=auto, min_samples_leaf=1, min_samples_split=6, n_estimators=70; total time=   0.2s\n",
      "[CV] END max_depth=40, max_features=auto, min_samples_leaf=5, min_samples_split=8, n_estimators=40; total time=   0.1s\n",
      "[CV] END max_depth=40, max_features=auto, min_samples_leaf=5, min_samples_split=8, n_estimators=40; total time=   0.1s\n",
      "[CV] END max_depth=40, max_features=auto, min_samples_leaf=5, min_samples_split=8, n_estimators=40; total time=   0.1s\n",
      "[CV] END max_depth=40, max_features=auto, min_samples_leaf=5, min_samples_split=8, n_estimators=40; total time=   0.1s\n",
      "[CV] END max_depth=70, max_features=auto, min_samples_leaf=3, min_samples_split=4, n_estimators=50; total time=   0.2s\n",
      "[CV] END max_depth=70, max_features=auto, min_samples_leaf=3, min_samples_split=4, n_estimators=50; total time=   0.2s\n",
      "[CV] END max_depth=70, max_features=auto, min_samples_leaf=3, min_samples_split=4, n_estimators=50; total time=   0.2s\n",
      "[CV] END max_depth=70, max_features=auto, min_samples_leaf=3, min_samples_split=4, n_estimators=50; total time=   0.2s\n",
      "[CV] END max_depth=50, max_features=sqrt, min_samples_leaf=5, min_samples_split=6, n_estimators=50; total time=   0.2s\n",
      "[CV] END max_depth=50, max_features=sqrt, min_samples_leaf=5, min_samples_split=6, n_estimators=50; total time=   0.2s\n",
      "[CV] END max_depth=50, max_features=sqrt, min_samples_leaf=5, min_samples_split=6, n_estimators=50; total time=   0.2s\n",
      "[CV] END max_depth=50, max_features=sqrt, min_samples_leaf=5, min_samples_split=6, n_estimators=50; total time=   0.2s\n",
      "[CV] END max_depth=80, max_features=sqrt, min_samples_leaf=7, min_samples_split=4, n_estimators=60; total time=   0.2s\n",
      "[CV] END max_depth=80, max_features=sqrt, min_samples_leaf=7, min_samples_split=4, n_estimators=60; total time=   0.2s\n",
      "[CV] END max_depth=80, max_features=sqrt, min_samples_leaf=7, min_samples_split=4, n_estimators=60; total time=   0.2s\n",
      "[CV] END max_depth=80, max_features=sqrt, min_samples_leaf=7, min_samples_split=4, n_estimators=60; total time=   0.2s\n",
      "[CV] END max_depth=40, max_features=auto, min_samples_leaf=7, min_samples_split=2, n_estimators=40; total time=   0.1s\n",
      "[CV] END max_depth=40, max_features=auto, min_samples_leaf=7, min_samples_split=2, n_estimators=40; total time=   0.1s\n",
      "[CV] END max_depth=40, max_features=auto, min_samples_leaf=7, min_samples_split=2, n_estimators=40; total time=   0.1s\n",
      "[CV] END max_depth=40, max_features=auto, min_samples_leaf=7, min_samples_split=2, n_estimators=40; total time=   0.1s\n",
      "[CV] END max_depth=60, max_features=sqrt, min_samples_leaf=3, min_samples_split=2, n_estimators=30; total time=   0.1s\n",
      "[CV] END max_depth=60, max_features=sqrt, min_samples_leaf=3, min_samples_split=2, n_estimators=30; total time=   0.1s\n",
      "[CV] END max_depth=60, max_features=sqrt, min_samples_leaf=3, min_samples_split=2, n_estimators=30; total time=   0.1s\n",
      "[CV] END max_depth=60, max_features=sqrt, min_samples_leaf=3, min_samples_split=2, n_estimators=30; total time=   0.1s\n",
      "Оптимальные гиперпараметры:\n",
      "{'n_estimators': 70, 'min_samples_split': 4, 'min_samples_leaf': 5, 'max_features': 'auto', 'max_depth': 50}\n",
      "fl: 0.7590454397928282\n"
     ]
    }
   ],
   "source": [
    "param_RF = {'max_depth': range (30, 91, 10), 'min_samples_leaf': [1, 3, 5, 7], 'min_samples_split': range (2, 10, 2), 'n_estimators': range(30, 71, 10), 'max_features':['auto','sqrt']}\n",
    "\n",
    "model_RF = RandomForestClassifier(random_state=12345, class_weight = 'balanced')\n",
    "\n",
    "random_search_RF = RandomizedSearchCV(estimator = model_RF, param_distributions = param_RF, scoring = 'f1', cv = 4, n_jobs = -1,n_iter=100, verbose=2, random_state=12345)\n",
    "                       \n",
    "random_search_RF.fit(features_downsampled, target_downsampled)\n",
    "downsample_model = random_search_RF.best_estimator_\n",
    "print (f'Оптимальные гиперпараметры:\\n{random_search_RF.best_params_}\\nfl: {random_search_RF.best_score_}')"
   ]
  },
  {
   "cell_type": "markdown",
   "metadata": {
    "id": "UBUn1Zhs__hi"
   },
   "source": [
    "Матрица ошибок:"
   ]
  },
  {
   "cell_type": "code",
   "execution_count": null,
   "metadata": {
    "id": "BcpIX7zR__hi",
    "outputId": "53436087-67a7-40bb-8182-8ec00de95462"
   },
   "outputs": [
    {
     "data": {
      "text/plain": [
       "'TN:'"
      ]
     },
     "metadata": {},
     "output_type": "display_data"
    },
    {
     "data": {
      "text/plain": [
       "1211"
      ]
     },
     "metadata": {},
     "output_type": "display_data"
    },
    {
     "data": {
      "text/plain": [
       "'FP:'"
      ]
     },
     "metadata": {},
     "output_type": "display_data"
    },
    {
     "data": {
      "text/plain": [
       "230"
      ]
     },
     "metadata": {},
     "output_type": "display_data"
    },
    {
     "data": {
      "text/plain": [
       "'FN:'"
      ]
     },
     "metadata": {},
     "output_type": "display_data"
    },
    {
     "data": {
      "text/plain": [
       "41"
      ]
     },
     "metadata": {},
     "output_type": "display_data"
    },
    {
     "data": {
      "text/plain": [
       "'TP:'"
      ]
     },
     "metadata": {},
     "output_type": "display_data"
    },
    {
     "data": {
      "text/plain": [
       "336"
      ]
     },
     "metadata": {},
     "output_type": "display_data"
    }
   ],
   "source": [
    "best_prediction_RF = downsample_model.predict(features_valid)\n",
    "tn,fp,fn,tp = confusion_matrix(target_valid, best_prediction_RF).ravel()\n",
    "display('TN:',tn,'FP:',fp,'FN:',fn,'TP:',tp)"
   ]
  },
  {
   "cell_type": "markdown",
   "metadata": {
    "id": "bWm-PMXM__hi"
   },
   "source": [
    "Точность и полнота:"
   ]
  },
  {
   "cell_type": "code",
   "execution_count": null,
   "metadata": {
    "id": "jgQEIxH9__hi",
    "outputId": "c3db8d4a-8cf7-4ec6-e39b-dbb50f81fc24"
   },
   "outputs": [
    {
     "data": {
      "text/plain": [
       "0.5936395759717314"
      ]
     },
     "metadata": {},
     "output_type": "display_data"
    },
    {
     "data": {
      "text/plain": [
       "0.8912466843501327"
      ]
     },
     "metadata": {},
     "output_type": "display_data"
    }
   ],
   "source": [
    "best_precision_RF = precision_score(target_valid, best_prediction_RF)\n",
    "display(best_precision_RF)\n",
    "best_recall_RF = recall_score(target_valid, best_prediction_RF)\n",
    "display(best_recall_RF)"
   ]
  },
  {
   "cell_type": "markdown",
   "metadata": {
    "id": "eYZUWbQO__hi"
   },
   "source": [
    "F-1:"
   ]
  },
  {
   "cell_type": "code",
   "execution_count": null,
   "metadata": {
    "id": "FNRRi1sW__hi",
    "outputId": "1d1526aa-ab4b-4154-d689-f1f67914c4e7"
   },
   "outputs": [
    {
     "data": {
      "text/plain": [
       "0.7126193001060446"
      ]
     },
     "metadata": {},
     "output_type": "display_data"
    }
   ],
   "source": [
    "f1_RF = f1_score(target_valid, best_prediction_RF)\n",
    "display(f1_RF)"
   ]
  },
  {
   "cell_type": "markdown",
   "metadata": {
    "id": "7hyto_fR__hi"
   },
   "source": [
    "ROC-кривая:"
   ]
  },
  {
   "cell_type": "code",
   "execution_count": null,
   "metadata": {
    "id": "Mid1pEjl__hi",
    "outputId": "b9b15649-c7c4-4b40-ccbf-71046646b071"
   },
   "outputs": [
    {
     "data": {
      "text/plain": [
       "0.9436031197020931"
      ]
     },
     "metadata": {},
     "output_type": "display_data"
    },
    {
     "data": {
      "image/png": "[encoded data removed]",
      "text/plain": [
       "<Figure size 432x288 with 1 Axes>"
      ]
     },
     "metadata": {
      "needs_background": "light"
     },
     "output_type": "display_data"
    }
   ],
   "source": [
    "probabilities_RF = downsample_model.predict_proba(features_valid)\n",
    "probabilities_one_valid_RF = probabilities_RF[:, 1]\n",
    "auc_roc_RF = roc_auc_score(target_valid, probabilities_one_valid_RF)\n",
    "display(auc_roc_RF)\n",
    "\n",
    "fpr, tpr, thresholds = roc_curve(target_valid, probabilities_one_valid_RF) \n",
    "\n",
    "plt.figure()\n",
    "\n",
    "plt.plot(fpr, tpr)\n",
    "\n",
    "# ROC-кривая случайной модели\n",
    "plt.plot([0, 1], [0, 1], linestyle='--')\n",
    "\n",
    "plt.xlim([0.0, 1.0])\n",
    "plt.ylim([0.0, 1.0])\n",
    "plt.xlabel('False Positive Rate')\n",
    "plt.ylabel('True Positive Rate')\n",
    "plt.title('ROC-кривая')\n",
    "\n",
    "plt.show()"
   ]
  },
  {
   "cell_type": "markdown",
   "metadata": {
    "id": "eqvYxLLk__hi"
   },
   "source": [
    "### Вывод по случайному лесу:"
   ]
  },
  {
   "cell_type": "markdown",
   "metadata": {
    "id": "foHuct6Z__hi"
   },
   "source": [
    "В ходе обучения модели случайного леса с помощью даунсеплинга и кросс-валидации, а также параметра class_weight = balanced, были получены следующие значения метрик:\n",
    "1. Precision: 0.5936395759717314\n",
    "2. Recall: 0.8912466843501327\n",
    "3. F-1: 0.7126193001060446\n",
    "4. AUC-ROC: 0.9436031197020931\n",
    "5. ROC-кривая выглядит гораздо лучше, по сравнению с моделью решающего дерева. Можно отправлять модель на тест"
   ]
  },
  {
   "cell_type": "markdown",
   "metadata": {
    "id": "JYvA19l2__hi"
   },
   "source": [
    "## Тестирование модели"
   ]
  },
  {
   "cell_type": "markdown",
   "metadata": {
    "id": "k4D3V5M1__hi"
   },
   "source": [
    "### Предсказание лучшей модели на тестовых данных:"
   ]
  },
  {
   "cell_type": "markdown",
   "metadata": {
    "id": "IwCrSwrX__hi"
   },
   "source": [
    "### Модель случайного леса с взвешенными классами"
   ]
  },
  {
   "cell_type": "markdown",
   "metadata": {
    "id": "jC7mJDYY__hi"
   },
   "source": [
    "<div class=\"alert alert-info\">\n",
    "<h2> Комментарий студента: <a class=\"tocSkip\"> </h2>\n",
    "<b></b> \n",
    "   Напомню, какие метрики показала данная модель на выборках:\n",
    "\n",
    "    1. F1: 0.653\n",
    "    2. Recall: 0.649\n",
    "    3. AUC-ROC: 0.867\n",
    "\n",
    "Посмотрим, осилит ли модель тестовые данные:\n",
    "</div> \n"
   ]
  },
  {
   "cell_type": "code",
   "execution_count": null,
   "metadata": {
    "id": "Mw2uBkc7__hi"
   },
   "outputs": [],
   "source": [
    "predict_final = best_model_cycle.predict(features_test)"
   ]
  },
  {
   "cell_type": "markdown",
   "metadata": {
    "id": "OEwHPzgz__hi"
   },
   "source": [
    "### Метрика F-1:"
   ]
  },
  {
   "cell_type": "code",
   "execution_count": null,
   "metadata": {
    "id": "jMQaFNYX__hi",
    "outputId": "0d570cca-d6e0-4001-df4b-d7b4b0e8eb1e"
   },
   "outputs": [
    {
     "data": {
      "text/plain": [
       "0.6153846153846154"
      ]
     },
     "metadata": {},
     "output_type": "display_data"
    }
   ],
   "source": [
    "f1_final = f1_score(target_test, predict_final)\n",
    "display(f1_final)"
   ]
  },
  {
   "cell_type": "markdown",
   "metadata": {
    "id": "P4CEfxPY__hj"
   },
   "source": [
    "<div class=\"alert alert-info\">\n",
    "<h2> Комментарий студента: <a class=\"tocSkip\"> </h2>\n",
    "<b></b> На тестовых, незнакомых ей данных, модель случайного леса смогла продемонстрировать значение метрики F-1 выше 0,59. Цель проекта можно считать достигнутой. Кроме прочего, посмотрим, как изменились значения других метрик на тестовых данных:\n",
    "</div> "
   ]
  },
  {
   "cell_type": "markdown",
   "metadata": {
    "id": "dC22Mnn8__hj"
   },
   "source": [
    "<div class=\"alert alert-info\">\n",
    "<h2> Комментарий студента: <a class=\"tocSkip\"> </h2>\n",
    "<b></b> Поменял блоки на разбор параметров лучшей модели ниже:\n",
    "</div> "
   ]
  },
  {
   "cell_type": "markdown",
   "metadata": {
    "id": "MqbtZZPb__hj"
   },
   "source": [
    "### Матрица ошибок модели:"
   ]
  },
  {
   "cell_type": "code",
   "execution_count": null,
   "metadata": {
    "id": "hhLntwl7__hj",
    "outputId": "e0defe72-73d5-4c71-fe7b-febaa3d06ddf"
   },
   "outputs": [
    {
     "data": {
      "text/plain": [
       "'TN:'"
      ]
     },
     "metadata": {},
     "output_type": "display_data"
    },
    {
     "data": {
      "text/plain": [
       "1324"
      ]
     },
     "metadata": {},
     "output_type": "display_data"
    },
    {
     "data": {
      "text/plain": [
       "'FP:'"
      ]
     },
     "metadata": {},
     "output_type": "display_data"
    },
    {
     "data": {
      "text/plain": [
       "144"
      ]
     },
     "metadata": {},
     "output_type": "display_data"
    },
    {
     "data": {
      "text/plain": [
       "'FN:'"
      ]
     },
     "metadata": {},
     "output_type": "display_data"
    },
    {
     "data": {
      "text/plain": [
       "131"
      ]
     },
     "metadata": {},
     "output_type": "display_data"
    },
    {
     "data": {
      "text/plain": [
       "'TP:'"
      ]
     },
     "metadata": {},
     "output_type": "display_data"
    },
    {
     "data": {
      "text/plain": [
       "220"
      ]
     },
     "metadata": {},
     "output_type": "display_data"
    }
   ],
   "source": [
    "tn,fp,fn,tp = confusion_matrix(target_test, predict_final).ravel()\n",
    "display('TN:',tn,'FP:',fp,'FN:',fn,'TP:',tp)"
   ]
  },
  {
   "cell_type": "markdown",
   "metadata": {
    "id": "8D0_krUf__hj"
   },
   "source": [
    "### Точность и полнота:"
   ]
  },
  {
   "cell_type": "code",
   "execution_count": null,
   "metadata": {
    "id": "W7uAYBYC__hj",
    "outputId": "5d8a2df7-7b1c-40ba-833d-c87d44b3f05c"
   },
   "outputs": [
    {
     "data": {
      "text/plain": [
       "0.6267806267806267"
      ]
     },
     "metadata": {},
     "output_type": "display_data"
    }
   ],
   "source": [
    "test_recall = recall_score(target_test, predict_final)\n",
    "display(test_recall)"
   ]
  },
  {
   "cell_type": "markdown",
   "metadata": {
    "id": "T_c0Zyue__hj"
   },
   "source": [
    "<div class=\"alert alert-info\">\n",
    "<h2> Комментарий студента: <a class=\"tocSkip\"> </h2>\n",
    "<b></b> Значение полноты ожидаемо снизилось с 0,649 до 0,626 что в целом некритично.\n",
    "</div> "
   ]
  },
  {
   "cell_type": "markdown",
   "metadata": {
    "id": "yZ__N1Du__hj"
   },
   "source": [
    "### ROC-кривая:"
   ]
  },
  {
   "cell_type": "code",
   "execution_count": null,
   "metadata": {
    "id": "WoRdoqpW__hj",
    "outputId": "71d747dd-ebbc-41c7-8bc4-1e7086a0654e"
   },
   "outputs": [
    {
     "data": {
      "text/plain": [
       "0.8586405521010426"
      ]
     },
     "metadata": {},
     "output_type": "display_data"
    },
    {
     "data": {
      "image/png": "[encoded data removed]",
      "text/plain": [
       "<Figure size 432x288 with 1 Axes>"
      ]
     },
     "metadata": {
      "needs_background": "light"
     },
     "output_type": "display_data"
    }
   ],
   "source": [
    "test_probabilities = best_model_cycle.predict_proba(features_test)\n",
    "test_probabilities_one_valid = test_probabilities[:, 1]\n",
    "test_auc_roc = roc_auc_score(target_test, test_probabilities_one_valid)\n",
    "display(test_auc_roc)\n",
    "\n",
    "fpr, tpr, thresholds = roc_curve(target_test, test_probabilities_one_valid) \n",
    "\n",
    "plt.figure()\n",
    "\n",
    "plt.plot(fpr, tpr)\n",
    "\n",
    "# ROC-кривая случайной модели\n",
    "plt.plot([0, 1], [0, 1], linestyle='--')\n",
    "\n",
    "plt.xlim([0.0, 1.0])\n",
    "plt.ylim([0.0, 1.0])\n",
    "plt.xlabel('False Positive Rate')\n",
    "plt.ylabel('True Positive Rate')\n",
    "plt.title('ROC-кривая')\n",
    "\n",
    "plt.show()"
   ]
  },
  {
   "cell_type": "markdown",
   "metadata": {
    "id": "BV6L27R5__hj"
   },
   "source": [
    "<div class=\"alert alert-info\">\n",
    "<h2> Комментарий студента: <a class=\"tocSkip\"> </h2>\n",
    "<b></b> Значение AUC-ROC также несущественно снизилось (с 0.867 до 0.858), кривая в целом выглядит нормально. \n",
    "</div> "
   ]
  },
  {
   "cell_type": "markdown",
   "metadata": {
    "id": "T_NF2Etu__hj"
   },
   "source": [
    "## Общий вывод:"
   ]
  },
  {
   "cell_type": "markdown",
   "metadata": {
    "id": "XC06LKMG__hj"
   },
   "source": [
    "Ознакомление с данными:\n",
    "\n",
    "В ходе ознакомления со структорой и общей информацией о типах переменных в датафрейме было выявлено:\n",
    "1. Исходные данные состоят из 10000 строк и 14 столбцов;\n",
    "2. 3 столбца из 14 имели тип данных object;\n",
    "3. В столбце Tenure (сколько лет человек является клиентом банка) имеется 909 пропущенных значений, т.е 9.09% от общего числа;\n",
    "\n",
    "Подготовка данных:\n",
    "\n",
    "Для решения конкретной задачи построения модели был выполнен ряд операций по подготовке данных, а именно:\n",
    "1. Удаление 9,09% пропусков в столбце Tenure (т.е строки с пропусками по данному столбцу были удалены из исходных данных в связи с невозможностью их заполнения);\n",
    "2. Столбцы RowNumber, CustomerId, Surname не могут оказывать существенного влияния на принятие решения клиента об уходе из банка. В связи с данным обстоятельством, считаю рациональным удалить их из исходных данных для построения будущей модели;\n",
    "3. Для улучшения будущей модели, значения столбца Gender были заменены со строкового типа на числовой: на 1 и 0 (1 - мужской пол, 0 - женский пол). После замены столбец поменял свой тип на int64;\n",
    "4. Столбец Geography был разбит на 2 столбца Geography_Germany и Geography_Spain с помощью метода прямого кодирования с учетом возможного попадания в ловушку фиктивных признаков;\n",
    "5. Все категориальные столбцы были приведены к типу 'category' для оптимизации памяти;\n",
    "6. Была проведена проверка мультиколлинеарности фичей с помощью метода Phik, а также составлена матрица корреляции.Проверка не выявила никаких критических зависимостей столбцов друг от друга.\n",
    "\n",
    "Исследование моделей:\n",
    "1. В ходе предварительного исследования была выбрана модель решающего дерева, т.к изначально она показывала лучшее значение метрики F-1;\n",
    "2. Для максимизации данной метрики, были проведены экспериенты с изменением порогового значения, опробован метод взвешивания классов, а также проведен даунсемплинг обучающих данных (с объединением выборок);\n",
    "3. В ходе тестирования модели решающего дерева на тестовых данных, модель продемонстрировала значительное падение метрики F-1 (с 0.73 до 0,57). В результате, было принято решение выбрать модель случайного леса в качестве основной;\n",
    "4. Для модели случайного леса также была проведена кросс-валидация на даунсеплинговых данных. Было получено значение метрики F-1: 0.71 и AUC-ROC: 0.94\n",
    "\n",
    "Тестирование модели:\n",
    "1. В результате тестирования модель случайного леса показала значение метрики F-1: 0.58\n",
    "2. Точность: 0.47549909255898365\n",
    "3. Полнота: 0.746\n",
    "4. Значение AUC-ROC: 0.94\n",
    "5. Кривая выглядит \"хуже\", чем при обучении, что считаю нормальным при работе модели с незнакомыми ей данными. "
   ]
  },
  {
   "cell_type": "markdown",
   "metadata": {
    "id": "sKTddEep__hj"
   },
   "source": [
    "<div class=\"alert alert-info\">\n",
    "<h2> Комментарий студента: <a class=\"tocSkip\"> </h2>\n",
    "<b></b> Дополнение к первому выводу: \n",
    "</div> "
   ]
  },
  {
   "cell_type": "markdown",
   "metadata": {
    "id": "cd4n7Uro__hj"
   },
   "source": [
    "В дополнение к первой итерации исследования, можно указать:\n",
    "1. Во всех моделях всех частей проекта проводились постоянные замеры метрики F-1, Recall, AUC-ROC\n",
    "2. Модели с гиперпараметрами, полученными в ходе итераций первого цикла, были подвергнуты взвешиванию классов\n",
    "3. Кроме прочего, был составлен новый цикл на перебор гиперпараметров с взвешиванием классов\n",
    "4. Было проведено сравнение всех 9 моделей по 3-м ключевым параметрам проекта: F-1, Recall, AUC-ROC. С ним можно ознакомиться выше (в синей рамочке)\n",
    "5. Модель с наибольшим значением F-1 (случайный лес) отправилась на тест\n",
    "6. На тестовых данных значение метрик ожидаемо снизилось, однако модель прошла необходимый порог для сдачи проекта, её ROC-кривая выглядит нормально.\n",
    "7. Резюмируя, была получена модель, способная выдать значение F-1 метрики выше 0.59.\n",
    "\n",
    "Гиперпараметры лучшей модели (случайный лес):\n",
    "\n",
    "Наилучшее количество решающих деревьев:70\n",
    "\n",
    "Лучшая глубина решающего дерева: 10\n",
    "\n",
    "Class_weight = 'balanced' \n",
    "\n",
    "параметр рандома: 12345\n",
    "\n",
    "Результаты лучшей модели на тестовых данных:\n",
    "\n",
    "1. F1: 0.615\n",
    "2. Recall: 0.626\n",
    "3. AUC-ROC: 0.858\n",
    "\n",
    "Помимо вышеперечисленного, были учтены некоторые из \"некритичных\" замечаний (выделенных желтым). "
   ]
  },
  {
   "cell_type": "markdown",
   "metadata": {
    "id": "VTnbgh9e__hk"
   },
   "source": [
    "## Чек-лист готовности проекта"
   ]
  },
  {
   "cell_type": "markdown",
   "metadata": {
    "id": "k2ZCN2tR__hk"
   },
   "source": [
    "Поставьте 'x' в выполненных пунктах. Далее нажмите Shift+Enter."
   ]
  },
  {
   "cell_type": "markdown",
   "metadata": {
    "id": "gP12E1Xg__hk"
   },
   "source": [
    "- [x]  Jupyter Notebook открыт\n",
    "- [x]  Весь код выполняется без ошибок\n",
    "- [x]  Ячейки с кодом расположены в порядке исполнения\n",
    "- [x]  Выполнен шаг 1: данные подготовлены\n",
    "- [x]  Выполнен шаг 2: задача исследована\n",
    "    - [x]  Исследован баланс классов\n",
    "    - [x]  Изучены модели без учёта дисбаланса\n",
    "    - [x]  Написаны выводы по результатам исследования\n",
    "- [x]  Выполнен шаг 3: учтён дисбаланс\n",
    "    - [x]  Применено несколько способов борьбы с дисбалансом\n",
    "    - [x]  Написаны выводы по результатам исследования\n",
    "- [x]  Выполнен шаг 4: проведено тестирование\n",
    "- [x]  Удалось достичь *F1*-меры не менее 0.59\n",
    "- [x]  Исследована метрика *AUC-ROC*"
   ]
  }
 ],
 "metadata": {
  "ExecuteTimeLog": [
   {
    "duration": 391,
    "start_time": "2022-12-13T06:23:27.835Z"
   },
   {
    "duration": 96,
    "start_time": "2022-12-13T06:24:42.354Z"
   },
   {
    "duration": 21,
    "start_time": "2022-12-13T06:25:42.716Z"
   },
   {
    "duration": 15,
    "start_time": "2022-12-13T06:26:17.324Z"
   },
   {
    "duration": 8,
    "start_time": "2022-12-13T06:27:02.948Z"
   },
   {
    "duration": 9,
    "start_time": "2022-12-13T06:27:35.284Z"
   },
   {
    "duration": 4,
    "start_time": "2022-12-13T06:27:40.170Z"
   },
   {
    "duration": 48,
    "start_time": "2022-12-13T08:41:42.166Z"
   },
   {
    "duration": 428,
    "start_time": "2022-12-13T08:41:46.321Z"
   },
   {
    "duration": 176,
    "start_time": "2022-12-13T08:41:46.831Z"
   },
   {
    "duration": 23,
    "start_time": "2022-12-13T08:41:47.208Z"
   },
   {
    "duration": 15,
    "start_time": "2022-12-13T08:41:47.871Z"
   },
   {
    "duration": 3,
    "start_time": "2022-12-13T08:41:49.768Z"
   },
   {
    "duration": 9,
    "start_time": "2022-12-13T08:41:50.560Z"
   },
   {
    "duration": 8,
    "start_time": "2022-12-13T08:47:05.136Z"
   },
   {
    "duration": 22,
    "start_time": "2022-12-13T11:41:28.808Z"
   },
   {
    "duration": 16,
    "start_time": "2022-12-13T11:41:35.727Z"
   },
   {
    "duration": 4648,
    "start_time": "2022-12-13T11:51:53.858Z"
   },
   {
    "duration": 13217,
    "start_time": "2022-12-13T11:55:45.470Z"
   },
   {
    "duration": 2583,
    "start_time": "2022-12-13T11:56:44.302Z"
   },
   {
    "duration": 42,
    "start_time": "2022-12-13T11:56:48.665Z"
   },
   {
    "duration": 30,
    "start_time": "2022-12-13T11:56:49.022Z"
   },
   {
    "duration": 13,
    "start_time": "2022-12-13T11:56:49.686Z"
   },
   {
    "duration": 4,
    "start_time": "2022-12-13T11:56:51.486Z"
   },
   {
    "duration": 11,
    "start_time": "2022-12-13T11:56:51.658Z"
   },
   {
    "duration": 12924,
    "start_time": "2022-12-13T11:56:52.459Z"
   },
   {
    "duration": 5,
    "start_time": "2022-12-13T12:39:32.100Z"
   },
   {
    "duration": 28,
    "start_time": "2022-12-13T12:39:53.548Z"
   },
   {
    "duration": 15,
    "start_time": "2022-12-13T12:40:01.564Z"
   },
   {
    "duration": 6,
    "start_time": "2022-12-13T12:41:10.015Z"
   },
   {
    "duration": 5827,
    "start_time": "2022-12-14T07:38:29.323Z"
   },
   {
    "duration": 182,
    "start_time": "2022-12-14T07:38:35.152Z"
   },
   {
    "duration": 18,
    "start_time": "2022-12-14T07:38:35.336Z"
   },
   {
    "duration": 10,
    "start_time": "2022-12-14T07:53:33.394Z"
   },
   {
    "duration": 6,
    "start_time": "2022-12-14T08:24:12.834Z"
   },
   {
    "duration": 116,
    "start_time": "2022-12-14T08:24:23.802Z"
   },
   {
    "duration": 6,
    "start_time": "2022-12-14T08:24:28.992Z"
   },
   {
    "duration": 9,
    "start_time": "2022-12-14T08:24:38.663Z"
   },
   {
    "duration": 5,
    "start_time": "2022-12-14T08:24:48.097Z"
   },
   {
    "duration": 14,
    "start_time": "2022-12-14T08:25:03.136Z"
   },
   {
    "duration": 6,
    "start_time": "2022-12-14T08:25:31.671Z"
   },
   {
    "duration": 6,
    "start_time": "2022-12-14T08:33:59.111Z"
   },
   {
    "duration": 11,
    "start_time": "2022-12-14T08:34:16.215Z"
   },
   {
    "duration": 5,
    "start_time": "2022-12-14T08:34:19.430Z"
   },
   {
    "duration": 8,
    "start_time": "2022-12-14T08:34:20.007Z"
   },
   {
    "duration": 44,
    "start_time": "2022-12-14T08:36:33.325Z"
   },
   {
    "duration": 11,
    "start_time": "2022-12-14T08:36:33.700Z"
   },
   {
    "duration": 19,
    "start_time": "2022-12-14T08:36:42.766Z"
   },
   {
    "duration": 10,
    "start_time": "2022-12-14T08:36:47.799Z"
   },
   {
    "duration": 9,
    "start_time": "2022-12-14T08:41:26.342Z"
   },
   {
    "duration": 9,
    "start_time": "2022-12-14T08:43:35.903Z"
   },
   {
    "duration": 18,
    "start_time": "2022-12-14T08:46:41.104Z"
   },
   {
    "duration": 8,
    "start_time": "2022-12-14T08:46:42.495Z"
   },
   {
    "duration": 2244,
    "start_time": "2022-12-14T08:46:50.106Z"
   },
   {
    "duration": 48,
    "start_time": "2022-12-14T08:46:52.352Z"
   },
   {
    "duration": 19,
    "start_time": "2022-12-14T08:46:52.402Z"
   },
   {
    "duration": 25,
    "start_time": "2022-12-14T08:46:52.423Z"
   },
   {
    "duration": 5,
    "start_time": "2022-12-14T08:46:52.450Z"
   },
   {
    "duration": 34,
    "start_time": "2022-12-14T08:46:52.458Z"
   },
   {
    "duration": 14,
    "start_time": "2022-12-14T08:46:52.494Z"
   },
   {
    "duration": 18,
    "start_time": "2022-12-14T08:46:52.510Z"
   },
   {
    "duration": 9,
    "start_time": "2022-12-14T08:46:52.531Z"
   },
   {
    "duration": 3437,
    "start_time": "2022-12-14T08:48:05.782Z"
   },
   {
    "duration": 189,
    "start_time": "2022-12-14T08:48:09.221Z"
   },
   {
    "duration": 18,
    "start_time": "2022-12-14T08:48:09.412Z"
   },
   {
    "duration": 14,
    "start_time": "2022-12-14T08:48:09.433Z"
   },
   {
    "duration": 4,
    "start_time": "2022-12-14T08:48:09.448Z"
   },
   {
    "duration": 11,
    "start_time": "2022-12-14T08:48:09.454Z"
   },
   {
    "duration": 16,
    "start_time": "2022-12-14T08:48:09.467Z"
   },
   {
    "duration": 44,
    "start_time": "2022-12-14T08:48:09.484Z"
   },
   {
    "duration": 9,
    "start_time": "2022-12-14T08:48:09.529Z"
   },
   {
    "duration": 8,
    "start_time": "2022-12-14T08:48:27.030Z"
   },
   {
    "duration": 49,
    "start_time": "2022-12-14T08:48:27.040Z"
   },
   {
    "duration": 9,
    "start_time": "2022-12-14T08:49:07.112Z"
   },
   {
    "duration": 4,
    "start_time": "2022-12-14T08:49:10.455Z"
   },
   {
    "duration": 14,
    "start_time": "2022-12-14T08:49:11.071Z"
   },
   {
    "duration": 12,
    "start_time": "2022-12-14T08:49:20.542Z"
   },
   {
    "duration": 4,
    "start_time": "2022-12-14T08:49:21.431Z"
   },
   {
    "duration": 9,
    "start_time": "2022-12-14T08:49:22.231Z"
   },
   {
    "duration": 55,
    "start_time": "2022-12-14T08:49:30.535Z"
   },
   {
    "duration": 24,
    "start_time": "2022-12-14T08:49:31.121Z"
   },
   {
    "duration": 15,
    "start_time": "2022-12-14T08:49:32.909Z"
   },
   {
    "duration": 7,
    "start_time": "2022-12-14T08:49:33.608Z"
   },
   {
    "duration": 9,
    "start_time": "2022-12-14T08:49:34.759Z"
   },
   {
    "duration": 8,
    "start_time": "2022-12-14T08:49:58.150Z"
   },
   {
    "duration": 8,
    "start_time": "2022-12-14T08:49:59.282Z"
   },
   {
    "duration": 7,
    "start_time": "2022-12-14T08:50:10.921Z"
   },
   {
    "duration": 10,
    "start_time": "2022-12-14T08:50:11.909Z"
   },
   {
    "duration": 5,
    "start_time": "2022-12-14T08:50:26.046Z"
   },
   {
    "duration": 7,
    "start_time": "2022-12-14T08:52:41.158Z"
   },
   {
    "duration": 11,
    "start_time": "2022-12-14T08:52:42.855Z"
   },
   {
    "duration": 5,
    "start_time": "2022-12-14T08:52:43.343Z"
   },
   {
    "duration": 4,
    "start_time": "2022-12-14T08:54:07.375Z"
   },
   {
    "duration": 102,
    "start_time": "2022-12-14T09:06:19.950Z"
   },
   {
    "duration": 12,
    "start_time": "2022-12-14T09:06:36.571Z"
   },
   {
    "duration": 5,
    "start_time": "2022-12-14T09:07:00.727Z"
   },
   {
    "duration": 5,
    "start_time": "2022-12-14T09:09:13.119Z"
   },
   {
    "duration": 9,
    "start_time": "2022-12-14T09:09:25.414Z"
   },
   {
    "duration": 4,
    "start_time": "2022-12-14T09:09:35.221Z"
   },
   {
    "duration": 4,
    "start_time": "2022-12-14T09:10:05.118Z"
   },
   {
    "duration": 4,
    "start_time": "2022-12-14T09:10:31.415Z"
   },
   {
    "duration": 5,
    "start_time": "2022-12-14T09:10:53.542Z"
   },
   {
    "duration": 13,
    "start_time": "2022-12-14T09:10:58.655Z"
   },
   {
    "duration": 4,
    "start_time": "2022-12-14T09:10:59.135Z"
   },
   {
    "duration": 2218,
    "start_time": "2022-12-14T09:11:02.178Z"
   },
   {
    "duration": 41,
    "start_time": "2022-12-14T09:11:04.403Z"
   },
   {
    "duration": 18,
    "start_time": "2022-12-14T09:11:04.446Z"
   },
   {
    "duration": 22,
    "start_time": "2022-12-14T09:11:04.466Z"
   },
   {
    "duration": 57,
    "start_time": "2022-12-14T09:11:04.490Z"
   },
   {
    "duration": 26,
    "start_time": "2022-12-14T09:11:04.548Z"
   },
   {
    "duration": 52,
    "start_time": "2022-12-14T09:11:04.576Z"
   },
   {
    "duration": 58,
    "start_time": "2022-12-14T09:11:04.630Z"
   },
   {
    "duration": 48,
    "start_time": "2022-12-14T09:11:04.693Z"
   },
   {
    "duration": 25,
    "start_time": "2022-12-14T09:11:04.743Z"
   },
   {
    "duration": 40,
    "start_time": "2022-12-14T09:11:04.769Z"
   },
   {
    "duration": 34,
    "start_time": "2022-12-14T09:11:04.811Z"
   },
   {
    "duration": 62,
    "start_time": "2022-12-14T09:11:04.847Z"
   },
   {
    "duration": 4,
    "start_time": "2022-12-14T09:11:45.462Z"
   },
   {
    "duration": 23,
    "start_time": "2022-12-14T09:11:46.470Z"
   },
   {
    "duration": 13,
    "start_time": "2022-12-14T09:11:54.503Z"
   },
   {
    "duration": 5,
    "start_time": "2022-12-14T09:11:56.830Z"
   },
   {
    "duration": 4,
    "start_time": "2022-12-14T09:11:57.471Z"
   },
   {
    "duration": 2170,
    "start_time": "2022-12-14T09:12:03.554Z"
   },
   {
    "duration": 46,
    "start_time": "2022-12-14T09:12:05.727Z"
   },
   {
    "duration": 59,
    "start_time": "2022-12-14T09:12:05.776Z"
   },
   {
    "duration": 74,
    "start_time": "2022-12-14T09:12:05.837Z"
   },
   {
    "duration": 23,
    "start_time": "2022-12-14T09:12:05.912Z"
   },
   {
    "duration": 42,
    "start_time": "2022-12-14T09:12:05.937Z"
   },
   {
    "duration": 56,
    "start_time": "2022-12-14T09:12:05.980Z"
   },
   {
    "duration": 54,
    "start_time": "2022-12-14T09:12:06.038Z"
   },
   {
    "duration": 55,
    "start_time": "2022-12-14T09:12:06.093Z"
   },
   {
    "duration": 43,
    "start_time": "2022-12-14T09:12:06.150Z"
   },
   {
    "duration": 35,
    "start_time": "2022-12-14T09:12:06.197Z"
   },
   {
    "duration": 23,
    "start_time": "2022-12-14T09:12:06.233Z"
   },
   {
    "duration": 78,
    "start_time": "2022-12-14T09:12:06.258Z"
   },
   {
    "duration": 12,
    "start_time": "2022-12-14T09:12:21.229Z"
   },
   {
    "duration": 8,
    "start_time": "2022-12-14T09:13:17.534Z"
   },
   {
    "duration": 6,
    "start_time": "2022-12-14T09:13:19.881Z"
   },
   {
    "duration": 2091,
    "start_time": "2022-12-14T09:13:27.408Z"
   },
   {
    "duration": 40,
    "start_time": "2022-12-14T09:13:29.503Z"
   },
   {
    "duration": 16,
    "start_time": "2022-12-14T09:13:29.545Z"
   },
   {
    "duration": 73,
    "start_time": "2022-12-14T09:13:29.563Z"
   },
   {
    "duration": 28,
    "start_time": "2022-12-14T09:13:29.638Z"
   },
   {
    "duration": 64,
    "start_time": "2022-12-14T09:13:29.668Z"
   },
   {
    "duration": 34,
    "start_time": "2022-12-14T09:13:29.734Z"
   },
   {
    "duration": 53,
    "start_time": "2022-12-14T09:13:29.770Z"
   },
   {
    "duration": 71,
    "start_time": "2022-12-14T09:13:29.825Z"
   },
   {
    "duration": 35,
    "start_time": "2022-12-14T09:13:29.906Z"
   },
   {
    "duration": 69,
    "start_time": "2022-12-14T09:13:29.943Z"
   },
   {
    "duration": 48,
    "start_time": "2022-12-14T09:13:30.014Z"
   },
   {
    "duration": 61,
    "start_time": "2022-12-14T09:13:30.064Z"
   },
   {
    "duration": 22,
    "start_time": "2022-12-14T09:23:26.767Z"
   },
   {
    "duration": 294,
    "start_time": "2022-12-14T09:23:37.432Z"
   },
   {
    "duration": 341,
    "start_time": "2022-12-14T09:23:44.831Z"
   },
   {
    "duration": 345,
    "start_time": "2022-12-14T09:23:54.573Z"
   },
   {
    "duration": 1945,
    "start_time": "2022-12-14T09:23:56.882Z"
   },
   {
    "duration": 40,
    "start_time": "2022-12-14T09:23:58.829Z"
   },
   {
    "duration": 15,
    "start_time": "2022-12-14T09:23:58.871Z"
   },
   {
    "duration": 14,
    "start_time": "2022-12-14T09:23:58.889Z"
   },
   {
    "duration": 4,
    "start_time": "2022-12-14T09:23:58.905Z"
   },
   {
    "duration": 16,
    "start_time": "2022-12-14T09:23:58.911Z"
   },
   {
    "duration": 8,
    "start_time": "2022-12-14T09:23:58.929Z"
   },
   {
    "duration": 11,
    "start_time": "2022-12-14T09:23:58.938Z"
   },
   {
    "duration": 29,
    "start_time": "2022-12-14T09:23:58.951Z"
   },
   {
    "duration": 9,
    "start_time": "2022-12-14T09:23:58.982Z"
   },
   {
    "duration": 10,
    "start_time": "2022-12-14T09:23:58.993Z"
   },
   {
    "duration": 11,
    "start_time": "2022-12-14T09:23:59.005Z"
   },
   {
    "duration": 10,
    "start_time": "2022-12-14T09:23:59.018Z"
   },
   {
    "duration": 10,
    "start_time": "2022-12-14T09:23:59.031Z"
   },
   {
    "duration": 18,
    "start_time": "2022-12-14T09:24:08.566Z"
   },
   {
    "duration": 324,
    "start_time": "2022-12-14T09:25:47.078Z"
   },
   {
    "duration": 15,
    "start_time": "2022-12-14T09:25:50.855Z"
   },
   {
    "duration": 4,
    "start_time": "2022-12-14T09:26:22.509Z"
   },
   {
    "duration": 12,
    "start_time": "2022-12-14T09:26:33.534Z"
   },
   {
    "duration": 9,
    "start_time": "2022-12-14T09:26:40.774Z"
   },
   {
    "duration": 12,
    "start_time": "2022-12-14T09:26:48.830Z"
   },
   {
    "duration": 311,
    "start_time": "2022-12-14T09:28:18.927Z"
   },
   {
    "duration": 2008,
    "start_time": "2022-12-14T09:28:24.858Z"
   },
   {
    "duration": 41,
    "start_time": "2022-12-14T09:28:26.868Z"
   },
   {
    "duration": 21,
    "start_time": "2022-12-14T09:28:26.911Z"
   },
   {
    "duration": 48,
    "start_time": "2022-12-14T09:28:26.934Z"
   },
   {
    "duration": 31,
    "start_time": "2022-12-14T09:28:26.984Z"
   },
   {
    "duration": 41,
    "start_time": "2022-12-14T09:28:27.018Z"
   },
   {
    "duration": 30,
    "start_time": "2022-12-14T09:28:27.060Z"
   },
   {
    "duration": 19,
    "start_time": "2022-12-14T09:28:27.092Z"
   },
   {
    "duration": 30,
    "start_time": "2022-12-14T09:28:27.113Z"
   },
   {
    "duration": 28,
    "start_time": "2022-12-14T09:28:27.146Z"
   },
   {
    "duration": 48,
    "start_time": "2022-12-14T09:28:27.176Z"
   },
   {
    "duration": 34,
    "start_time": "2022-12-14T09:28:27.226Z"
   },
   {
    "duration": 31,
    "start_time": "2022-12-14T09:28:27.262Z"
   },
   {
    "duration": 67,
    "start_time": "2022-12-14T09:28:27.295Z"
   },
   {
    "duration": 321,
    "start_time": "2022-12-14T09:28:35.358Z"
   },
   {
    "duration": 1995,
    "start_time": "2022-12-14T09:28:38.827Z"
   },
   {
    "duration": 43,
    "start_time": "2022-12-14T09:28:40.827Z"
   },
   {
    "duration": 16,
    "start_time": "2022-12-14T09:28:40.872Z"
   },
   {
    "duration": 17,
    "start_time": "2022-12-14T09:28:40.891Z"
   },
   {
    "duration": 6,
    "start_time": "2022-12-14T09:28:40.910Z"
   },
   {
    "duration": 13,
    "start_time": "2022-12-14T09:28:40.918Z"
   },
   {
    "duration": 14,
    "start_time": "2022-12-14T09:28:40.933Z"
   },
   {
    "duration": 36,
    "start_time": "2022-12-14T09:28:40.950Z"
   },
   {
    "duration": 33,
    "start_time": "2022-12-14T09:28:40.989Z"
   },
   {
    "duration": 24,
    "start_time": "2022-12-14T09:28:41.025Z"
   },
   {
    "duration": 20,
    "start_time": "2022-12-14T09:28:41.052Z"
   },
   {
    "duration": 9,
    "start_time": "2022-12-14T09:28:41.075Z"
   },
   {
    "duration": 19,
    "start_time": "2022-12-14T09:28:41.085Z"
   },
   {
    "duration": 19,
    "start_time": "2022-12-14T09:28:41.106Z"
   },
   {
    "duration": 318,
    "start_time": "2022-12-14T09:29:55.263Z"
   },
   {
    "duration": 1911,
    "start_time": "2022-12-14T09:29:57.282Z"
   },
   {
    "duration": 40,
    "start_time": "2022-12-14T09:29:59.196Z"
   },
   {
    "duration": 15,
    "start_time": "2022-12-14T09:29:59.237Z"
   },
   {
    "duration": 15,
    "start_time": "2022-12-14T09:29:59.253Z"
   },
   {
    "duration": 3,
    "start_time": "2022-12-14T09:29:59.270Z"
   },
   {
    "duration": 15,
    "start_time": "2022-12-14T09:29:59.275Z"
   },
   {
    "duration": 15,
    "start_time": "2022-12-14T09:29:59.292Z"
   },
   {
    "duration": 25,
    "start_time": "2022-12-14T09:29:59.309Z"
   },
   {
    "duration": 16,
    "start_time": "2022-12-14T09:29:59.336Z"
   },
   {
    "duration": 38,
    "start_time": "2022-12-14T09:29:59.355Z"
   },
   {
    "duration": 32,
    "start_time": "2022-12-14T09:29:59.395Z"
   },
   {
    "duration": 14,
    "start_time": "2022-12-14T09:29:59.429Z"
   },
   {
    "duration": 26,
    "start_time": "2022-12-14T09:29:59.444Z"
   },
   {
    "duration": 25,
    "start_time": "2022-12-14T09:29:59.472Z"
   },
   {
    "duration": 1929,
    "start_time": "2022-12-14T09:30:12.443Z"
   },
   {
    "duration": 39,
    "start_time": "2022-12-14T09:30:14.374Z"
   },
   {
    "duration": 15,
    "start_time": "2022-12-14T09:30:14.415Z"
   },
   {
    "duration": 14,
    "start_time": "2022-12-14T09:30:14.433Z"
   },
   {
    "duration": 4,
    "start_time": "2022-12-14T09:30:14.449Z"
   },
   {
    "duration": 9,
    "start_time": "2022-12-14T09:30:14.454Z"
   },
   {
    "duration": 5,
    "start_time": "2022-12-14T09:30:14.464Z"
   },
   {
    "duration": 11,
    "start_time": "2022-12-14T09:30:14.470Z"
   },
   {
    "duration": 8,
    "start_time": "2022-12-14T09:30:14.483Z"
   },
   {
    "duration": 3,
    "start_time": "2022-12-14T09:30:14.493Z"
   },
   {
    "duration": 6,
    "start_time": "2022-12-14T09:30:14.498Z"
   },
   {
    "duration": 5,
    "start_time": "2022-12-14T09:30:14.506Z"
   },
   {
    "duration": 6,
    "start_time": "2022-12-14T09:30:14.513Z"
   },
   {
    "duration": 22,
    "start_time": "2022-12-14T09:30:14.521Z"
   },
   {
    "duration": 4,
    "start_time": "2022-12-14T09:51:08.132Z"
   },
   {
    "duration": 1936,
    "start_time": "2022-12-14T12:27:19.848Z"
   },
   {
    "duration": 40,
    "start_time": "2022-12-14T12:27:21.787Z"
   },
   {
    "duration": 15,
    "start_time": "2022-12-14T12:27:21.828Z"
   },
   {
    "duration": 16,
    "start_time": "2022-12-14T12:27:21.845Z"
   },
   {
    "duration": 19,
    "start_time": "2022-12-14T12:27:21.862Z"
   },
   {
    "duration": 23,
    "start_time": "2022-12-14T12:27:21.883Z"
   },
   {
    "duration": 9,
    "start_time": "2022-12-14T12:27:21.908Z"
   },
   {
    "duration": 9,
    "start_time": "2022-12-14T12:27:21.919Z"
   },
   {
    "duration": 20,
    "start_time": "2022-12-14T12:27:21.930Z"
   },
   {
    "duration": 8,
    "start_time": "2022-12-14T12:27:21.952Z"
   },
   {
    "duration": 19,
    "start_time": "2022-12-14T12:27:21.962Z"
   },
   {
    "duration": 8,
    "start_time": "2022-12-14T12:27:21.982Z"
   },
   {
    "duration": 6,
    "start_time": "2022-12-14T12:27:21.991Z"
   },
   {
    "duration": 24,
    "start_time": "2022-12-14T12:27:21.998Z"
   },
   {
    "duration": 11,
    "start_time": "2022-12-14T12:28:24.951Z"
   },
   {
    "duration": 11,
    "start_time": "2022-12-14T12:28:36.404Z"
   },
   {
    "duration": 3,
    "start_time": "2022-12-14T12:28:54.267Z"
   },
   {
    "duration": 5,
    "start_time": "2022-12-14T12:29:03.301Z"
   },
   {
    "duration": 7,
    "start_time": "2022-12-14T12:29:04.277Z"
   },
   {
    "duration": 1121,
    "start_time": "2022-12-14T12:29:11.355Z"
   },
   {
    "duration": 0,
    "start_time": "2022-12-14T12:29:12.477Z"
   },
   {
    "duration": 1889,
    "start_time": "2022-12-14T12:29:20.008Z"
   },
   {
    "duration": 39,
    "start_time": "2022-12-14T12:29:21.900Z"
   },
   {
    "duration": 14,
    "start_time": "2022-12-14T12:29:21.941Z"
   },
   {
    "duration": 17,
    "start_time": "2022-12-14T12:29:21.957Z"
   },
   {
    "duration": 4,
    "start_time": "2022-12-14T12:29:21.976Z"
   },
   {
    "duration": 9,
    "start_time": "2022-12-14T12:29:21.981Z"
   },
   {
    "duration": 8,
    "start_time": "2022-12-14T12:29:21.992Z"
   },
   {
    "duration": 9,
    "start_time": "2022-12-14T12:29:22.001Z"
   },
   {
    "duration": 8,
    "start_time": "2022-12-14T12:29:22.012Z"
   },
   {
    "duration": 3,
    "start_time": "2022-12-14T12:29:22.022Z"
   },
   {
    "duration": 9,
    "start_time": "2022-12-14T12:29:22.027Z"
   },
   {
    "duration": 8,
    "start_time": "2022-12-14T12:29:22.038Z"
   },
   {
    "duration": 8,
    "start_time": "2022-12-14T12:29:22.047Z"
   },
   {
    "duration": 19,
    "start_time": "2022-12-14T12:29:22.079Z"
   },
   {
    "duration": 8,
    "start_time": "2022-12-14T12:29:22.099Z"
   },
   {
    "duration": 31,
    "start_time": "2022-12-14T12:29:22.108Z"
   },
   {
    "duration": 6,
    "start_time": "2022-12-14T12:30:20.444Z"
   },
   {
    "duration": 11,
    "start_time": "2022-12-14T12:30:21.204Z"
   },
   {
    "duration": 7,
    "start_time": "2022-12-14T12:30:43.699Z"
   },
   {
    "duration": 14,
    "start_time": "2022-12-14T12:30:45.652Z"
   },
   {
    "duration": 1908,
    "start_time": "2022-12-14T12:30:48.657Z"
   },
   {
    "duration": 42,
    "start_time": "2022-12-14T12:30:50.567Z"
   },
   {
    "duration": 16,
    "start_time": "2022-12-14T12:30:50.611Z"
   },
   {
    "duration": 19,
    "start_time": "2022-12-14T12:30:50.629Z"
   },
   {
    "duration": 4,
    "start_time": "2022-12-14T12:30:50.650Z"
   },
   {
    "duration": 20,
    "start_time": "2022-12-14T12:30:50.655Z"
   },
   {
    "duration": 8,
    "start_time": "2022-12-14T12:30:50.676Z"
   },
   {
    "duration": 14,
    "start_time": "2022-12-14T12:30:50.686Z"
   },
   {
    "duration": 9,
    "start_time": "2022-12-14T12:30:50.702Z"
   },
   {
    "duration": 9,
    "start_time": "2022-12-14T12:30:50.713Z"
   },
   {
    "duration": 11,
    "start_time": "2022-12-14T12:30:50.723Z"
   },
   {
    "duration": 22,
    "start_time": "2022-12-14T12:30:50.735Z"
   },
   {
    "duration": 11,
    "start_time": "2022-12-14T12:30:50.759Z"
   },
   {
    "duration": 37,
    "start_time": "2022-12-14T12:30:50.772Z"
   },
   {
    "duration": 9,
    "start_time": "2022-12-14T12:30:50.810Z"
   },
   {
    "duration": 44,
    "start_time": "2022-12-14T12:30:50.820Z"
   },
   {
    "duration": 9,
    "start_time": "2022-12-14T12:35:18.891Z"
   },
   {
    "duration": 11,
    "start_time": "2022-12-14T12:35:20.561Z"
   },
   {
    "duration": 24,
    "start_time": "2022-12-14T12:39:04.315Z"
   },
   {
    "duration": 11,
    "start_time": "2022-12-14T12:39:29.020Z"
   },
   {
    "duration": 1975,
    "start_time": "2022-12-14T12:39:34.976Z"
   },
   {
    "duration": 41,
    "start_time": "2022-12-14T12:39:36.954Z"
   },
   {
    "duration": 13,
    "start_time": "2022-12-14T12:39:36.997Z"
   },
   {
    "duration": 33,
    "start_time": "2022-12-14T12:39:37.012Z"
   },
   {
    "duration": 4,
    "start_time": "2022-12-14T12:39:37.046Z"
   },
   {
    "duration": 29,
    "start_time": "2022-12-14T12:39:37.051Z"
   },
   {
    "duration": 16,
    "start_time": "2022-12-14T12:39:37.082Z"
   },
   {
    "duration": 17,
    "start_time": "2022-12-14T12:39:37.100Z"
   },
   {
    "duration": 42,
    "start_time": "2022-12-14T12:39:37.119Z"
   },
   {
    "duration": 8,
    "start_time": "2022-12-14T12:39:37.163Z"
   },
   {
    "duration": 9,
    "start_time": "2022-12-14T12:39:37.173Z"
   },
   {
    "duration": 34,
    "start_time": "2022-12-14T12:39:37.184Z"
   },
   {
    "duration": 36,
    "start_time": "2022-12-14T12:39:37.219Z"
   },
   {
    "duration": 43,
    "start_time": "2022-12-14T12:39:37.257Z"
   },
   {
    "duration": 51,
    "start_time": "2022-12-14T12:39:37.301Z"
   },
   {
    "duration": 11,
    "start_time": "2022-12-14T12:39:37.354Z"
   },
   {
    "duration": 8,
    "start_time": "2022-12-14T12:40:16.484Z"
   },
   {
    "duration": 12,
    "start_time": "2022-12-14T12:40:19.268Z"
   },
   {
    "duration": 13,
    "start_time": "2022-12-14T12:40:28.923Z"
   },
   {
    "duration": 20,
    "start_time": "2022-12-14T12:41:34.541Z"
   },
   {
    "duration": 12,
    "start_time": "2022-12-14T12:41:35.452Z"
   },
   {
    "duration": 1946,
    "start_time": "2022-12-14T12:41:38.247Z"
   },
   {
    "duration": 40,
    "start_time": "2022-12-14T12:41:40.196Z"
   },
   {
    "duration": 14,
    "start_time": "2022-12-14T12:41:40.238Z"
   },
   {
    "duration": 12,
    "start_time": "2022-12-14T12:41:40.254Z"
   },
   {
    "duration": 3,
    "start_time": "2022-12-14T12:41:40.268Z"
   },
   {
    "duration": 15,
    "start_time": "2022-12-14T12:41:40.273Z"
   },
   {
    "duration": 5,
    "start_time": "2022-12-14T12:41:40.289Z"
   },
   {
    "duration": 7,
    "start_time": "2022-12-14T12:41:40.295Z"
   },
   {
    "duration": 11,
    "start_time": "2022-12-14T12:41:40.304Z"
   },
   {
    "duration": 4,
    "start_time": "2022-12-14T12:41:40.318Z"
   },
   {
    "duration": 8,
    "start_time": "2022-12-14T12:41:40.324Z"
   },
   {
    "duration": 7,
    "start_time": "2022-12-14T12:41:40.334Z"
   },
   {
    "duration": 21,
    "start_time": "2022-12-14T12:41:40.343Z"
   },
   {
    "duration": 19,
    "start_time": "2022-12-14T12:41:40.378Z"
   },
   {
    "duration": 8,
    "start_time": "2022-12-14T12:41:40.399Z"
   },
   {
    "duration": 13,
    "start_time": "2022-12-14T12:41:40.409Z"
   },
   {
    "duration": 4,
    "start_time": "2022-12-14T12:54:33.325Z"
   },
   {
    "duration": 10,
    "start_time": "2022-12-14T12:55:49.396Z"
   },
   {
    "duration": 12,
    "start_time": "2022-12-14T12:56:04.372Z"
   },
   {
    "duration": 6,
    "start_time": "2022-12-14T12:56:07.595Z"
   },
   {
    "duration": 6,
    "start_time": "2022-12-14T12:56:15.529Z"
   },
   {
    "duration": 7,
    "start_time": "2022-12-14T12:56:55.635Z"
   },
   {
    "duration": 7,
    "start_time": "2022-12-14T12:56:56.132Z"
   },
   {
    "duration": 6,
    "start_time": "2022-12-14T12:59:06.139Z"
   },
   {
    "duration": 5,
    "start_time": "2022-12-14T12:59:06.667Z"
   },
   {
    "duration": 704,
    "start_time": "2022-12-14T13:03:14.907Z"
   },
   {
    "duration": 9,
    "start_time": "2022-12-14T13:03:21.651Z"
   },
   {
    "duration": 2362,
    "start_time": "2022-12-14T13:03:58.620Z"
   },
   {
    "duration": 1883,
    "start_time": "2022-12-14T13:04:06.144Z"
   },
   {
    "duration": 40,
    "start_time": "2022-12-14T13:04:08.030Z"
   },
   {
    "duration": 22,
    "start_time": "2022-12-14T13:04:08.072Z"
   },
   {
    "duration": 34,
    "start_time": "2022-12-14T13:04:08.096Z"
   },
   {
    "duration": 6,
    "start_time": "2022-12-14T13:04:08.132Z"
   },
   {
    "duration": 13,
    "start_time": "2022-12-14T13:04:08.140Z"
   },
   {
    "duration": 5,
    "start_time": "2022-12-14T13:04:08.154Z"
   },
   {
    "duration": 9,
    "start_time": "2022-12-14T13:04:08.160Z"
   },
   {
    "duration": 15,
    "start_time": "2022-12-14T13:04:08.171Z"
   },
   {
    "duration": 4,
    "start_time": "2022-12-14T13:04:08.188Z"
   },
   {
    "duration": 6,
    "start_time": "2022-12-14T13:04:08.193Z"
   },
   {
    "duration": 25,
    "start_time": "2022-12-14T13:04:08.201Z"
   },
   {
    "duration": 11,
    "start_time": "2022-12-14T13:04:08.227Z"
   },
   {
    "duration": 25,
    "start_time": "2022-12-14T13:04:08.239Z"
   },
   {
    "duration": 9,
    "start_time": "2022-12-14T13:04:08.266Z"
   },
   {
    "duration": 16,
    "start_time": "2022-12-14T13:04:08.277Z"
   },
   {
    "duration": 17,
    "start_time": "2022-12-14T13:04:08.294Z"
   },
   {
    "duration": 8,
    "start_time": "2022-12-14T13:04:08.312Z"
   },
   {
    "duration": 667,
    "start_time": "2022-12-14T13:04:08.322Z"
   },
   {
    "duration": 495,
    "start_time": "2022-12-14T13:04:08.991Z"
   },
   {
    "duration": 53,
    "start_time": "2022-12-15T06:16:28.093Z"
   },
   {
    "duration": 4794,
    "start_time": "2022-12-15T06:16:31.503Z"
   },
   {
    "duration": 170,
    "start_time": "2022-12-15T06:16:36.301Z"
   },
   {
    "duration": 24,
    "start_time": "2022-12-15T06:16:36.473Z"
   },
   {
    "duration": 15,
    "start_time": "2022-12-15T06:16:36.499Z"
   },
   {
    "duration": 4,
    "start_time": "2022-12-15T06:16:36.516Z"
   },
   {
    "duration": 11,
    "start_time": "2022-12-15T06:16:36.522Z"
   },
   {
    "duration": 23,
    "start_time": "2022-12-15T06:16:36.534Z"
   },
   {
    "duration": 12,
    "start_time": "2022-12-15T06:16:36.559Z"
   },
   {
    "duration": 10,
    "start_time": "2022-12-15T06:16:36.574Z"
   },
   {
    "duration": 4,
    "start_time": "2022-12-15T06:16:36.585Z"
   },
   {
    "duration": 5,
    "start_time": "2022-12-15T06:16:36.591Z"
   },
   {
    "duration": 6,
    "start_time": "2022-12-15T06:16:36.598Z"
   },
   {
    "duration": 6,
    "start_time": "2022-12-15T06:16:36.606Z"
   },
   {
    "duration": 24,
    "start_time": "2022-12-15T06:16:36.651Z"
   },
   {
    "duration": 10,
    "start_time": "2022-12-15T06:16:36.678Z"
   },
   {
    "duration": 15,
    "start_time": "2022-12-15T06:16:36.691Z"
   },
   {
    "duration": 1262,
    "start_time": "2022-12-15T06:16:36.708Z"
   },
   {
    "duration": 0,
    "start_time": "2022-12-15T06:16:37.972Z"
   },
   {
    "duration": 0,
    "start_time": "2022-12-15T06:16:37.973Z"
   },
   {
    "duration": 0,
    "start_time": "2022-12-15T06:16:37.974Z"
   },
   {
    "duration": 6,
    "start_time": "2022-12-15T06:17:15.129Z"
   },
   {
    "duration": 8,
    "start_time": "2022-12-15T06:17:16.705Z"
   },
   {
    "duration": 673,
    "start_time": "2022-12-15T06:17:43.899Z"
   },
   {
    "duration": 519,
    "start_time": "2022-12-15T06:17:46.425Z"
   },
   {
    "duration": 6,
    "start_time": "2022-12-15T06:24:11.282Z"
   },
   {
    "duration": 6,
    "start_time": "2022-12-15T06:24:11.586Z"
   },
   {
    "duration": 12,
    "start_time": "2022-12-15T07:07:28.608Z"
   },
   {
    "duration": 2591,
    "start_time": "2022-12-15T07:08:09.491Z"
   },
   {
    "duration": 42,
    "start_time": "2022-12-15T07:08:12.085Z"
   },
   {
    "duration": 16,
    "start_time": "2022-12-15T07:08:12.129Z"
   },
   {
    "duration": 16,
    "start_time": "2022-12-15T07:08:12.147Z"
   },
   {
    "duration": 5,
    "start_time": "2022-12-15T07:08:12.166Z"
   },
   {
    "duration": 30,
    "start_time": "2022-12-15T07:08:12.173Z"
   },
   {
    "duration": 9,
    "start_time": "2022-12-15T07:08:12.205Z"
   },
   {
    "duration": 20,
    "start_time": "2022-12-15T07:08:12.216Z"
   },
   {
    "duration": 23,
    "start_time": "2022-12-15T07:08:12.238Z"
   },
   {
    "duration": 6,
    "start_time": "2022-12-15T07:08:12.265Z"
   },
   {
    "duration": 11,
    "start_time": "2022-12-15T07:08:12.273Z"
   },
   {
    "duration": 10,
    "start_time": "2022-12-15T07:08:12.286Z"
   },
   {
    "duration": 7,
    "start_time": "2022-12-15T07:08:12.298Z"
   },
   {
    "duration": 44,
    "start_time": "2022-12-15T07:08:12.307Z"
   },
   {
    "duration": 10,
    "start_time": "2022-12-15T07:08:12.353Z"
   },
   {
    "duration": 17,
    "start_time": "2022-12-15T07:08:12.365Z"
   },
   {
    "duration": 18,
    "start_time": "2022-12-15T07:08:12.385Z"
   },
   {
    "duration": 6,
    "start_time": "2022-12-15T07:08:12.404Z"
   },
   {
    "duration": 640,
    "start_time": "2022-12-15T07:08:12.411Z"
   },
   {
    "duration": 471,
    "start_time": "2022-12-15T07:08:13.054Z"
   },
   {
    "duration": 14,
    "start_time": "2022-12-15T07:08:13.526Z"
   },
   {
    "duration": 45881,
    "start_time": "2022-12-15T07:11:34.584Z"
   },
   {
    "duration": 43900,
    "start_time": "2022-12-15T07:13:19.792Z"
   },
   {
    "duration": 52,
    "start_time": "2022-12-15T11:15:08.871Z"
   },
   {
    "duration": 5449,
    "start_time": "2022-12-15T11:15:37.036Z"
   },
   {
    "duration": 2665,
    "start_time": "2022-12-15T11:15:43.400Z"
   },
   {
    "duration": 180,
    "start_time": "2022-12-15T11:15:46.071Z"
   },
   {
    "duration": 24,
    "start_time": "2022-12-15T11:15:46.253Z"
   },
   {
    "duration": 20,
    "start_time": "2022-12-15T11:15:46.281Z"
   },
   {
    "duration": 5,
    "start_time": "2022-12-15T11:15:46.302Z"
   },
   {
    "duration": 43,
    "start_time": "2022-12-15T11:15:46.308Z"
   },
   {
    "duration": 6,
    "start_time": "2022-12-15T11:15:46.354Z"
   },
   {
    "duration": 23,
    "start_time": "2022-12-15T11:15:46.362Z"
   },
   {
    "duration": 11,
    "start_time": "2022-12-15T11:15:46.387Z"
   },
   {
    "duration": 7,
    "start_time": "2022-12-15T11:15:46.401Z"
   },
   {
    "duration": 12,
    "start_time": "2022-12-15T11:15:46.410Z"
   },
   {
    "duration": 7,
    "start_time": "2022-12-15T11:15:46.424Z"
   },
   {
    "duration": 36,
    "start_time": "2022-12-15T11:15:46.458Z"
   },
   {
    "duration": 25,
    "start_time": "2022-12-15T11:15:46.496Z"
   },
   {
    "duration": 10,
    "start_time": "2022-12-15T11:15:46.523Z"
   },
   {
    "duration": 18,
    "start_time": "2022-12-15T11:15:46.536Z"
   },
   {
    "duration": 21,
    "start_time": "2022-12-15T11:15:46.559Z"
   },
   {
    "duration": 6,
    "start_time": "2022-12-15T11:15:46.582Z"
   },
   {
    "duration": 675,
    "start_time": "2022-12-15T11:15:46.590Z"
   },
   {
    "duration": 490,
    "start_time": "2022-12-15T11:15:47.267Z"
   },
   {
    "duration": 41156,
    "start_time": "2022-12-15T11:15:47.760Z"
   },
   {
    "duration": 9,
    "start_time": "2022-12-15T11:16:28.919Z"
   },
   {
    "duration": 32,
    "start_time": "2022-12-15T11:42:00.779Z"
   },
   {
    "duration": 44,
    "start_time": "2022-12-15T11:42:08.838Z"
   },
   {
    "duration": 8,
    "start_time": "2022-12-15T11:53:20.722Z"
   },
   {
    "duration": 34,
    "start_time": "2022-12-15T11:53:22.594Z"
   },
   {
    "duration": 15,
    "start_time": "2022-12-15T12:06:40.299Z"
   },
   {
    "duration": 6,
    "start_time": "2022-12-15T12:10:05.545Z"
   },
   {
    "duration": 3066,
    "start_time": "2022-12-15T12:15:05.274Z"
   },
   {
    "duration": 43,
    "start_time": "2022-12-15T12:17:17.282Z"
   },
   {
    "duration": 27,
    "start_time": "2022-12-15T12:18:11.394Z"
   },
   {
    "duration": 30,
    "start_time": "2022-12-15T12:18:36.896Z"
   },
   {
    "duration": 12,
    "start_time": "2022-12-15T12:19:06.888Z"
   },
   {
    "duration": 15,
    "start_time": "2022-12-15T12:19:40.712Z"
   },
   {
    "duration": 19,
    "start_time": "2022-12-15T12:21:06.081Z"
   },
   {
    "duration": 3,
    "start_time": "2022-12-15T12:28:49.904Z"
   },
   {
    "duration": 82,
    "start_time": "2022-12-15T12:43:24.265Z"
   },
   {
    "duration": 2431,
    "start_time": "2022-12-15T12:43:27.535Z"
   },
   {
    "duration": 53,
    "start_time": "2022-12-15T12:43:29.968Z"
   },
   {
    "duration": 18,
    "start_time": "2022-12-15T12:43:30.023Z"
   },
   {
    "duration": 54,
    "start_time": "2022-12-15T12:43:30.044Z"
   },
   {
    "duration": 14,
    "start_time": "2022-12-15T12:43:30.100Z"
   },
   {
    "duration": 33,
    "start_time": "2022-12-15T12:43:30.116Z"
   },
   {
    "duration": 53,
    "start_time": "2022-12-15T12:43:30.152Z"
   },
   {
    "duration": 35,
    "start_time": "2022-12-15T12:43:30.207Z"
   },
   {
    "duration": 29,
    "start_time": "2022-12-15T12:43:30.244Z"
   },
   {
    "duration": 44,
    "start_time": "2022-12-15T12:43:30.276Z"
   },
   {
    "duration": 39,
    "start_time": "2022-12-15T12:43:30.322Z"
   },
   {
    "duration": 49,
    "start_time": "2022-12-15T12:43:30.363Z"
   },
   {
    "duration": 28,
    "start_time": "2022-12-15T12:43:30.414Z"
   },
   {
    "duration": 37,
    "start_time": "2022-12-15T12:43:30.445Z"
   },
   {
    "duration": 41,
    "start_time": "2022-12-15T12:43:30.483Z"
   },
   {
    "duration": 38,
    "start_time": "2022-12-15T12:43:30.526Z"
   },
   {
    "duration": 33,
    "start_time": "2022-12-15T12:43:30.565Z"
   },
   {
    "duration": 23,
    "start_time": "2022-12-15T12:43:30.600Z"
   },
   {
    "duration": 594,
    "start_time": "2022-12-15T12:43:30.625Z"
   },
   {
    "duration": 506,
    "start_time": "2022-12-15T12:43:31.221Z"
   },
   {
    "duration": 37850,
    "start_time": "2022-12-15T12:43:31.730Z"
   },
   {
    "duration": 14,
    "start_time": "2022-12-15T12:44:09.582Z"
   },
   {
    "duration": 15,
    "start_time": "2022-12-15T12:44:09.599Z"
   },
   {
    "duration": 57,
    "start_time": "2022-12-15T12:44:09.617Z"
   },
   {
    "duration": 32,
    "start_time": "2022-12-15T12:44:09.676Z"
   },
   {
    "duration": 19,
    "start_time": "2022-12-15T12:44:09.710Z"
   },
   {
    "duration": 239,
    "start_time": "2022-12-15T12:44:09.752Z"
   },
   {
    "duration": 21,
    "start_time": "2022-12-15T12:51:47.872Z"
   },
   {
    "duration": 186,
    "start_time": "2022-12-15T12:51:55.605Z"
   },
   {
    "duration": 226,
    "start_time": "2022-12-15T12:52:12.585Z"
   },
   {
    "duration": 13,
    "start_time": "2022-12-15T12:57:34.823Z"
   },
   {
    "duration": 117,
    "start_time": "2022-12-15T12:58:23.834Z"
   },
   {
    "duration": 110,
    "start_time": "2022-12-15T12:58:46.695Z"
   },
   {
    "duration": 107,
    "start_time": "2022-12-15T12:58:57.680Z"
   },
   {
    "duration": 103,
    "start_time": "2022-12-15T12:59:08.008Z"
   },
   {
    "duration": 93,
    "start_time": "2022-12-15T13:07:49.887Z"
   },
   {
    "duration": 10,
    "start_time": "2022-12-15T13:08:25.081Z"
   },
   {
    "duration": 7,
    "start_time": "2022-12-15T13:10:32.538Z"
   },
   {
    "duration": 4858,
    "start_time": "2022-12-16T11:01:20.370Z"
   },
   {
    "duration": 157,
    "start_time": "2022-12-16T11:01:25.231Z"
   },
   {
    "duration": 19,
    "start_time": "2022-12-16T11:01:25.391Z"
   },
   {
    "duration": 12,
    "start_time": "2022-12-16T11:01:25.412Z"
   },
   {
    "duration": 3,
    "start_time": "2022-12-16T11:01:25.427Z"
   },
   {
    "duration": 15,
    "start_time": "2022-12-16T11:01:25.432Z"
   },
   {
    "duration": 4,
    "start_time": "2022-12-16T11:01:25.449Z"
   },
   {
    "duration": 9,
    "start_time": "2022-12-16T11:01:25.455Z"
   },
   {
    "duration": 10,
    "start_time": "2022-12-16T11:01:25.466Z"
   },
   {
    "duration": 5,
    "start_time": "2022-12-16T11:01:25.477Z"
   },
   {
    "duration": 7,
    "start_time": "2022-12-16T11:01:25.484Z"
   },
   {
    "duration": 30,
    "start_time": "2022-12-16T11:01:25.493Z"
   },
   {
    "duration": 8,
    "start_time": "2022-12-16T11:01:25.525Z"
   },
   {
    "duration": 28,
    "start_time": "2022-12-16T11:01:25.536Z"
   },
   {
    "duration": 8,
    "start_time": "2022-12-16T11:01:25.566Z"
   },
   {
    "duration": 15,
    "start_time": "2022-12-16T11:01:25.576Z"
   },
   {
    "duration": 29,
    "start_time": "2022-12-16T11:01:25.593Z"
   },
   {
    "duration": 6,
    "start_time": "2022-12-16T11:01:25.625Z"
   },
   {
    "duration": 567,
    "start_time": "2022-12-16T11:01:25.633Z"
   },
   {
    "duration": 464,
    "start_time": "2022-12-16T11:01:26.201Z"
   },
   {
    "duration": 36869,
    "start_time": "2022-12-16T11:01:26.667Z"
   },
   {
    "duration": 9,
    "start_time": "2022-12-16T11:02:03.537Z"
   },
   {
    "duration": 10,
    "start_time": "2022-12-16T11:02:03.548Z"
   },
   {
    "duration": 50,
    "start_time": "2022-12-16T11:02:03.560Z"
   },
   {
    "duration": 52,
    "start_time": "2022-12-16T11:02:03.612Z"
   },
   {
    "duration": 19,
    "start_time": "2022-12-16T11:02:03.666Z"
   },
   {
    "duration": 195,
    "start_time": "2022-12-16T11:02:03.686Z"
   },
   {
    "duration": 125,
    "start_time": "2022-12-16T11:02:03.883Z"
   },
   {
    "duration": 150,
    "start_time": "2022-12-16T11:02:04.010Z"
   },
   {
    "duration": 8,
    "start_time": "2022-12-16T11:02:04.162Z"
   },
   {
    "duration": 159,
    "start_time": "2022-12-16T11:02:04.172Z"
   },
   {
    "duration": 2051,
    "start_time": "2022-12-16T11:02:39.767Z"
   },
   {
    "duration": 2040,
    "start_time": "2022-12-16T11:02:49.661Z"
   },
   {
    "duration": 41,
    "start_time": "2022-12-16T11:02:51.704Z"
   },
   {
    "duration": 17,
    "start_time": "2022-12-16T11:02:51.747Z"
   },
   {
    "duration": 20,
    "start_time": "2022-12-16T11:02:51.765Z"
   },
   {
    "duration": 4,
    "start_time": "2022-12-16T11:02:51.787Z"
   },
   {
    "duration": 14,
    "start_time": "2022-12-16T11:02:51.793Z"
   },
   {
    "duration": 15,
    "start_time": "2022-12-16T11:02:51.810Z"
   },
   {
    "duration": 9,
    "start_time": "2022-12-16T11:02:51.827Z"
   },
   {
    "duration": 11,
    "start_time": "2022-12-16T11:02:51.838Z"
   },
   {
    "duration": 5,
    "start_time": "2022-12-16T11:02:51.851Z"
   },
   {
    "duration": 12,
    "start_time": "2022-12-16T11:02:51.859Z"
   },
   {
    "duration": 8,
    "start_time": "2022-12-16T11:02:51.873Z"
   },
   {
    "duration": 14,
    "start_time": "2022-12-16T11:02:51.883Z"
   },
   {
    "duration": 50,
    "start_time": "2022-12-16T11:02:51.900Z"
   },
   {
    "duration": 11,
    "start_time": "2022-12-16T11:02:51.952Z"
   },
   {
    "duration": 14,
    "start_time": "2022-12-16T11:02:51.965Z"
   },
   {
    "duration": 13,
    "start_time": "2022-12-16T11:02:51.981Z"
   },
   {
    "duration": 28,
    "start_time": "2022-12-16T11:02:51.996Z"
   },
   {
    "duration": 557,
    "start_time": "2022-12-16T11:02:52.026Z"
   },
   {
    "duration": 486,
    "start_time": "2022-12-16T11:02:52.584Z"
   },
   {
    "duration": 36522,
    "start_time": "2022-12-16T11:02:53.072Z"
   },
   {
    "duration": 9,
    "start_time": "2022-12-16T11:03:29.596Z"
   },
   {
    "duration": 24,
    "start_time": "2022-12-16T11:03:29.607Z"
   },
   {
    "duration": 37,
    "start_time": "2022-12-16T11:03:29.633Z"
   },
   {
    "duration": 26,
    "start_time": "2022-12-16T11:03:29.672Z"
   },
   {
    "duration": 33,
    "start_time": "2022-12-16T11:03:29.699Z"
   },
   {
    "duration": 199,
    "start_time": "2022-12-16T11:03:29.734Z"
   },
   {
    "duration": 153,
    "start_time": "2022-12-16T11:03:29.935Z"
   },
   {
    "duration": 111,
    "start_time": "2022-12-16T11:03:30.089Z"
   },
   {
    "duration": 6,
    "start_time": "2022-12-16T11:03:30.202Z"
   },
   {
    "duration": 462712,
    "start_time": "2022-12-16T11:03:30.210Z"
   },
   {
    "duration": 13,
    "start_time": "2022-12-16T12:01:43.356Z"
   },
   {
    "duration": 2095,
    "start_time": "2022-12-16T12:02:21.659Z"
   },
   {
    "duration": 4385,
    "start_time": "2022-12-19T07:06:11.759Z"
   },
   {
    "duration": 91,
    "start_time": "2022-12-19T07:06:16.146Z"
   },
   {
    "duration": 16,
    "start_time": "2022-12-19T07:06:16.239Z"
   },
   {
    "duration": 11,
    "start_time": "2022-12-19T07:06:16.257Z"
   },
   {
    "duration": 4,
    "start_time": "2022-12-19T07:06:16.269Z"
   },
   {
    "duration": 10,
    "start_time": "2022-12-19T07:06:16.274Z"
   },
   {
    "duration": 4,
    "start_time": "2022-12-19T07:06:16.285Z"
   },
   {
    "duration": 8,
    "start_time": "2022-12-19T07:06:16.291Z"
   },
   {
    "duration": 9,
    "start_time": "2022-12-19T07:06:16.301Z"
   },
   {
    "duration": 6,
    "start_time": "2022-12-19T07:06:16.311Z"
   },
   {
    "duration": 12,
    "start_time": "2022-12-19T07:06:16.318Z"
   },
   {
    "duration": 7,
    "start_time": "2022-12-19T07:06:16.331Z"
   },
   {
    "duration": 7,
    "start_time": "2022-12-19T07:06:16.340Z"
   },
   {
    "duration": 23,
    "start_time": "2022-12-19T07:06:16.349Z"
   },
   {
    "duration": 7,
    "start_time": "2022-12-19T07:06:16.373Z"
   },
   {
    "duration": 17,
    "start_time": "2022-12-19T07:06:16.381Z"
   },
   {
    "duration": 7,
    "start_time": "2022-12-19T07:06:16.399Z"
   },
   {
    "duration": 4,
    "start_time": "2022-12-19T07:06:16.407Z"
   },
   {
    "duration": 472,
    "start_time": "2022-12-19T07:06:16.413Z"
   },
   {
    "duration": 439,
    "start_time": "2022-12-19T07:06:16.886Z"
   },
   {
    "duration": 30776,
    "start_time": "2022-12-19T07:06:17.326Z"
   },
   {
    "duration": 7,
    "start_time": "2022-12-19T07:06:48.104Z"
   },
   {
    "duration": 7,
    "start_time": "2022-12-19T07:06:48.113Z"
   },
   {
    "duration": 26,
    "start_time": "2022-12-19T07:06:48.121Z"
   },
   {
    "duration": 22,
    "start_time": "2022-12-19T07:06:48.148Z"
   },
   {
    "duration": 35,
    "start_time": "2022-12-19T07:06:48.172Z"
   },
   {
    "duration": 157,
    "start_time": "2022-12-19T07:06:48.208Z"
   },
   {
    "duration": 121,
    "start_time": "2022-12-19T07:06:48.367Z"
   },
   {
    "duration": 91,
    "start_time": "2022-12-19T07:06:48.490Z"
   },
   {
    "duration": 18,
    "start_time": "2022-12-19T07:06:48.582Z"
   },
   {
    "duration": 426204,
    "start_time": "2022-12-19T07:06:48.602Z"
   },
   {
    "duration": 267694,
    "start_time": "2022-12-19T07:13:54.807Z"
   },
   {
    "duration": 100,
    "start_time": "2022-12-19T07:18:22.504Z"
   },
   {
    "duration": 8,
    "start_time": "2022-12-19T07:18:39.012Z"
   },
   {
    "duration": 118,
    "start_time": "2022-12-19T07:23:17.141Z"
   },
   {
    "duration": 2045,
    "start_time": "2022-12-19T07:24:11.644Z"
   },
   {
    "duration": 169,
    "start_time": "2022-12-19T07:24:27.149Z"
   },
   {
    "duration": 433694,
    "start_time": "2022-12-19T07:28:02.615Z"
   },
   {
    "duration": 222096,
    "start_time": "2022-12-19T07:44:23.901Z"
   },
   {
    "duration": 419795,
    "start_time": "2022-12-19T11:28:08.635Z"
   },
   {
    "duration": 179,
    "start_time": "2022-12-19T11:35:57.242Z"
   },
   {
    "duration": 184,
    "start_time": "2022-12-19T11:36:12.794Z"
   },
   {
    "duration": 438,
    "start_time": "2022-12-19T11:36:44.860Z"
   },
   {
    "duration": 726,
    "start_time": "2022-12-19T11:36:54.738Z"
   },
   {
    "duration": 285,
    "start_time": "2022-12-19T11:55:09.203Z"
   },
   {
    "duration": 266294,
    "start_time": "2022-12-19T12:31:23.602Z"
   },
   {
    "duration": 4673,
    "start_time": "2022-12-20T08:02:35.666Z"
   },
   {
    "duration": 173,
    "start_time": "2022-12-20T08:02:40.341Z"
   },
   {
    "duration": 18,
    "start_time": "2022-12-20T08:02:40.516Z"
   },
   {
    "duration": 17,
    "start_time": "2022-12-20T08:02:40.536Z"
   },
   {
    "duration": 5,
    "start_time": "2022-12-20T08:02:40.555Z"
   },
   {
    "duration": 14,
    "start_time": "2022-12-20T08:02:40.561Z"
   },
   {
    "duration": 11,
    "start_time": "2022-12-20T08:02:40.576Z"
   },
   {
    "duration": 11,
    "start_time": "2022-12-20T08:02:40.589Z"
   },
   {
    "duration": 9,
    "start_time": "2022-12-20T08:02:40.602Z"
   },
   {
    "duration": 13,
    "start_time": "2022-12-20T08:02:40.613Z"
   },
   {
    "duration": 18,
    "start_time": "2022-12-20T08:02:40.627Z"
   },
   {
    "duration": 11,
    "start_time": "2022-12-20T08:02:40.647Z"
   },
   {
    "duration": 12,
    "start_time": "2022-12-20T08:02:40.661Z"
   },
   {
    "duration": 23,
    "start_time": "2022-12-20T08:02:40.676Z"
   },
   {
    "duration": 12,
    "start_time": "2022-12-20T08:02:40.702Z"
   },
   {
    "duration": 18,
    "start_time": "2022-12-20T08:02:40.716Z"
   },
   {
    "duration": 17,
    "start_time": "2022-12-20T08:02:40.736Z"
   },
   {
    "duration": 23,
    "start_time": "2022-12-20T08:02:40.756Z"
   },
   {
    "duration": 503,
    "start_time": "2022-12-20T08:02:40.781Z"
   },
   {
    "duration": 464,
    "start_time": "2022-12-20T08:02:41.286Z"
   },
   {
    "duration": 32606,
    "start_time": "2022-12-20T08:02:41.751Z"
   },
   {
    "duration": 8,
    "start_time": "2022-12-20T08:03:14.359Z"
   },
   {
    "duration": 6,
    "start_time": "2022-12-20T08:03:14.368Z"
   },
   {
    "duration": 26,
    "start_time": "2022-12-20T08:03:14.376Z"
   },
   {
    "duration": 23,
    "start_time": "2022-12-20T08:03:14.403Z"
   },
   {
    "duration": 12,
    "start_time": "2022-12-20T08:03:14.428Z"
   },
   {
    "duration": 709,
    "start_time": "2022-12-20T08:03:14.441Z"
   },
   {
    "duration": 425777,
    "start_time": "2022-12-20T08:03:15.152Z"
   },
   {
    "duration": 307860,
    "start_time": "2022-12-20T08:10:20.930Z"
   },
   {
    "duration": 14,
    "start_time": "2022-12-20T08:15:28.899Z"
   },
   {
    "duration": 16,
    "start_time": "2022-12-20T08:15:54.556Z"
   },
   {
    "duration": 18,
    "start_time": "2022-12-20T08:16:29.144Z"
   },
   {
    "duration": 24,
    "start_time": "2022-12-20T08:17:50.559Z"
   },
   {
    "duration": 22,
    "start_time": "2022-12-20T08:18:17.480Z"
   },
   {
    "duration": 20,
    "start_time": "2022-12-20T08:18:23.913Z"
   },
   {
    "duration": 21,
    "start_time": "2022-12-20T08:52:58.413Z"
   },
   {
    "duration": 27,
    "start_time": "2022-12-20T08:56:42.612Z"
   },
   {
    "duration": 28,
    "start_time": "2022-12-20T08:57:41.069Z"
   },
   {
    "duration": 92,
    "start_time": "2022-12-20T08:57:50.487Z"
   },
   {
    "duration": 31,
    "start_time": "2022-12-20T08:57:55.564Z"
   },
   {
    "duration": 106,
    "start_time": "2022-12-20T09:08:59.675Z"
   },
   {
    "duration": 2263,
    "start_time": "2022-12-20T09:09:19.482Z"
   },
   {
    "duration": 9,
    "start_time": "2022-12-20T09:09:26.267Z"
   },
   {
    "duration": 7,
    "start_time": "2022-12-20T09:09:36.523Z"
   },
   {
    "duration": 2204,
    "start_time": "2022-12-20T10:09:22.516Z"
   },
   {
    "duration": 2065,
    "start_time": "2022-12-20T10:10:38.029Z"
   },
   {
    "duration": 17,
    "start_time": "2022-12-20T10:11:29.124Z"
   },
   {
    "duration": 6,
    "start_time": "2022-12-20T10:11:43.380Z"
   },
   {
    "duration": 6,
    "start_time": "2022-12-20T10:18:59.437Z"
   },
   {
    "duration": 8,
    "start_time": "2022-12-20T10:44:32.260Z"
   },
   {
    "duration": 9,
    "start_time": "2022-12-20T10:47:26.228Z"
   },
   {
    "duration": 2069,
    "start_time": "2022-12-20T10:47:57.252Z"
   },
   {
    "duration": 57,
    "start_time": "2022-12-20T10:48:03.596Z"
   },
   {
    "duration": 59,
    "start_time": "2022-12-20T10:49:53.027Z"
   },
   {
    "duration": 85,
    "start_time": "2022-12-20T10:51:04.170Z"
   },
   {
    "duration": 74,
    "start_time": "2022-12-20T10:51:57.074Z"
   },
   {
    "duration": 45,
    "start_time": "2022-12-20T10:53:35.450Z"
   },
   {
    "duration": 47,
    "start_time": "2022-12-20T10:53:51.010Z"
   },
   {
    "duration": 74,
    "start_time": "2022-12-20T10:55:30.842Z"
   },
   {
    "duration": 49,
    "start_time": "2022-12-20T10:55:37.882Z"
   },
   {
    "duration": 195,
    "start_time": "2022-12-20T10:55:50.850Z"
   },
   {
    "duration": 194,
    "start_time": "2022-12-20T10:56:11.593Z"
   },
   {
    "duration": 97,
    "start_time": "2022-12-20T11:03:06.093Z"
   },
   {
    "duration": 77,
    "start_time": "2022-12-20T11:39:02.286Z"
   },
   {
    "duration": 227,
    "start_time": "2022-12-20T11:39:10.916Z"
   },
   {
    "duration": 168,
    "start_time": "2022-12-20T11:40:09.652Z"
   },
   {
    "duration": 20,
    "start_time": "2022-12-20T11:40:17.156Z"
   },
   {
    "duration": 266,
    "start_time": "2022-12-20T11:40:39.540Z"
   },
   {
    "duration": 282,
    "start_time": "2022-12-20T11:41:07.563Z"
   },
   {
    "duration": 234,
    "start_time": "2022-12-20T11:42:50.619Z"
   },
   {
    "duration": 215,
    "start_time": "2022-12-20T11:42:55.301Z"
   },
   {
    "duration": 234,
    "start_time": "2022-12-20T11:42:59.651Z"
   },
   {
    "duration": 240,
    "start_time": "2022-12-20T11:43:02.955Z"
   },
   {
    "duration": 230,
    "start_time": "2022-12-20T11:43:09.412Z"
   },
   {
    "duration": 258,
    "start_time": "2022-12-20T11:44:30.947Z"
   },
   {
    "duration": 225,
    "start_time": "2022-12-20T11:48:17.458Z"
   },
   {
    "duration": 219,
    "start_time": "2022-12-20T11:48:58.268Z"
   },
   {
    "duration": 10,
    "start_time": "2022-12-20T11:50:02.275Z"
   },
   {
    "duration": 220,
    "start_time": "2022-12-20T11:50:17.531Z"
   },
   {
    "duration": 7,
    "start_time": "2022-12-20T12:22:21.299Z"
   },
   {
    "duration": 8,
    "start_time": "2022-12-20T12:22:23.439Z"
   },
   {
    "duration": 215,
    "start_time": "2022-12-20T12:22:26.305Z"
   },
   {
    "duration": 13,
    "start_time": "2022-12-20T13:03:51.246Z"
   },
   {
    "duration": 2248,
    "start_time": "2022-12-20T13:04:22.404Z"
   },
   {
    "duration": 216,
    "start_time": "2022-12-20T13:04:29.540Z"
   },
   {
    "duration": 19,
    "start_time": "2022-12-20T13:04:35.117Z"
   },
   {
    "duration": 20,
    "start_time": "2022-12-20T13:05:35.069Z"
   },
   {
    "duration": 16,
    "start_time": "2022-12-20T13:06:41.612Z"
   },
   {
    "duration": 14,
    "start_time": "2022-12-20T13:08:21.109Z"
   },
   {
    "duration": 14,
    "start_time": "2022-12-20T13:10:17.404Z"
   },
   {
    "duration": 14,
    "start_time": "2022-12-20T13:10:25.276Z"
   },
   {
    "duration": 15,
    "start_time": "2022-12-20T13:10:35.020Z"
   },
   {
    "duration": 121,
    "start_time": "2022-12-20T13:11:30.358Z"
   },
   {
    "duration": 140,
    "start_time": "2022-12-20T13:13:04.004Z"
   },
   {
    "duration": 109,
    "start_time": "2022-12-20T13:13:13.295Z"
   },
   {
    "duration": 166,
    "start_time": "2022-12-20T13:13:49.614Z"
   },
   {
    "duration": 128,
    "start_time": "2022-12-20T13:14:28.676Z"
   },
   {
    "duration": 171,
    "start_time": "2022-12-20T13:14:34.013Z"
   },
   {
    "duration": 129,
    "start_time": "2022-12-20T13:14:44.309Z"
   },
   {
    "duration": 125,
    "start_time": "2022-12-20T13:14:49.453Z"
   },
   {
    "duration": 12,
    "start_time": "2022-12-20T13:16:33.699Z"
   },
   {
    "duration": 130,
    "start_time": "2022-12-20T13:17:44.165Z"
   },
   {
    "duration": 140,
    "start_time": "2022-12-20T13:17:49.677Z"
   },
   {
    "duration": 9,
    "start_time": "2022-12-20T13:18:15.796Z"
   },
   {
    "duration": 49,
    "start_time": "2022-12-20T15:51:27.696Z"
   },
   {
    "duration": 6,
    "start_time": "2022-12-20T15:51:31.638Z"
   },
   {
    "duration": 4755,
    "start_time": "2022-12-20T15:51:33.979Z"
   },
   {
    "duration": 86,
    "start_time": "2022-12-20T15:51:38.736Z"
   },
   {
    "duration": 21,
    "start_time": "2022-12-20T15:51:38.824Z"
   },
   {
    "duration": 14,
    "start_time": "2022-12-20T15:51:38.847Z"
   },
   {
    "duration": 4,
    "start_time": "2022-12-20T15:51:38.864Z"
   },
   {
    "duration": 13,
    "start_time": "2022-12-20T15:51:38.870Z"
   },
   {
    "duration": 7,
    "start_time": "2022-12-20T15:51:38.885Z"
   },
   {
    "duration": 18,
    "start_time": "2022-12-20T15:51:38.894Z"
   },
   {
    "duration": 8,
    "start_time": "2022-12-20T15:51:38.914Z"
   },
   {
    "duration": 7,
    "start_time": "2022-12-20T15:51:38.924Z"
   },
   {
    "duration": 23,
    "start_time": "2022-12-20T15:51:38.932Z"
   },
   {
    "duration": 5,
    "start_time": "2022-12-20T15:51:38.957Z"
   },
   {
    "duration": 14,
    "start_time": "2022-12-20T15:51:38.963Z"
   },
   {
    "duration": 23,
    "start_time": "2022-12-20T15:51:38.979Z"
   },
   {
    "duration": 9,
    "start_time": "2022-12-20T15:51:39.004Z"
   },
   {
    "duration": 12,
    "start_time": "2022-12-20T15:51:39.015Z"
   },
   {
    "duration": 16,
    "start_time": "2022-12-20T15:51:39.056Z"
   },
   {
    "duration": 19,
    "start_time": "2022-12-20T15:51:39.073Z"
   },
   {
    "duration": 538,
    "start_time": "2022-12-20T15:51:39.094Z"
   },
   {
    "duration": 465,
    "start_time": "2022-12-20T15:51:39.634Z"
   },
   {
    "duration": 34165,
    "start_time": "2022-12-20T15:51:40.101Z"
   },
   {
    "duration": 9,
    "start_time": "2022-12-20T15:52:14.268Z"
   },
   {
    "duration": 8,
    "start_time": "2022-12-20T15:52:14.279Z"
   },
   {
    "duration": 30,
    "start_time": "2022-12-20T15:52:14.288Z"
   },
   {
    "duration": 36,
    "start_time": "2022-12-20T15:52:14.319Z"
   },
   {
    "duration": 14,
    "start_time": "2022-12-20T15:52:14.357Z"
   },
   {
    "duration": 823,
    "start_time": "2022-12-20T15:52:14.373Z"
   },
   {
    "duration": 273158,
    "start_time": "2022-12-20T15:52:15.198Z"
   },
   {
    "duration": 0,
    "start_time": "2022-12-20T15:56:48.358Z"
   },
   {
    "duration": 0,
    "start_time": "2022-12-20T15:56:48.359Z"
   },
   {
    "duration": 0,
    "start_time": "2022-12-20T15:56:48.360Z"
   },
   {
    "duration": 0,
    "start_time": "2022-12-20T15:56:48.362Z"
   },
   {
    "duration": 0,
    "start_time": "2022-12-20T15:56:48.363Z"
   },
   {
    "duration": 0,
    "start_time": "2022-12-20T15:56:48.364Z"
   },
   {
    "duration": 0,
    "start_time": "2022-12-20T15:56:48.365Z"
   },
   {
    "duration": 0,
    "start_time": "2022-12-20T15:56:48.367Z"
   },
   {
    "duration": 0,
    "start_time": "2022-12-20T15:56:48.368Z"
   },
   {
    "duration": 0,
    "start_time": "2022-12-20T15:56:48.369Z"
   },
   {
    "duration": 0,
    "start_time": "2022-12-20T15:56:48.370Z"
   },
   {
    "duration": 9,
    "start_time": "2022-12-20T15:57:06.861Z"
   },
   {
    "duration": 26,
    "start_time": "2022-12-20T15:57:13.836Z"
   },
   {
    "duration": 39,
    "start_time": "2022-12-20T15:57:14.553Z"
   },
   {
    "duration": 6,
    "start_time": "2022-12-20T15:57:15.333Z"
   },
   {
    "duration": 6,
    "start_time": "2022-12-20T15:57:16.188Z"
   },
   {
    "duration": 7,
    "start_time": "2022-12-20T15:57:16.838Z"
   },
   {
    "duration": 9,
    "start_time": "2022-12-20T15:57:19.088Z"
   },
   {
    "duration": 232,
    "start_time": "2022-12-20T15:57:21.111Z"
   },
   {
    "duration": 4,
    "start_time": "2022-12-20T15:57:21.535Z"
   },
   {
    "duration": 4,
    "start_time": "2022-12-20T15:57:52.021Z"
   },
   {
    "duration": 17,
    "start_time": "2022-12-20T15:59:56.701Z"
   },
   {
    "duration": 18,
    "start_time": "2022-12-20T16:00:57.688Z"
   },
   {
    "duration": 5,
    "start_time": "2022-12-20T16:02:13.775Z"
   },
   {
    "duration": 17,
    "start_time": "2022-12-20T16:02:14.314Z"
   },
   {
    "duration": 12,
    "start_time": "2022-12-20T16:03:11.986Z"
   },
   {
    "duration": 2,
    "start_time": "2022-12-20T16:03:16.409Z"
   },
   {
    "duration": 15,
    "start_time": "2022-12-20T16:03:17.356Z"
   },
   {
    "duration": 4,
    "start_time": "2022-12-20T16:03:58.473Z"
   },
   {
    "duration": 8,
    "start_time": "2022-12-20T16:04:02.598Z"
   },
   {
    "duration": 3,
    "start_time": "2022-12-20T16:05:30.763Z"
   },
   {
    "duration": 6,
    "start_time": "2022-12-20T16:05:31.351Z"
   },
   {
    "duration": 16,
    "start_time": "2022-12-20T16:06:32.597Z"
   },
   {
    "duration": 149,
    "start_time": "2022-12-20T16:06:32.937Z"
   },
   {
    "duration": 7,
    "start_time": "2022-12-20T16:07:24.982Z"
   },
   {
    "duration": 131,
    "start_time": "2022-12-20T16:07:26.042Z"
   },
   {
    "duration": 130,
    "start_time": "2022-12-20T16:07:50.792Z"
   },
   {
    "duration": 4275,
    "start_time": "2022-12-21T06:18:16.285Z"
   },
   {
    "duration": 73,
    "start_time": "2022-12-21T06:18:20.562Z"
   },
   {
    "duration": 18,
    "start_time": "2022-12-21T06:18:20.636Z"
   },
   {
    "duration": 15,
    "start_time": "2022-12-21T06:18:20.656Z"
   },
   {
    "duration": 3,
    "start_time": "2022-12-21T06:18:20.673Z"
   },
   {
    "duration": 14,
    "start_time": "2022-12-21T06:18:20.678Z"
   },
   {
    "duration": 5,
    "start_time": "2022-12-21T06:18:20.693Z"
   },
   {
    "duration": 11,
    "start_time": "2022-12-21T06:18:20.700Z"
   },
   {
    "duration": 22,
    "start_time": "2022-12-21T06:18:20.720Z"
   },
   {
    "duration": 9,
    "start_time": "2022-12-21T06:18:20.744Z"
   },
   {
    "duration": 13,
    "start_time": "2022-12-21T06:18:20.754Z"
   },
   {
    "duration": 6,
    "start_time": "2022-12-21T06:18:20.768Z"
   },
   {
    "duration": 8,
    "start_time": "2022-12-21T06:18:20.776Z"
   },
   {
    "duration": 30,
    "start_time": "2022-12-21T06:18:20.787Z"
   },
   {
    "duration": 7,
    "start_time": "2022-12-21T06:18:20.818Z"
   },
   {
    "duration": 10,
    "start_time": "2022-12-21T06:18:20.827Z"
   },
   {
    "duration": 10,
    "start_time": "2022-12-21T06:18:20.839Z"
   },
   {
    "duration": 20,
    "start_time": "2022-12-21T06:18:20.850Z"
   },
   {
    "duration": 506,
    "start_time": "2022-12-21T06:18:20.872Z"
   },
   {
    "duration": 495,
    "start_time": "2022-12-21T06:18:21.379Z"
   },
   {
    "duration": 32793,
    "start_time": "2022-12-21T06:18:21.875Z"
   },
   {
    "duration": 9,
    "start_time": "2022-12-21T06:18:54.670Z"
   },
   {
    "duration": 8,
    "start_time": "2022-12-21T06:18:54.681Z"
   },
   {
    "duration": 33,
    "start_time": "2022-12-21T06:18:54.690Z"
   },
   {
    "duration": 23,
    "start_time": "2022-12-21T06:18:54.724Z"
   },
   {
    "duration": 12,
    "start_time": "2022-12-21T06:18:54.749Z"
   },
   {
    "duration": 701,
    "start_time": "2022-12-21T06:18:54.762Z"
   },
   {
    "duration": 424740,
    "start_time": "2022-12-21T06:18:55.465Z"
   },
   {
    "duration": 267114,
    "start_time": "2022-12-21T06:26:00.207Z"
   },
   {
    "duration": 21,
    "start_time": "2022-12-21T06:30:27.323Z"
   },
   {
    "duration": 37,
    "start_time": "2022-12-21T06:30:27.346Z"
   },
   {
    "duration": 38,
    "start_time": "2022-12-21T06:30:27.384Z"
   },
   {
    "duration": 6,
    "start_time": "2022-12-21T06:30:27.424Z"
   },
   {
    "duration": 7,
    "start_time": "2022-12-21T06:30:27.431Z"
   },
   {
    "duration": 9,
    "start_time": "2022-12-21T06:30:27.439Z"
   },
   {
    "duration": 235,
    "start_time": "2022-12-21T06:30:27.449Z"
   },
   {
    "duration": 3,
    "start_time": "2022-12-21T06:30:27.686Z"
   },
   {
    "duration": 11,
    "start_time": "2022-12-21T06:30:27.691Z"
   },
   {
    "duration": 18,
    "start_time": "2022-12-21T06:30:27.704Z"
   },
   {
    "duration": 124,
    "start_time": "2022-12-21T06:30:27.723Z"
   },
   {
    "duration": 53,
    "start_time": "2022-12-21T11:34:19.580Z"
   },
   {
    "duration": 4769,
    "start_time": "2022-12-21T11:34:28.577Z"
   },
   {
    "duration": 163,
    "start_time": "2022-12-21T11:34:33.348Z"
   },
   {
    "duration": 21,
    "start_time": "2022-12-21T11:34:33.513Z"
   },
   {
    "duration": 32,
    "start_time": "2022-12-21T11:34:33.536Z"
   },
   {
    "duration": 9,
    "start_time": "2022-12-21T11:34:33.569Z"
   },
   {
    "duration": 15,
    "start_time": "2022-12-21T11:34:33.579Z"
   },
   {
    "duration": 9,
    "start_time": "2022-12-21T11:34:33.596Z"
   },
   {
    "duration": 10,
    "start_time": "2022-12-21T11:34:33.607Z"
   },
   {
    "duration": 29,
    "start_time": "2022-12-21T11:34:33.619Z"
   },
   {
    "duration": 9,
    "start_time": "2022-12-21T11:34:33.650Z"
   },
   {
    "duration": 12,
    "start_time": "2022-12-21T11:34:33.660Z"
   },
   {
    "duration": 9,
    "start_time": "2022-12-21T11:34:33.673Z"
   },
   {
    "duration": 7,
    "start_time": "2022-12-21T11:34:33.683Z"
   },
   {
    "duration": 26,
    "start_time": "2022-12-21T11:34:33.692Z"
   },
   {
    "duration": 14,
    "start_time": "2022-12-21T11:34:33.719Z"
   },
   {
    "duration": 19,
    "start_time": "2022-12-21T11:34:33.734Z"
   },
   {
    "duration": 11,
    "start_time": "2022-12-21T11:34:33.755Z"
   },
   {
    "duration": 7,
    "start_time": "2022-12-21T11:34:33.768Z"
   },
   {
    "duration": 516,
    "start_time": "2022-12-21T11:34:33.777Z"
   },
   {
    "duration": 459,
    "start_time": "2022-12-21T11:34:34.295Z"
   },
   {
    "duration": 36141,
    "start_time": "2022-12-21T11:34:34.756Z"
   },
   {
    "duration": 11,
    "start_time": "2022-12-21T11:35:10.899Z"
   },
   {
    "duration": 61,
    "start_time": "2022-12-21T11:35:10.912Z"
   },
   {
    "duration": 66,
    "start_time": "2022-12-21T11:35:10.976Z"
   },
   {
    "duration": 51,
    "start_time": "2022-12-21T11:35:11.045Z"
   },
   {
    "duration": 20,
    "start_time": "2022-12-21T11:35:11.099Z"
   },
   {
    "duration": 950,
    "start_time": "2022-12-21T11:35:11.121Z"
   },
   {
    "duration": 91064,
    "start_time": "2022-12-21T11:35:12.075Z"
   },
   {
    "duration": 0,
    "start_time": "2022-12-21T11:36:43.141Z"
   },
   {
    "duration": 0,
    "start_time": "2022-12-21T11:36:43.142Z"
   },
   {
    "duration": 0,
    "start_time": "2022-12-21T11:36:43.143Z"
   },
   {
    "duration": 0,
    "start_time": "2022-12-21T11:36:43.144Z"
   },
   {
    "duration": 0,
    "start_time": "2022-12-21T11:36:43.146Z"
   },
   {
    "duration": 0,
    "start_time": "2022-12-21T11:36:43.147Z"
   },
   {
    "duration": 0,
    "start_time": "2022-12-21T11:36:43.149Z"
   },
   {
    "duration": 0,
    "start_time": "2022-12-21T11:36:43.150Z"
   },
   {
    "duration": 0,
    "start_time": "2022-12-21T11:36:43.152Z"
   },
   {
    "duration": 0,
    "start_time": "2022-12-21T11:36:43.153Z"
   },
   {
    "duration": 0,
    "start_time": "2022-12-21T11:36:43.155Z"
   },
   {
    "duration": 0,
    "start_time": "2022-12-21T11:36:43.156Z"
   },
   {
    "duration": 2244,
    "start_time": "2022-12-21T11:38:02.880Z"
   },
   {
    "duration": 46,
    "start_time": "2022-12-21T11:38:05.127Z"
   },
   {
    "duration": 16,
    "start_time": "2022-12-21T11:38:05.175Z"
   },
   {
    "duration": 56,
    "start_time": "2022-12-21T11:38:05.194Z"
   },
   {
    "duration": 4,
    "start_time": "2022-12-21T11:38:05.252Z"
   },
   {
    "duration": 26,
    "start_time": "2022-12-21T11:38:05.258Z"
   },
   {
    "duration": 10,
    "start_time": "2022-12-21T11:38:05.285Z"
   },
   {
    "duration": 34,
    "start_time": "2022-12-21T11:38:05.297Z"
   },
   {
    "duration": 26,
    "start_time": "2022-12-21T11:38:05.333Z"
   },
   {
    "duration": 22,
    "start_time": "2022-12-21T11:38:05.361Z"
   },
   {
    "duration": 21,
    "start_time": "2022-12-21T11:38:05.385Z"
   },
   {
    "duration": 45,
    "start_time": "2022-12-21T11:38:05.407Z"
   },
   {
    "duration": 12,
    "start_time": "2022-12-21T11:38:05.454Z"
   },
   {
    "duration": 26,
    "start_time": "2022-12-21T11:38:05.468Z"
   },
   {
    "duration": 23,
    "start_time": "2022-12-21T11:38:05.495Z"
   },
   {
    "duration": 38,
    "start_time": "2022-12-21T11:38:05.521Z"
   },
   {
    "duration": 34,
    "start_time": "2022-12-21T11:38:05.561Z"
   },
   {
    "duration": 54,
    "start_time": "2022-12-21T11:38:05.596Z"
   },
   {
    "duration": 483,
    "start_time": "2022-12-21T11:38:05.651Z"
   },
   {
    "duration": 409,
    "start_time": "2022-12-21T11:38:06.136Z"
   },
   {
    "duration": 34766,
    "start_time": "2022-12-21T11:38:06.547Z"
   },
   {
    "duration": 19,
    "start_time": "2022-12-21T11:38:41.315Z"
   },
   {
    "duration": 17,
    "start_time": "2022-12-21T11:38:41.336Z"
   },
   {
    "duration": 43,
    "start_time": "2022-12-21T11:38:41.354Z"
   },
   {
    "duration": 33,
    "start_time": "2022-12-21T11:38:41.399Z"
   },
   {
    "duration": 13,
    "start_time": "2022-12-21T11:38:41.434Z"
   },
   {
    "duration": 175,
    "start_time": "2022-12-21T11:38:41.449Z"
   },
   {
    "duration": 1210,
    "start_time": "2022-12-21T11:38:41.628Z"
   },
   {
    "duration": 42496,
    "start_time": "2022-12-21T11:38:42.839Z"
   },
   {
    "duration": 111,
    "start_time": "2022-12-21T11:39:25.337Z"
   },
   {
    "duration": 71,
    "start_time": "2022-12-21T11:39:25.450Z"
   },
   {
    "duration": 9,
    "start_time": "2022-12-21T11:39:25.523Z"
   },
   {
    "duration": 11,
    "start_time": "2022-12-21T11:39:25.534Z"
   },
   {
    "duration": 7,
    "start_time": "2022-12-21T11:39:25.546Z"
   },
   {
    "duration": 11,
    "start_time": "2022-12-21T11:39:25.554Z"
   },
   {
    "duration": 260,
    "start_time": "2022-12-21T11:39:25.566Z"
   },
   {
    "duration": 3,
    "start_time": "2022-12-21T11:39:25.829Z"
   },
   {
    "duration": 16,
    "start_time": "2022-12-21T11:39:25.833Z"
   },
   {
    "duration": 18,
    "start_time": "2022-12-21T11:39:25.850Z"
   },
   {
    "duration": 127,
    "start_time": "2022-12-21T11:39:25.870Z"
   },
   {
    "duration": 4,
    "start_time": "2022-12-21T11:41:01.492Z"
   },
   {
    "duration": 8,
    "start_time": "2022-12-21T11:41:02.096Z"
   },
   {
    "duration": 9,
    "start_time": "2022-12-21T11:41:31.680Z"
   },
   {
    "duration": 12,
    "start_time": "2022-12-21T11:41:32.468Z"
   },
   {
    "duration": 197,
    "start_time": "2022-12-21T11:41:33.568Z"
   },
   {
    "duration": 3,
    "start_time": "2022-12-21T11:44:45.479Z"
   },
   {
    "duration": 7,
    "start_time": "2022-12-21T11:44:45.960Z"
   },
   {
    "duration": 3,
    "start_time": "2022-12-21T11:44:55.658Z"
   },
   {
    "duration": 7,
    "start_time": "2022-12-21T11:44:56.199Z"
   },
   {
    "duration": 13,
    "start_time": "2022-12-21T11:44:57.018Z"
   },
   {
    "duration": 121,
    "start_time": "2022-12-21T11:44:57.543Z"
   },
   {
    "duration": 31,
    "start_time": "2022-12-21T11:52:09.007Z"
   },
   {
    "duration": 4,
    "start_time": "2022-12-21T11:52:10.076Z"
   },
   {
    "duration": 32,
    "start_time": "2022-12-21T11:53:10.744Z"
   },
   {
    "duration": 5,
    "start_time": "2022-12-21T11:53:12.407Z"
   },
   {
    "duration": 593,
    "start_time": "2022-12-21T11:54:20.381Z"
   },
   {
    "duration": 175,
    "start_time": "2022-12-21T11:57:13.949Z"
   },
   {
    "duration": 184,
    "start_time": "2022-12-21T11:58:25.259Z"
   },
   {
    "duration": 222,
    "start_time": "2022-12-21T11:59:15.998Z"
   },
   {
    "duration": 212,
    "start_time": "2022-12-21T11:59:58.149Z"
   },
   {
    "duration": 2604,
    "start_time": "2022-12-21T12:00:39.578Z"
   },
   {
    "duration": 54,
    "start_time": "2022-12-21T12:00:42.185Z"
   },
   {
    "duration": 19,
    "start_time": "2022-12-21T12:00:42.245Z"
   },
   {
    "duration": 31,
    "start_time": "2022-12-21T12:00:42.266Z"
   },
   {
    "duration": 4,
    "start_time": "2022-12-21T12:00:42.300Z"
   },
   {
    "duration": 47,
    "start_time": "2022-12-21T12:00:42.306Z"
   },
   {
    "duration": 6,
    "start_time": "2022-12-21T12:00:42.355Z"
   },
   {
    "duration": 12,
    "start_time": "2022-12-21T12:00:42.363Z"
   },
   {
    "duration": 15,
    "start_time": "2022-12-21T12:00:42.378Z"
   },
   {
    "duration": 4,
    "start_time": "2022-12-21T12:00:42.395Z"
   },
   {
    "duration": 6,
    "start_time": "2022-12-21T12:00:42.401Z"
   },
   {
    "duration": 36,
    "start_time": "2022-12-21T12:00:42.409Z"
   },
   {
    "duration": 5,
    "start_time": "2022-12-21T12:00:42.447Z"
   },
   {
    "duration": 25,
    "start_time": "2022-12-21T12:00:42.458Z"
   },
   {
    "duration": 12,
    "start_time": "2022-12-21T12:00:42.485Z"
   },
   {
    "duration": 28,
    "start_time": "2022-12-21T12:00:42.500Z"
   },
   {
    "duration": 28,
    "start_time": "2022-12-21T12:00:42.529Z"
   },
   {
    "duration": 7,
    "start_time": "2022-12-21T12:00:42.559Z"
   },
   {
    "duration": 685,
    "start_time": "2022-12-21T12:00:42.568Z"
   },
   {
    "duration": 484,
    "start_time": "2022-12-21T12:00:43.255Z"
   },
   {
    "duration": 45527,
    "start_time": "2022-12-21T12:00:43.742Z"
   },
   {
    "duration": 14,
    "start_time": "2022-12-21T12:01:29.270Z"
   },
   {
    "duration": 16,
    "start_time": "2022-12-21T12:01:29.287Z"
   },
   {
    "duration": 47,
    "start_time": "2022-12-21T12:01:29.305Z"
   },
   {
    "duration": 34,
    "start_time": "2022-12-21T12:01:29.354Z"
   },
   {
    "duration": 38,
    "start_time": "2022-12-21T12:01:29.389Z"
   },
   {
    "duration": 204,
    "start_time": "2022-12-21T12:01:29.435Z"
   },
   {
    "duration": 1596,
    "start_time": "2022-12-21T12:01:29.641Z"
   },
   {
    "duration": 55697,
    "start_time": "2022-12-21T12:01:31.238Z"
   },
   {
    "duration": 107,
    "start_time": "2022-12-21T12:02:26.937Z"
   },
   {
    "duration": 35,
    "start_time": "2022-12-21T12:02:27.046Z"
   },
   {
    "duration": 6,
    "start_time": "2022-12-21T12:02:27.083Z"
   },
   {
    "duration": 28,
    "start_time": "2022-12-21T12:02:27.091Z"
   },
   {
    "duration": 20,
    "start_time": "2022-12-21T12:02:27.128Z"
   },
   {
    "duration": 14,
    "start_time": "2022-12-21T12:02:27.150Z"
   },
   {
    "duration": 282,
    "start_time": "2022-12-21T12:02:27.165Z"
   },
   {
    "duration": 3,
    "start_time": "2022-12-21T12:02:27.449Z"
   },
   {
    "duration": 13,
    "start_time": "2022-12-21T12:02:27.454Z"
   },
   {
    "duration": 9,
    "start_time": "2022-12-21T12:02:27.469Z"
   },
   {
    "duration": 168,
    "start_time": "2022-12-21T12:02:27.479Z"
   },
   {
    "duration": 167,
    "start_time": "2022-12-21T12:02:27.650Z"
   },
   {
    "duration": 169,
    "start_time": "2022-12-21T12:06:33.566Z"
   },
   {
    "duration": 8,
    "start_time": "2022-12-21T12:08:31.399Z"
   },
   {
    "duration": 15,
    "start_time": "2022-12-21T12:10:02.512Z"
   },
   {
    "duration": 135,
    "start_time": "2022-12-21T12:10:46.368Z"
   },
   {
    "duration": 175,
    "start_time": "2022-12-21T12:14:50.171Z"
   },
   {
    "duration": 167,
    "start_time": "2022-12-21T12:15:05.367Z"
   },
   {
    "duration": 13,
    "start_time": "2022-12-21T12:15:09.667Z"
   },
   {
    "duration": 156,
    "start_time": "2022-12-21T12:15:10.568Z"
   },
   {
    "duration": 39,
    "start_time": "2022-12-21T12:27:50.893Z"
   },
   {
    "duration": 3409,
    "start_time": "2022-12-21T12:28:27.526Z"
   },
   {
    "duration": 24,
    "start_time": "2022-12-21T12:28:37.650Z"
   },
   {
    "duration": 15,
    "start_time": "2022-12-21T12:29:14.490Z"
   },
   {
    "duration": 2620,
    "start_time": "2022-12-21T12:32:38.970Z"
   },
   {
    "duration": 73,
    "start_time": "2022-12-21T12:43:26.682Z"
   },
   {
    "duration": 93,
    "start_time": "2022-12-21T12:43:37.357Z"
   },
   {
    "duration": 73,
    "start_time": "2022-12-21T12:43:48.859Z"
   },
   {
    "duration": 18,
    "start_time": "2022-12-21T12:44:23.958Z"
   },
   {
    "duration": 2676,
    "start_time": "2022-12-21T12:44:34.113Z"
   },
   {
    "duration": 19,
    "start_time": "2022-12-21T12:44:42.149Z"
   },
   {
    "duration": 13,
    "start_time": "2022-12-21T12:46:21.554Z"
   },
   {
    "duration": 14,
    "start_time": "2022-12-21T12:47:07.218Z"
   },
   {
    "duration": 14,
    "start_time": "2022-12-21T12:47:20.171Z"
   },
   {
    "duration": 15,
    "start_time": "2022-12-21T12:47:49.282Z"
   },
   {
    "duration": 28,
    "start_time": "2022-12-21T12:48:09.097Z"
   },
   {
    "duration": 26,
    "start_time": "2022-12-21T12:52:24.452Z"
   },
   {
    "duration": 25,
    "start_time": "2022-12-21T12:52:37.153Z"
   },
   {
    "duration": 20343,
    "start_time": "2022-12-21T12:53:04.314Z"
   },
   {
    "duration": 17,
    "start_time": "2022-12-21T13:04:00.073Z"
   },
   {
    "duration": 8,
    "start_time": "2022-12-21T13:05:08.994Z"
   },
   {
    "duration": 7,
    "start_time": "2022-12-21T13:06:04.460Z"
   },
   {
    "duration": 8,
    "start_time": "2022-12-21T13:06:31.054Z"
   },
   {
    "duration": 20,
    "start_time": "2022-12-21T13:07:19.841Z"
   },
   {
    "duration": 7,
    "start_time": "2022-12-21T13:07:20.794Z"
   },
   {
    "duration": 8,
    "start_time": "2022-12-21T13:07:21.585Z"
   },
   {
    "duration": 6,
    "start_time": "2022-12-21T13:07:22.010Z"
   },
   {
    "duration": 19,
    "start_time": "2022-12-21T13:07:40.789Z"
   },
   {
    "duration": 7,
    "start_time": "2022-12-21T13:07:44.707Z"
   },
   {
    "duration": 7,
    "start_time": "2022-12-21T13:07:56.490Z"
   },
   {
    "duration": 7,
    "start_time": "2022-12-21T13:07:57.722Z"
   },
   {
    "duration": 7,
    "start_time": "2022-12-21T13:07:58.282Z"
   },
   {
    "duration": 26,
    "start_time": "2022-12-21T13:13:05.649Z"
   },
   {
    "duration": 6,
    "start_time": "2022-12-21T13:13:06.652Z"
   },
   {
    "duration": 7,
    "start_time": "2022-12-21T13:13:08.858Z"
   },
   {
    "duration": 6,
    "start_time": "2022-12-21T13:13:09.444Z"
   },
   {
    "duration": 20,
    "start_time": "2022-12-21T13:13:41.467Z"
   },
   {
    "duration": 7,
    "start_time": "2022-12-21T13:13:42.466Z"
   },
   {
    "duration": 8,
    "start_time": "2022-12-21T13:13:43.106Z"
   },
   {
    "duration": 8,
    "start_time": "2022-12-21T13:13:43.306Z"
   },
   {
    "duration": 8,
    "start_time": "2022-12-21T13:14:09.515Z"
   },
   {
    "duration": 8,
    "start_time": "2022-12-21T13:16:11.352Z"
   },
   {
    "duration": 7,
    "start_time": "2022-12-21T13:18:58.468Z"
   },
   {
    "duration": 117,
    "start_time": "2022-12-21T13:19:09.509Z"
   },
   {
    "duration": 106,
    "start_time": "2022-12-21T13:19:32.609Z"
   },
   {
    "duration": 165,
    "start_time": "2022-12-21T13:27:17.365Z"
   },
   {
    "duration": 8,
    "start_time": "2022-12-21T13:29:01.515Z"
   },
   {
    "duration": 7,
    "start_time": "2022-12-21T13:29:37.250Z"
   },
   {
    "duration": 8,
    "start_time": "2022-12-21T13:29:39.571Z"
   },
   {
    "duration": 7,
    "start_time": "2022-12-21T13:29:40.780Z"
   },
   {
    "duration": 11,
    "start_time": "2022-12-21T13:39:33.298Z"
   },
   {
    "duration": 16,
    "start_time": "2022-12-21T13:40:27.178Z"
   },
   {
    "duration": 25581,
    "start_time": "2022-12-21T13:40:27.978Z"
   },
   {
    "duration": 24,
    "start_time": "2022-12-21T13:40:58.134Z"
   },
   {
    "duration": 8,
    "start_time": "2022-12-21T13:40:59.418Z"
   },
   {
    "duration": 11,
    "start_time": "2022-12-21T13:41:00.315Z"
   },
   {
    "duration": 8,
    "start_time": "2022-12-21T13:41:01.094Z"
   },
   {
    "duration": 168,
    "start_time": "2022-12-21T13:41:01.899Z"
   },
   {
    "duration": 8,
    "start_time": "2022-12-21T13:41:04.838Z"
   },
   {
    "duration": 8,
    "start_time": "2022-12-21T13:41:05.354Z"
   },
   {
    "duration": 19,
    "start_time": "2022-12-21T13:42:01.338Z"
   },
   {
    "duration": 9,
    "start_time": "2022-12-21T13:42:02.673Z"
   },
   {
    "duration": 8,
    "start_time": "2022-12-21T13:42:03.561Z"
   },
   {
    "duration": 7,
    "start_time": "2022-12-21T13:42:03.934Z"
   },
   {
    "duration": 137,
    "start_time": "2022-12-21T13:42:09.354Z"
   },
   {
    "duration": 7,
    "start_time": "2022-12-21T13:42:11.737Z"
   },
   {
    "duration": 7,
    "start_time": "2022-12-21T13:42:12.153Z"
   },
   {
    "duration": 10,
    "start_time": "2022-12-21T13:43:22.576Z"
   },
   {
    "duration": 15,
    "start_time": "2022-12-21T13:43:22.873Z"
   },
   {
    "duration": 1882,
    "start_time": "2022-12-21T13:45:24.581Z"
   },
   {
    "duration": 48,
    "start_time": "2022-12-21T13:45:26.465Z"
   },
   {
    "duration": 17,
    "start_time": "2022-12-21T13:45:26.515Z"
   },
   {
    "duration": 14,
    "start_time": "2022-12-21T13:45:26.534Z"
   },
   {
    "duration": 4,
    "start_time": "2022-12-21T13:45:26.550Z"
   },
   {
    "duration": 10,
    "start_time": "2022-12-21T13:45:26.556Z"
   },
   {
    "duration": 5,
    "start_time": "2022-12-21T13:45:26.568Z"
   },
   {
    "duration": 10,
    "start_time": "2022-12-21T13:45:26.574Z"
   },
   {
    "duration": 8,
    "start_time": "2022-12-21T13:45:26.612Z"
   },
   {
    "duration": 3,
    "start_time": "2022-12-21T13:45:26.623Z"
   },
   {
    "duration": 10,
    "start_time": "2022-12-21T13:45:26.628Z"
   },
   {
    "duration": 21,
    "start_time": "2022-12-21T13:45:26.639Z"
   },
   {
    "duration": 10,
    "start_time": "2022-12-21T13:45:26.661Z"
   },
   {
    "duration": 24,
    "start_time": "2022-12-21T13:45:26.673Z"
   },
   {
    "duration": 16,
    "start_time": "2022-12-21T13:45:26.699Z"
   },
   {
    "duration": 11,
    "start_time": "2022-12-21T13:45:26.717Z"
   },
   {
    "duration": 11,
    "start_time": "2022-12-21T13:45:26.730Z"
   },
   {
    "duration": 31,
    "start_time": "2022-12-21T13:45:26.742Z"
   },
   {
    "duration": 491,
    "start_time": "2022-12-21T13:45:26.775Z"
   },
   {
    "duration": 441,
    "start_time": "2022-12-21T13:45:27.268Z"
   },
   {
    "duration": 32602,
    "start_time": "2022-12-21T13:45:27.712Z"
   },
   {
    "duration": 10,
    "start_time": "2022-12-21T13:46:00.316Z"
   },
   {
    "duration": 73,
    "start_time": "2022-12-21T13:46:00.333Z"
   },
   {
    "duration": 98,
    "start_time": "2022-12-21T13:46:00.408Z"
   },
   {
    "duration": 50,
    "start_time": "2022-12-21T13:46:00.508Z"
   },
   {
    "duration": 25,
    "start_time": "2022-12-21T13:46:00.561Z"
   },
   {
    "duration": 176,
    "start_time": "2022-12-21T13:46:00.588Z"
   },
   {
    "duration": 1181,
    "start_time": "2022-12-21T13:46:00.767Z"
   },
   {
    "duration": 16671,
    "start_time": "2022-12-21T13:46:01.950Z"
   },
   {
    "duration": 107,
    "start_time": "2022-12-21T13:46:18.626Z"
   },
   {
    "duration": 30,
    "start_time": "2022-12-21T13:46:18.734Z"
   },
   {
    "duration": 7,
    "start_time": "2022-12-21T13:46:18.765Z"
   },
   {
    "duration": 7,
    "start_time": "2022-12-21T13:46:18.812Z"
   },
   {
    "duration": 7,
    "start_time": "2022-12-21T13:46:18.820Z"
   },
   {
    "duration": 8,
    "start_time": "2022-12-21T13:46:18.828Z"
   },
   {
    "duration": 308,
    "start_time": "2022-12-21T13:46:18.838Z"
   },
   {
    "duration": 5,
    "start_time": "2022-12-21T13:46:19.148Z"
   },
   {
    "duration": 13,
    "start_time": "2022-12-21T13:46:19.155Z"
   },
   {
    "duration": 13,
    "start_time": "2022-12-21T13:46:19.170Z"
   },
   {
    "duration": 162,
    "start_time": "2022-12-21T13:46:19.186Z"
   },
   {
    "duration": 175,
    "start_time": "2022-12-21T13:46:19.349Z"
   },
   {
    "duration": 10,
    "start_time": "2022-12-21T13:46:19.526Z"
   },
   {
    "duration": 169,
    "start_time": "2022-12-21T13:46:19.538Z"
   },
   {
    "duration": 11,
    "start_time": "2022-12-21T13:46:19.709Z"
   },
   {
    "duration": 24,
    "start_time": "2022-12-21T13:46:19.722Z"
   },
   {
    "duration": 22969,
    "start_time": "2022-12-21T13:46:19.748Z"
   },
   {
    "duration": 22,
    "start_time": "2022-12-21T13:46:42.719Z"
   },
   {
    "duration": 7,
    "start_time": "2022-12-21T13:46:42.743Z"
   },
   {
    "duration": 8,
    "start_time": "2022-12-21T13:46:42.754Z"
   },
   {
    "duration": 14,
    "start_time": "2022-12-21T13:46:42.764Z"
   },
   {
    "duration": 146,
    "start_time": "2022-12-21T13:46:42.780Z"
   },
   {
    "duration": 8,
    "start_time": "2022-12-21T13:46:42.928Z"
   },
   {
    "duration": 19,
    "start_time": "2022-12-21T13:46:42.938Z"
   },
   {
    "duration": 7,
    "start_time": "2022-12-21T13:49:19.443Z"
   },
   {
    "duration": 133,
    "start_time": "2022-12-21T13:49:21.804Z"
   },
   {
    "duration": 8,
    "start_time": "2022-12-21T13:49:25.045Z"
   },
   {
    "duration": 7,
    "start_time": "2022-12-21T13:49:25.602Z"
   },
   {
    "duration": 5093,
    "start_time": "2022-12-22T05:58:34.069Z"
   },
   {
    "duration": 167,
    "start_time": "2022-12-22T05:58:39.164Z"
   },
   {
    "duration": 19,
    "start_time": "2022-12-22T05:58:39.333Z"
   },
   {
    "duration": 17,
    "start_time": "2022-12-22T05:58:39.354Z"
   },
   {
    "duration": 24,
    "start_time": "2022-12-22T05:58:39.374Z"
   },
   {
    "duration": 26,
    "start_time": "2022-12-22T05:58:39.399Z"
   },
   {
    "duration": 29,
    "start_time": "2022-12-22T05:58:39.427Z"
   },
   {
    "duration": 45,
    "start_time": "2022-12-22T05:58:39.458Z"
   },
   {
    "duration": 31,
    "start_time": "2022-12-22T05:58:39.505Z"
   },
   {
    "duration": 20,
    "start_time": "2022-12-22T05:58:39.538Z"
   },
   {
    "duration": 29,
    "start_time": "2022-12-22T05:58:39.559Z"
   },
   {
    "duration": 23,
    "start_time": "2022-12-22T05:58:39.590Z"
   },
   {
    "duration": 22,
    "start_time": "2022-12-22T05:58:39.615Z"
   },
   {
    "duration": 67,
    "start_time": "2022-12-22T05:58:39.641Z"
   },
   {
    "duration": 8,
    "start_time": "2022-12-22T05:58:39.711Z"
   },
   {
    "duration": 30,
    "start_time": "2022-12-22T05:58:39.721Z"
   },
   {
    "duration": 32,
    "start_time": "2022-12-22T05:58:39.753Z"
   },
   {
    "duration": 34,
    "start_time": "2022-12-22T05:58:39.787Z"
   },
   {
    "duration": 640,
    "start_time": "2022-12-22T05:58:39.823Z"
   },
   {
    "duration": 479,
    "start_time": "2022-12-22T05:58:40.465Z"
   },
   {
    "duration": 38983,
    "start_time": "2022-12-22T05:58:40.947Z"
   },
   {
    "duration": 11,
    "start_time": "2022-12-22T05:59:19.933Z"
   },
   {
    "duration": 7,
    "start_time": "2022-12-22T05:59:19.946Z"
   },
   {
    "duration": 44,
    "start_time": "2022-12-22T05:59:19.955Z"
   },
   {
    "duration": 29,
    "start_time": "2022-12-22T05:59:20.001Z"
   },
   {
    "duration": 22,
    "start_time": "2022-12-22T05:59:20.032Z"
   },
   {
    "duration": 199,
    "start_time": "2022-12-22T05:59:20.056Z"
   },
   {
    "duration": 1207,
    "start_time": "2022-12-22T05:59:20.256Z"
   },
   {
    "duration": 27462,
    "start_time": "2022-12-22T05:59:21.465Z"
   },
   {
    "duration": 101,
    "start_time": "2022-12-22T05:59:48.929Z"
   },
   {
    "duration": 87,
    "start_time": "2022-12-22T05:59:49.032Z"
   },
   {
    "duration": 8,
    "start_time": "2022-12-22T05:59:49.123Z"
   },
   {
    "duration": 18,
    "start_time": "2022-12-22T05:59:49.133Z"
   },
   {
    "duration": 12,
    "start_time": "2022-12-22T05:59:49.153Z"
   },
   {
    "duration": 12,
    "start_time": "2022-12-22T05:59:49.167Z"
   },
   {
    "duration": 265,
    "start_time": "2022-12-22T05:59:49.204Z"
   },
   {
    "duration": 3,
    "start_time": "2022-12-22T05:59:49.471Z"
   },
   {
    "duration": 11,
    "start_time": "2022-12-22T05:59:49.475Z"
   },
   {
    "duration": 20,
    "start_time": "2022-12-22T05:59:49.488Z"
   },
   {
    "duration": 195,
    "start_time": "2022-12-22T05:59:49.510Z"
   },
   {
    "duration": 181,
    "start_time": "2022-12-22T05:59:49.708Z"
   },
   {
    "duration": 21,
    "start_time": "2022-12-22T05:59:49.892Z"
   },
   {
    "duration": 154,
    "start_time": "2022-12-22T05:59:49.916Z"
   },
   {
    "duration": 12,
    "start_time": "2022-12-22T05:59:50.071Z"
   },
   {
    "duration": 39,
    "start_time": "2022-12-22T05:59:50.085Z"
   },
   {
    "duration": 25161,
    "start_time": "2022-12-22T05:59:50.126Z"
   },
   {
    "duration": 33,
    "start_time": "2022-12-22T06:00:15.289Z"
   },
   {
    "duration": 8,
    "start_time": "2022-12-22T06:00:15.324Z"
   },
   {
    "duration": 8,
    "start_time": "2022-12-22T06:00:15.334Z"
   },
   {
    "duration": 13,
    "start_time": "2022-12-22T06:00:15.344Z"
   },
   {
    "duration": 170,
    "start_time": "2022-12-22T06:00:15.360Z"
   },
   {
    "duration": 134,
    "start_time": "2022-12-22T06:16:45.235Z"
   },
   {
    "duration": 13,
    "start_time": "2022-12-22T06:45:07.663Z"
   },
   {
    "duration": 2398,
    "start_time": "2022-12-22T06:56:19.044Z"
   },
   {
    "duration": 42,
    "start_time": "2022-12-22T06:56:21.445Z"
   },
   {
    "duration": 18,
    "start_time": "2022-12-22T06:56:21.489Z"
   },
   {
    "duration": 17,
    "start_time": "2022-12-22T06:56:21.509Z"
   },
   {
    "duration": 5,
    "start_time": "2022-12-22T06:56:21.529Z"
   },
   {
    "duration": 12,
    "start_time": "2022-12-22T06:56:21.535Z"
   },
   {
    "duration": 6,
    "start_time": "2022-12-22T06:56:21.549Z"
   },
   {
    "duration": 10,
    "start_time": "2022-12-22T06:56:21.557Z"
   },
   {
    "duration": 41,
    "start_time": "2022-12-22T06:56:21.569Z"
   },
   {
    "duration": 8,
    "start_time": "2022-12-22T06:56:21.612Z"
   },
   {
    "duration": 11,
    "start_time": "2022-12-22T06:56:21.622Z"
   },
   {
    "duration": 9,
    "start_time": "2022-12-22T06:56:21.634Z"
   },
   {
    "duration": 22,
    "start_time": "2022-12-22T06:56:21.645Z"
   },
   {
    "duration": 40,
    "start_time": "2022-12-22T06:56:21.673Z"
   },
   {
    "duration": 11,
    "start_time": "2022-12-22T06:56:21.715Z"
   },
   {
    "duration": 16,
    "start_time": "2022-12-22T06:56:21.727Z"
   },
   {
    "duration": 11,
    "start_time": "2022-12-22T06:56:21.744Z"
   },
   {
    "duration": 8,
    "start_time": "2022-12-22T06:56:21.757Z"
   },
   {
    "duration": 587,
    "start_time": "2022-12-22T06:56:21.767Z"
   },
   {
    "duration": 507,
    "start_time": "2022-12-22T06:56:22.356Z"
   },
   {
    "duration": 38749,
    "start_time": "2022-12-22T06:56:22.864Z"
   },
   {
    "duration": 13,
    "start_time": "2022-12-22T06:57:01.615Z"
   },
   {
    "duration": 52,
    "start_time": "2022-12-22T06:57:01.630Z"
   },
   {
    "duration": 78,
    "start_time": "2022-12-22T06:57:01.685Z"
   },
   {
    "duration": 27,
    "start_time": "2022-12-22T06:57:01.765Z"
   },
   {
    "duration": 25,
    "start_time": "2022-12-22T06:57:01.794Z"
   },
   {
    "duration": 267,
    "start_time": "2022-12-22T06:57:01.821Z"
   },
   {
    "duration": 1306,
    "start_time": "2022-12-22T06:57:02.090Z"
   },
   {
    "duration": 75718,
    "start_time": "2022-12-22T06:57:03.404Z"
   },
   {
    "duration": 102,
    "start_time": "2022-12-22T06:58:19.127Z"
   },
   {
    "duration": 86,
    "start_time": "2022-12-22T06:58:19.230Z"
   },
   {
    "duration": 9,
    "start_time": "2022-12-22T06:58:19.317Z"
   },
   {
    "duration": 15,
    "start_time": "2022-12-22T06:58:19.328Z"
   },
   {
    "duration": 15,
    "start_time": "2022-12-22T06:58:19.344Z"
   },
   {
    "duration": 13,
    "start_time": "2022-12-22T06:58:19.361Z"
   },
   {
    "duration": 277,
    "start_time": "2022-12-22T06:58:19.375Z"
   },
   {
    "duration": 2,
    "start_time": "2022-12-22T06:58:19.654Z"
   },
   {
    "duration": 11,
    "start_time": "2022-12-22T06:58:19.658Z"
   },
   {
    "duration": 7,
    "start_time": "2022-12-22T06:58:19.671Z"
   },
   {
    "duration": 171,
    "start_time": "2022-12-22T06:58:19.679Z"
   },
   {
    "duration": 202,
    "start_time": "2022-12-22T06:58:19.853Z"
   },
   {
    "duration": 15,
    "start_time": "2022-12-22T06:58:20.057Z"
   },
   {
    "duration": 187,
    "start_time": "2022-12-22T06:58:20.074Z"
   },
   {
    "duration": 8,
    "start_time": "2022-12-22T06:58:20.263Z"
   },
   {
    "duration": 17,
    "start_time": "2022-12-22T06:58:20.273Z"
   },
   {
    "duration": 25460,
    "start_time": "2022-12-22T06:58:20.306Z"
   },
   {
    "duration": 39,
    "start_time": "2022-12-22T06:58:45.768Z"
   },
   {
    "duration": 13,
    "start_time": "2022-12-22T06:58:45.809Z"
   },
   {
    "duration": 16,
    "start_time": "2022-12-22T06:58:45.824Z"
   },
   {
    "duration": 10,
    "start_time": "2022-12-22T06:58:45.842Z"
   },
   {
    "duration": 153,
    "start_time": "2022-12-22T06:58:45.853Z"
   },
   {
    "duration": 69133,
    "start_time": "2022-12-22T06:58:46.008Z"
   },
   {
    "duration": 71389,
    "start_time": "2022-12-22T07:00:09.736Z"
   },
   {
    "duration": 12,
    "start_time": "2022-12-22T07:02:14.902Z"
   },
   {
    "duration": 18,
    "start_time": "2022-12-22T07:02:30.151Z"
   },
   {
    "duration": 13,
    "start_time": "2022-12-22T07:02:51.904Z"
   },
   {
    "duration": 9,
    "start_time": "2022-12-22T07:03:04.062Z"
   },
   {
    "duration": 9,
    "start_time": "2022-12-22T07:05:12.039Z"
   },
   {
    "duration": 8,
    "start_time": "2022-12-22T07:05:14.336Z"
   },
   {
    "duration": 9,
    "start_time": "2022-12-22T07:05:52.749Z"
   },
   {
    "duration": 36,
    "start_time": "2022-12-22T07:05:55.454Z"
   },
   {
    "duration": 7,
    "start_time": "2022-12-22T07:05:56.431Z"
   },
   {
    "duration": 6,
    "start_time": "2022-12-22T07:06:08.671Z"
   },
   {
    "duration": 45,
    "start_time": "2022-12-22T07:13:37.925Z"
   },
   {
    "duration": 12,
    "start_time": "2022-12-22T07:14:57.832Z"
   },
   {
    "duration": 7,
    "start_time": "2022-12-22T07:15:41.536Z"
   },
   {
    "duration": 156,
    "start_time": "2022-12-22T07:17:18.838Z"
   },
   {
    "duration": 13,
    "start_time": "2022-12-22T07:24:01.104Z"
   },
   {
    "duration": 6,
    "start_time": "2022-12-22T07:24:53.713Z"
   },
   {
    "duration": 14,
    "start_time": "2022-12-22T07:25:09.290Z"
   },
   {
    "duration": 10,
    "start_time": "2022-12-22T07:27:54.033Z"
   },
   {
    "duration": 149,
    "start_time": "2022-12-22T07:29:42.831Z"
   },
   {
    "duration": 1705,
    "start_time": "2022-12-23T12:55:54.713Z"
   },
   {
    "duration": 3026,
    "start_time": "2022-12-23T12:55:56.420Z"
   },
   {
    "duration": 24,
    "start_time": "2022-12-23T12:56:02.013Z"
   },
   {
    "duration": 2087,
    "start_time": "2022-12-23T12:56:44.240Z"
   },
   {
    "duration": 9,
    "start_time": "2022-12-23T12:56:46.330Z"
   },
   {
    "duration": 62,
    "start_time": "2022-12-23T12:58:19.858Z"
   },
   {
    "duration": 5,
    "start_time": "2022-12-23T12:58:51.521Z"
   },
   {
    "duration": 4,
    "start_time": "2022-12-23T12:58:54.576Z"
   },
   {
    "duration": 48,
    "start_time": "2022-12-23T12:59:41.909Z"
   },
   {
    "duration": 5,
    "start_time": "2022-12-23T12:59:48.131Z"
   },
   {
    "duration": 1992,
    "start_time": "2022-12-23T12:59:51.019Z"
   },
   {
    "duration": 5,
    "start_time": "2022-12-23T12:59:53.014Z"
   },
   {
    "duration": 95,
    "start_time": "2022-12-23T12:59:53.021Z"
   },
   {
    "duration": 21,
    "start_time": "2022-12-23T12:59:53.118Z"
   },
   {
    "duration": 34,
    "start_time": "2022-12-23T12:59:53.140Z"
   },
   {
    "duration": 28,
    "start_time": "2022-12-23T12:59:53.176Z"
   },
   {
    "duration": 49,
    "start_time": "2022-12-23T12:59:53.206Z"
   },
   {
    "duration": 59,
    "start_time": "2022-12-23T12:59:53.257Z"
   },
   {
    "duration": 21,
    "start_time": "2022-12-23T12:59:53.318Z"
   },
   {
    "duration": 29,
    "start_time": "2022-12-23T12:59:53.341Z"
   },
   {
    "duration": 27,
    "start_time": "2022-12-23T12:59:53.372Z"
   },
   {
    "duration": 29,
    "start_time": "2022-12-23T12:59:53.401Z"
   },
   {
    "duration": 50,
    "start_time": "2022-12-23T12:59:53.432Z"
   },
   {
    "duration": 88,
    "start_time": "2022-12-23T12:59:53.483Z"
   },
   {
    "duration": 47,
    "start_time": "2022-12-23T12:59:53.573Z"
   },
   {
    "duration": 9,
    "start_time": "2022-12-23T12:59:53.621Z"
   },
   {
    "duration": 25,
    "start_time": "2022-12-23T12:59:53.631Z"
   },
   {
    "duration": 15,
    "start_time": "2022-12-23T12:59:53.658Z"
   },
   {
    "duration": 25,
    "start_time": "2022-12-23T12:59:53.675Z"
   },
   {
    "duration": 542,
    "start_time": "2022-12-23T12:59:53.702Z"
   },
   {
    "duration": 496,
    "start_time": "2022-12-23T12:59:54.246Z"
   },
   {
    "duration": 37114,
    "start_time": "2022-12-23T12:59:54.744Z"
   },
   {
    "duration": 9,
    "start_time": "2022-12-23T13:00:31.859Z"
   },
   {
    "duration": 9,
    "start_time": "2022-12-23T13:00:31.870Z"
   },
   {
    "duration": 34,
    "start_time": "2022-12-23T13:00:31.881Z"
   },
   {
    "duration": 31,
    "start_time": "2022-12-23T13:00:31.916Z"
   },
   {
    "duration": 20,
    "start_time": "2022-12-23T13:00:31.948Z"
   },
   {
    "duration": 204,
    "start_time": "2022-12-23T13:00:31.972Z"
   },
   {
    "duration": 1276,
    "start_time": "2022-12-23T13:00:32.178Z"
   },
   {
    "duration": 47143,
    "start_time": "2022-12-23T13:00:33.455Z"
   },
   {
    "duration": 112,
    "start_time": "2022-12-23T13:01:20.600Z"
   },
   {
    "duration": 34,
    "start_time": "2022-12-23T13:01:20.714Z"
   },
   {
    "duration": 7,
    "start_time": "2022-12-23T13:01:20.750Z"
   },
   {
    "duration": 7,
    "start_time": "2022-12-23T13:01:20.797Z"
   },
   {
    "duration": 8,
    "start_time": "2022-12-23T13:01:20.806Z"
   },
   {
    "duration": 9,
    "start_time": "2022-12-23T13:01:20.816Z"
   },
   {
    "duration": 287,
    "start_time": "2022-12-23T13:01:20.827Z"
   },
   {
    "duration": 3,
    "start_time": "2022-12-23T13:01:21.117Z"
   },
   {
    "duration": 10,
    "start_time": "2022-12-23T13:01:21.122Z"
   },
   {
    "duration": 7,
    "start_time": "2022-12-23T13:01:21.134Z"
   },
   {
    "duration": 167,
    "start_time": "2022-12-23T13:01:21.143Z"
   },
   {
    "duration": 187,
    "start_time": "2022-12-23T13:01:21.312Z"
   },
   {
    "duration": 10,
    "start_time": "2022-12-23T13:01:21.500Z"
   },
   {
    "duration": 142,
    "start_time": "2022-12-23T13:01:21.512Z"
   },
   {
    "duration": 10,
    "start_time": "2022-12-23T13:01:21.656Z"
   },
   {
    "duration": 31,
    "start_time": "2022-12-23T13:01:21.667Z"
   },
   {
    "duration": 24885,
    "start_time": "2022-12-23T13:01:21.700Z"
   },
   {
    "duration": 22,
    "start_time": "2022-12-23T13:01:46.587Z"
   },
   {
    "duration": 7,
    "start_time": "2022-12-23T13:01:46.610Z"
   },
   {
    "duration": 10,
    "start_time": "2022-12-23T13:01:46.619Z"
   },
   {
    "duration": 10,
    "start_time": "2022-12-23T13:01:46.631Z"
   },
   {
    "duration": 159,
    "start_time": "2022-12-23T13:01:46.643Z"
   },
   {
    "duration": 69955,
    "start_time": "2022-12-23T13:01:46.803Z"
   },
   {
    "duration": 59,
    "start_time": "2022-12-23T13:02:56.760Z"
   },
   {
    "duration": 9,
    "start_time": "2022-12-23T13:02:56.821Z"
   },
   {
    "duration": 7,
    "start_time": "2022-12-23T13:02:56.831Z"
   },
   {
    "duration": 195,
    "start_time": "2022-12-23T13:02:56.839Z"
   },
   {
    "duration": 34,
    "start_time": "2022-12-23T13:02:57.036Z"
   },
   {
    "duration": 26,
    "start_time": "2022-12-23T13:02:57.072Z"
   },
   {
    "duration": 12,
    "start_time": "2022-12-23T13:02:57.100Z"
   },
   {
    "duration": 9,
    "start_time": "2022-12-23T13:02:57.114Z"
   },
   {
    "duration": 190,
    "start_time": "2022-12-23T13:02:57.125Z"
   },
   {
    "duration": 2110,
    "start_time": "2022-12-23T13:43:38.401Z"
   },
   {
    "duration": 5,
    "start_time": "2022-12-23T13:43:40.514Z"
   },
   {
    "duration": 62,
    "start_time": "2022-12-23T13:43:40.521Z"
   },
   {
    "duration": 16,
    "start_time": "2022-12-23T13:43:40.585Z"
   },
   {
    "duration": 22,
    "start_time": "2022-12-23T13:43:40.603Z"
   },
   {
    "duration": 4,
    "start_time": "2022-12-23T13:43:40.627Z"
   },
   {
    "duration": 11,
    "start_time": "2022-12-23T13:43:40.632Z"
   },
   {
    "duration": 14,
    "start_time": "2022-12-23T13:43:40.645Z"
   },
   {
    "duration": 32,
    "start_time": "2022-12-23T13:43:40.661Z"
   },
   {
    "duration": 46,
    "start_time": "2022-12-23T13:43:40.695Z"
   },
   {
    "duration": 21,
    "start_time": "2022-12-23T13:43:40.743Z"
   },
   {
    "duration": 28,
    "start_time": "2022-12-23T13:43:40.765Z"
   },
   {
    "duration": 25,
    "start_time": "2022-12-23T13:43:40.795Z"
   },
   {
    "duration": 45,
    "start_time": "2022-12-23T13:43:40.822Z"
   },
   {
    "duration": 41,
    "start_time": "2022-12-23T13:43:40.869Z"
   },
   {
    "duration": 22,
    "start_time": "2022-12-23T13:43:40.911Z"
   },
   {
    "duration": 38,
    "start_time": "2022-12-23T13:43:40.935Z"
   },
   {
    "duration": 56,
    "start_time": "2022-12-23T13:43:40.975Z"
   },
   {
    "duration": 43,
    "start_time": "2022-12-23T13:43:41.032Z"
   },
   {
    "duration": 547,
    "start_time": "2022-12-23T13:43:41.077Z"
   },
   {
    "duration": 493,
    "start_time": "2022-12-23T13:43:41.626Z"
   },
   {
    "duration": 37094,
    "start_time": "2022-12-23T13:43:42.121Z"
   },
   {
    "duration": 11,
    "start_time": "2022-12-23T13:44:19.217Z"
   },
   {
    "duration": 27,
    "start_time": "2022-12-23T13:44:19.231Z"
   },
   {
    "duration": 41,
    "start_time": "2022-12-23T13:44:19.260Z"
   },
   {
    "duration": 26,
    "start_time": "2022-12-23T13:44:19.302Z"
   },
   {
    "duration": 15,
    "start_time": "2022-12-23T13:44:19.329Z"
   },
   {
    "duration": 185,
    "start_time": "2022-12-23T13:44:19.348Z"
   },
   {
    "duration": 1237,
    "start_time": "2022-12-23T13:44:19.535Z"
   },
   {
    "duration": 22930,
    "start_time": "2022-12-23T13:44:20.774Z"
   },
   {
    "duration": 109,
    "start_time": "2022-12-23T13:44:43.706Z"
   },
   {
    "duration": 32,
    "start_time": "2022-12-23T13:44:43.817Z"
   },
   {
    "duration": 5,
    "start_time": "2022-12-23T13:44:43.851Z"
   },
   {
    "duration": 40,
    "start_time": "2022-12-23T13:44:43.858Z"
   },
   {
    "duration": 8,
    "start_time": "2022-12-23T13:44:43.900Z"
   },
   {
    "duration": 9,
    "start_time": "2022-12-23T13:44:43.910Z"
   },
   {
    "duration": 276,
    "start_time": "2022-12-23T13:44:43.920Z"
   },
   {
    "duration": 3,
    "start_time": "2022-12-23T13:44:44.199Z"
   },
   {
    "duration": 17,
    "start_time": "2022-12-23T13:44:44.204Z"
   },
   {
    "duration": 6,
    "start_time": "2022-12-23T13:44:44.223Z"
   },
   {
    "duration": 157,
    "start_time": "2022-12-23T13:44:44.230Z"
   },
   {
    "duration": 168,
    "start_time": "2022-12-23T13:44:44.396Z"
   },
   {
    "duration": 10,
    "start_time": "2022-12-23T13:44:44.566Z"
   },
   {
    "duration": 138,
    "start_time": "2022-12-23T13:44:44.577Z"
   },
   {
    "duration": 10,
    "start_time": "2022-12-23T13:44:44.717Z"
   },
   {
    "duration": 16,
    "start_time": "2022-12-23T13:44:44.728Z"
   },
   {
    "duration": 24469,
    "start_time": "2022-12-23T13:44:44.745Z"
   },
   {
    "duration": 15,
    "start_time": "2022-12-23T13:45:09.216Z"
   },
   {
    "duration": 11,
    "start_time": "2022-12-23T13:45:09.233Z"
   },
   {
    "duration": 34,
    "start_time": "2022-12-23T13:45:09.246Z"
   },
   {
    "duration": 21,
    "start_time": "2022-12-23T13:45:09.282Z"
   },
   {
    "duration": 141,
    "start_time": "2022-12-23T13:45:09.304Z"
   },
   {
    "duration": 68604,
    "start_time": "2022-12-23T13:45:09.447Z"
   },
   {
    "duration": 60,
    "start_time": "2022-12-23T13:46:18.053Z"
   },
   {
    "duration": 10,
    "start_time": "2022-12-23T13:46:18.115Z"
   },
   {
    "duration": 6,
    "start_time": "2022-12-23T13:46:18.127Z"
   },
   {
    "duration": 193,
    "start_time": "2022-12-23T13:46:18.135Z"
   },
   {
    "duration": 36,
    "start_time": "2022-12-23T13:46:18.330Z"
   },
   {
    "duration": 8,
    "start_time": "2022-12-23T13:46:18.368Z"
   },
   {
    "duration": 17,
    "start_time": "2022-12-23T13:46:18.397Z"
   },
   {
    "duration": 11,
    "start_time": "2022-12-23T13:46:18.416Z"
   },
   {
    "duration": 201,
    "start_time": "2022-12-23T13:46:18.428Z"
   },
   {
    "duration": 52,
    "start_time": "2022-12-23T16:13:01.527Z"
   },
   {
    "duration": 197,
    "start_time": "2022-12-23T16:13:26.646Z"
   },
   {
    "duration": 218,
    "start_time": "2022-12-23T16:14:28.166Z"
   },
   {
    "duration": 546,
    "start_time": "2022-12-23T16:14:41.423Z"
   },
   {
    "duration": 875,
    "start_time": "2022-12-23T16:14:47.822Z"
   },
   {
    "duration": 237,
    "start_time": "2022-12-23T16:14:56.043Z"
   },
   {
    "duration": 4283,
    "start_time": "2022-12-23T16:22:06.821Z"
   },
   {
    "duration": 16559,
    "start_time": "2022-12-23T16:22:48.437Z"
   },
   {
    "duration": 6002,
    "start_time": "2022-12-23T16:23:21.799Z"
   },
   {
    "duration": 4135,
    "start_time": "2022-12-23T16:23:34.591Z"
   },
   {
    "duration": 11242,
    "start_time": "2022-12-23T16:23:55.062Z"
   },
   {
    "duration": 144154,
    "start_time": "2022-12-23T16:24:18.434Z"
   },
   {
    "duration": 63217,
    "start_time": "2022-12-23T16:28:27.482Z"
   },
   {
    "duration": 141755,
    "start_time": "2022-12-23T16:31:09.872Z"
   },
   {
    "duration": 29256,
    "start_time": "2022-12-23T16:40:49.845Z"
   },
   {
    "duration": 29020,
    "start_time": "2022-12-23T16:42:05.181Z"
   },
   {
    "duration": 146486,
    "start_time": "2022-12-23T17:09:51.014Z"
   },
   {
    "duration": 175,
    "start_time": "2022-12-23T17:13:19.295Z"
   },
   {
    "duration": 10,
    "start_time": "2022-12-23T17:13:21.713Z"
   },
   {
    "duration": 144,
    "start_time": "2022-12-23T17:13:23.471Z"
   },
   {
    "duration": 242,
    "start_time": "2022-12-23T17:14:21.772Z"
   },
   {
    "duration": 1751,
    "start_time": "2022-12-23T17:14:59.912Z"
   },
   {
    "duration": 1597,
    "start_time": "2022-12-23T17:15:26.247Z"
   },
   {
    "duration": 1769,
    "start_time": "2022-12-23T17:16:22.650Z"
   },
   {
    "duration": 10,
    "start_time": "2022-12-23T17:16:26.446Z"
   },
   {
    "duration": 201,
    "start_time": "2022-12-23T17:17:13.480Z"
   },
   {
    "duration": 1734,
    "start_time": "2022-12-23T17:17:45.928Z"
   },
   {
    "duration": 133,
    "start_time": "2022-12-23T17:17:49.915Z"
   },
   {
    "duration": 127,
    "start_time": "2022-12-23T17:18:31.957Z"
   },
   {
    "duration": 49629,
    "start_time": "2022-12-23T17:20:32.385Z"
   },
   {
    "duration": 210,
    "start_time": "2022-12-23T17:21:22.021Z"
   },
   {
    "duration": 40,
    "start_time": "2022-12-23T17:22:57.745Z"
   },
   {
    "duration": 63,
    "start_time": "2022-12-23T17:32:47.055Z"
   },
   {
    "duration": 133,
    "start_time": "2022-12-23T17:33:27.884Z"
   },
   {
    "duration": 682,
    "start_time": "2022-12-23T17:38:30.981Z"
   },
   {
    "duration": 129,
    "start_time": "2022-12-23T17:38:36.582Z"
   },
   {
    "duration": 49027,
    "start_time": "2022-12-23T17:43:40.284Z"
   },
   {
    "duration": 352,
    "start_time": "2022-12-23T17:45:29.054Z"
   },
   {
    "duration": 141,
    "start_time": "2022-12-23T17:45:30.691Z"
   },
   {
    "duration": 644,
    "start_time": "2022-12-23T17:57:00.658Z"
   },
   {
    "duration": 610,
    "start_time": "2022-12-23T17:57:19.396Z"
   },
   {
    "duration": 119,
    "start_time": "2022-12-23T17:57:21.297Z"
   },
   {
    "duration": 40,
    "start_time": "2022-12-23T18:43:59.428Z"
   },
   {
    "duration": 122,
    "start_time": "2022-12-23T18:44:15.259Z"
   },
   {
    "duration": 655,
    "start_time": "2022-12-23T18:45:35.743Z"
   },
   {
    "duration": 134,
    "start_time": "2022-12-23T18:45:36.606Z"
   },
   {
    "duration": 629,
    "start_time": "2022-12-23T18:46:35.306Z"
   },
   {
    "duration": 119,
    "start_time": "2022-12-23T18:46:36.902Z"
   },
   {
    "duration": 259,
    "start_time": "2022-12-23T18:47:43.347Z"
   },
   {
    "duration": 120,
    "start_time": "2022-12-23T18:47:44.854Z"
   },
   {
    "duration": 44,
    "start_time": "2022-12-23T18:48:21.946Z"
   },
   {
    "duration": 119,
    "start_time": "2022-12-23T18:48:23.348Z"
   },
   {
    "duration": 1622,
    "start_time": "2022-12-23T18:51:24.875Z"
   },
   {
    "duration": 1678,
    "start_time": "2022-12-23T18:51:55.800Z"
   },
   {
    "duration": 139008,
    "start_time": "2022-12-23T18:55:39.589Z"
   },
   {
    "duration": 27777,
    "start_time": "2022-12-23T19:01:40.231Z"
   },
   {
    "duration": 29346,
    "start_time": "2022-12-23T19:02:29.554Z"
   },
   {
    "duration": 216808,
    "start_time": "2022-12-23T19:07:09.998Z"
   },
   {
    "duration": 14109,
    "start_time": "2022-12-23T19:10:55.894Z"
   },
   {
    "duration": 109,
    "start_time": "2022-12-23T19:44:39.320Z"
   },
   {
    "duration": 27,
    "start_time": "2022-12-23T19:44:54.645Z"
   },
   {
    "duration": 9,
    "start_time": "2022-12-23T19:48:00.819Z"
   },
   {
    "duration": 32,
    "start_time": "2022-12-23T19:48:36.907Z"
   },
   {
    "duration": 7,
    "start_time": "2022-12-23T19:48:38.083Z"
   },
   {
    "duration": 34,
    "start_time": "2022-12-23T19:54:43.726Z"
   },
   {
    "duration": 6,
    "start_time": "2022-12-23T19:54:46.078Z"
   },
   {
    "duration": 7,
    "start_time": "2022-12-23T19:56:09.218Z"
   },
   {
    "duration": 13,
    "start_time": "2022-12-23T19:58:49.618Z"
   },
   {
    "duration": 14,
    "start_time": "2022-12-23T19:59:48.741Z"
   },
   {
    "duration": 9,
    "start_time": "2022-12-23T20:00:29.250Z"
   },
   {
    "duration": 7,
    "start_time": "2022-12-23T20:02:48.266Z"
   },
   {
    "duration": 144,
    "start_time": "2022-12-23T20:03:46.817Z"
   }
  ],
  "colab": {
   "provenance": []
  },
  "kernelspec": {
   "display_name": "Python 3 (ipykernel)",
   "language": "python",
   "name": "python3"
  },
  "language_info": {
   "codemirror_mode": {
    "name": "ipython",
    "version": 3
   },
   "file_extension": ".py",
   "mimetype": "text/x-python",
   "name": "python",
   "nbconvert_exporter": "python",
   "pygments_lexer": "ipython3",
   "version": "3.9.12"
  },
  "toc": {
   "base_numbering": 1,
   "nav_menu": {},
   "number_sections": true,
   "sideBar": true,
   "skip_h1_title": true,
   "title_cell": "Содержание",
   "title_sidebar": "Contents",
   "toc_cell": true,
   "toc_position": {
    "height": "calc(100% - 180px)",
    "left": "10px",
    "top": "150px",
    "width": "288.2px"
   },
   "toc_section_display": true,
   "toc_window_display": false
  }
 },
 "nbformat": 4,
 "nbformat_minor": 4
}
